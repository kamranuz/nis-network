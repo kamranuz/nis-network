{
 "cells": [
  {
   "cell_type": "markdown",
   "id": "58ba7b42-35a7-45b4-81e5-8e837198a1c2",
   "metadata": {},
   "source": [
    "# Первичные обработка и анализ данных о состоянии стран"
   ]
  },
  {
   "cell_type": "markdown",
   "id": "1a738977-904c-424b-b71d-ec7190eed0dd",
   "metadata": {
    "tags": []
   },
   "source": [
    "## Содержание\n",
    "\n",
    "\n",
    "- [Краткое описание источников данных](#ch1)\n",
    "- [Краткое описание данных](#ch2)\n",
    "    - [Данные о гуманитарной помощи CBPF](#ch21)\n",
    "    - [Данные о благосостоянии стран](#ch22)\n",
    "- [Предобработка данных](#ch3)\n",
    "- [Рассмотрение выбросов и общей статистики](#ch4)\n",
    "    - [Population](#ch41)\n",
    "    - [Life expectancy](#ch42)\n",
    "    - [Prevalence of undernourishment](#ch43)\n",
    "    - [People using at least basic drinking water services](#ch44)\n",
    "    - [People using at least basic sanitation services](#ch45)\n",
    "    - [Child mortality](#ch46)\n",
    "    - [Average Total Years of Schooling for Adult Population](#ch47)\n",
    "    - [GDP per capita](#ch48)\n",
    "    - [Access to electricity](#ch49)\n",
    "    - [Primary energy consumption per capita](#ch410)\n",
    "    - [Annual CO2 emissions per capita](#ch411)\n",
    "- [Страны-выбросы-антилидеры по выделенным критериям](#ch50)"
   ]
  },
  {
   "cell_type": "markdown",
   "id": "42542b46-d919-4cbe-81b3-19a8931b14aa",
   "metadata": {},
   "source": [
    "## Краткое описание источников данных <a class=\"anchor\" id=\"ch1\"></a>"
   ]
  },
  {
   "cell_type": "markdown",
   "id": "d5f808c0-c4ff-4d90-bd96-cac3f2c313ee",
   "metadata": {},
   "source": [
    "Мы используем данные о благосостоянии стран из источника: https://ourworldindata.org/12-key-metrics (**Our World In Data**)\n",
    "\n",
    "Our World In Data is a project of the Global Change Data Lab, a registered charity in England and Wales. This project is supported by University of Oxford.\n",
    "\n",
    "Этот проект, в частности, использует данные из следующих источников:\n",
    "* World Bank Data (https://pip.worldbank.org/)\n",
    "* World Development Indicators - World Bank (https://datacatalog.worldbank.org/search/dataset/0037712/World-Development-Indicators)\n",
    "* United Nations - Population Division (https://population.un.org/wpp/Download/Standard/Population/)\n",
    "* Gapminder (https://www.gapminder.org/data/documentation/gd005/)\n",
    "* World Health Organization, UNICEF (https://datacatalog.worldbank.org/search/dataset/0037712/World-Development-Indicators)\n",
    "\n",
    "Также мы берём данные о деятельности организации гуманитарной помощи CBPF за 2016 год из источника: https://cbpf.data.unocha.org/#anchor-1 (**CBPF**). \n",
    "CBPF имеет поддержку от ООН.\n"
   ]
  },
  {
   "cell_type": "markdown",
   "id": "e36ccc2c-b6f5-45e7-8f38-a390d017e34b",
   "metadata": {
    "tags": []
   },
   "source": [
    "## Краткое описание  данных <a class=\"anchor\" id=\"ch2\"></a>"
   ]
  },
  {
   "cell_type": "markdown",
   "id": "240f8be5-81c8-4b58-9e33-fd4b51747a45",
   "metadata": {},
   "source": [
    "### Данные о гуманитарной помощи CBPF <a class=\"anchor\" id=\"ch21\"></a>"
   ]
  },
  {
   "cell_type": "markdown",
   "id": "acc81b35-adc3-436a-84c3-e3b366257f63",
   "metadata": {},
   "source": [
    "Мы используем данные об оказанной гуманитарной помощи нуждающимся странам в рамках CBPF. \n",
    "\n",
    "На рисунке ниже обозначены:\n",
    "* страны-доноры (голубой цвет)\n",
    "* страны-реципиенты (оранжевый цвет)"
   ]
  },
  {
   "cell_type": "markdown",
   "id": "1a39a366-ef59-41aa-8c65-cb8dad1ad9c3",
   "metadata": {},
   "source": [
    "<img src=\"https://github.com/kamranuz/nis-network/blob/master/Data/ContributionsFlow__20221031_161617_UTC.png?raw=true\" width=\"800\"  />"
   ]
  },
  {
   "cell_type": "markdown",
   "id": "84c23bab-38db-4bd7-bb47-870a7c42acfc",
   "metadata": {},
   "source": [
    "Мы имеем следующие данные по каждой выплате в рамках гуманитарной помощи CBPF за 2016 год:\n",
    "\n",
    "1. Страна-донор\n",
    "2. Страна-реципиент\n",
    "3. Выплаченная сумма (в $)\n",
    "4. Местная валюта\n",
    "5. Курс обмена\n",
    "6. Выплаченная сумма\n",
    "7. Итоговые затраты"
   ]
  },
  {
   "cell_type": "markdown",
   "id": "1bdf9373-bb7f-4d49-9bdb-2ade7eff3427",
   "metadata": {},
   "source": [
    "### Данные о благосостоянии стран <a class=\"anchor\" id=\"ch22\"></a>"
   ]
  },
  {
   "cell_type": "markdown",
   "id": "1d9dfc3e-ff60-4390-b1a3-0fdd94aa86e1",
   "metadata": {},
   "source": [
    "Мы оценивем **страны, участвующие в CBPF в 2016 году,** по следующим признакам:\n",
    "1. Population (Население)\n",
    "2. Life expectancy (Продолжительность жизни)\n",
    "3. Hunger and Undernourishment (Голод)\n",
    "4. Access to improved water sources (Доступ к источникам питьевой воды)\n",
    "5. Access to improved sanitation (Доступ к базовым санитарным условиям)\n",
    "6. Child mortality (Детская смертность)\n",
    "<!-- 7. Extreme Poverty (Экстремальная бедность) (*требуется обогащение данных*) -->\n",
    "7. Education – years of schooling and literacy (Среднее количество лет обучения в школе)\n",
    "8. Gross Domestic Product (GDP) per capita (ВВП на душу населения)\n",
    "9. Energy Access (Доступ к электричеству)\n",
    "10. Energy Use (Использование электричества)\n",
    "11. CO$_2$  emissions (Выбросы углекислого газа)\n",
    "\n",
    "Мы считаем эти признаки базовыми для формирования представления о благосостоянии страны. Данные показатели отржают прогресс каждой из стран по борьбе с главными мировыми проблемами человечества. На следующих этапах работы мы дополним данные другими признаками. "
   ]
  },
  {
   "cell_type": "markdown",
   "id": "974efe6d-93da-43d2-bd08-26ef94b9d94e",
   "metadata": {
    "tags": []
   },
   "source": [
    "#### Population (Население)"
   ]
  },
  {
   "cell_type": "markdown",
   "id": "b67458ef-19ad-470f-9bb9-eaf08e920efe",
   "metadata": {},
   "source": [
    "* Название признака: `Population`\n",
    "* Измеряется как: Количество человек, живущих в стране\n",
    "\n",
    "If we want to understand what are the living conditions across the world, knowing how people are distributed across the world is key. Many other metrics in this work are obtained per capita.\n",
    "\n",
    "<img src=\"https://github.com/kamranuz/nis-network/blob/master/Data/population.png?raw=true\" width=\"800\"  />"
   ]
  },
  {
   "cell_type": "markdown",
   "id": "7e30eff8-cfa8-40db-be90-d19764cc5824",
   "metadata": {},
   "source": [
    "#### Life expectancy (Продолжительность жизни)\n",
    "\n",
    "* Название признака: `Life expectancy`\n",
    "* Измеряется как: Среднее количество лет жизни\n",
    "\n",
    "Life expectancy is one of the most indicative metrics to evaluate our progress on improving health across the world. It is not only reflective of increasing longevity and maximum lifespans, but is also a strong reflection of child health and mortality.\n",
    "\n",
    "<img src=\"https://github.com/kamranuz/nis-network/blob/master/Data/life-expectancy.png?raw=true\" width=\"800\"  />"
   ]
  },
  {
   "cell_type": "markdown",
   "id": "371ca7fb-7625-4f3b-b907-d4925c878f74",
   "metadata": {},
   "source": [
    "#### Hunger and Undernourishment (Голод)"
   ]
  },
  {
   "cell_type": "markdown",
   "id": "8bb07cea-9d5c-4e71-969c-f113a45d5012",
   "metadata": {},
   "source": [
    "* Название признака: `Prevalence of undernourishment (% of population)`\n",
    "* Измеряется как: Процент голодающих от всего населения страны\n",
    "\n",
    "Hunger – also often referred to as undernourishment – is defined as having a calorie (i.e. energy) intake which is below an individual’s minimum requirements to lead a healthy life.\n",
    "\n",
    "<img src=\"https://github.com/kamranuz/nis-network/blob/master/Data/prevalence-of-undernourishment.png?raw=true\" width=\"800\"  />"
   ]
  },
  {
   "cell_type": "markdown",
   "id": "e8af2b6e-0671-400b-9aaa-0571d693babf",
   "metadata": {},
   "source": [
    "#### Access to improved water sources (Доступ к источникам питьевой воды)"
   ]
  },
  {
   "cell_type": "markdown",
   "id": "088439c8-0fc1-41cc-8603-ffae5905e4c8",
   "metadata": {},
   "source": [
    "* Название признака: `People using at least basic drinking water services (% of population)`\n",
    "* Измеряется как: Процент использующих источники питьевой воды от всего населения страны\n",
    "\n",
    "Access to clean water is a basic human need and right. Unsafe water is leading risk factors for death, particularly in low-income countries. This is especially true for children: around one million annual child deaths are attributed to unsafe water, sanitation and poor hygiene.\n",
    "\n",
    "An \"improved\" drinking water source is defined as piped water on premises (piped household water connection located inside the user’s dwelling, plot or yard), or other improved drinking water sources (public taps or standpipes, tube wells or boreholes, protected dug wells, protected springs, and rainwater collection).\n",
    "\n",
    "<img src=\"https://github.com/kamranuz/nis-network/blob/master/Data/share-of-the-population-with-access-to-improved-drinking-water.png?raw=true\" width=\"800\"  />"
   ]
  },
  {
   "cell_type": "markdown",
   "id": "ef1797c7-f7be-40d3-8756-2ae8f5d23b2b",
   "metadata": {},
   "source": [
    "#### Access to improved sanitation (Доступ к базовым санитарным условиям)"
   ]
  },
  {
   "cell_type": "markdown",
   "id": "79f5a8f5-29fd-4f67-95f8-73d85b3660b5",
   "metadata": {},
   "source": [
    "* Название признака: `People using at least basic sanitation services (% of population)`\n",
    "* Измеряется как: Процент людей, использующих базовые санитарные средства, от всего населения страны\n",
    "\n",
    "\"Improved\" sanitation facilities include flush/pour flush (to piped sewer system, septic tank, pit latrine), ventilated improved pit (VIP) latrine, pit latrine with slab, and composting toilet.\n",
    "\n",
    "<img src=\"https://github.com/kamranuz/nis-network/blob/master/Data/share-of-population-with-improved-sanitation-faciltities.png?raw=true\" width=\"800\"  />"
   ]
  },
  {
   "cell_type": "markdown",
   "id": "388b21d0-622f-474e-a307-5e057a0d7a21",
   "metadata": {},
   "source": [
    "#### Child mortality (Детская смертность)"
   ]
  },
  {
   "cell_type": "markdown",
   "id": "d8746e9b-3d7d-4151-92f6-a9905fd65c1a",
   "metadata": {},
   "source": [
    "* Название признака: `Child mortality (Select Gapminder, v10) (2017)`\n",
    "* Измеряется как: Процент новорождённых, погибших до возраста 5 лет, от всех новорождённых, достигших возраста 5 лет\n",
    "\n",
    "One of the best indicators of how a country is doing is a newborn’s chances of surviving childhood. How able societies are to protect their children from dying is a crucial benchmark, one that reflects many aspects of development: healthcare, nutrition, maternal health, disease prevention and treatment. We can think of child mortality in some sense as an aggregate indicator of a country’s living conditions. \n",
    "\n",
    "<img src=\"https://github.com/kamranuz/nis-network/blob/master/Data/child-mortality.png?raw=true\" width=\"800\"  />"
   ]
  },
  {
   "cell_type": "markdown",
   "id": "380930b0-d627-4029-88c3-9639aaacf426",
   "metadata": {},
   "source": [
    "#### Education – years of schooling and literacy (Среднее количество лет обучения в школе)"
   ]
  },
  {
   "cell_type": "markdown",
   "id": "8c154cb8-9fbf-436b-96f1-11a87a99c5a3",
   "metadata": {},
   "source": [
    "* Название признака: `Average Total Years of Schooling for Adult Population (Lee-Lee (2016), Barro-Lee (2018) and UNDP (2018))`\n",
    "* Измеряется как: Среднее количество лет обучения в школе у людей до 25 лет\n",
    "\n",
    "Education has been one of the most integral drivers and outcomes of global development.\n",
    "\n",
    "The provision of education is now viewed in most parts of the world as a basic right – with pressure on governments to ensure high-quality education for all.\n",
    "\n",
    "<img src=\"https://github.com/kamranuz/nis-network/blob/master/Data/mean-years-of-schooling-long-run.png?raw=true\" width=\"800\"  />"
   ]
  },
  {
   "cell_type": "markdown",
   "id": "a9ced7eb-365d-4f2c-bc74-95872f781543",
   "metadata": {},
   "source": [
    "#### Gross Domestic Product (GDP) per capita (ВВП на душу населения)"
   ]
  },
  {
   "cell_type": "markdown",
   "id": "f275c5f9-465a-4f0a-a85a-ce3dc259e6be",
   "metadata": {},
   "source": [
    "* Название признака: `GDP per capita`\n",
    "\n",
    "Lifting people out of poverty – not just relative to the most extreme poverty line, but relative to higher thresholds – relies on economic growth across the world. Thiks metric is adjusted for price changes over time, and price differences between countries.\n",
    "\n",
    "<img src=\"https://github.com/kamranuz/nis-network/blob/master/Data/gdp-per-capita-worldbank.png?raw=true\" width=\"800\"  />"
   ]
  },
  {
   "cell_type": "markdown",
   "id": "26e48255-fd1d-4485-8916-ea9a1de7a098",
   "metadata": {},
   "source": [
    "#### Energy Access (Доступ к электричеству)"
   ]
  },
  {
   "cell_type": "markdown",
   "id": "d5161a53-2f92-4219-8c81-c5724f4815b7",
   "metadata": {},
   "source": [
    "* Название признака: `Access to electricity (% of population)_x`\n",
    "* Измеряется как: Процент людей, имеющих слабый свет и возможность зарядить телефон в течение 4 часов в день, от всего населения страны\n",
    "\n",
    "Access to energy is a critical aspect of global development. It is enormously important to improve living conditions: through the freeing of time from household chores (for example, washing clothes or cooking); increased productivity; improved healthcare; and digital connections to local and global networks. \n",
    "\n",
    "<img src=\"https://github.com/kamranuz/nis-network/blob/master/Data/share-of-the-population-with-access-to-electricity.png?raw=true\" width=\"800\"  />"
   ]
  },
  {
   "cell_type": "markdown",
   "id": "985dab63-26a9-450a-84ad-1932e20f0cc5",
   "metadata": {},
   "source": [
    "#### Energy Use (Использование электричества)"
   ]
  },
  {
   "cell_type": "markdown",
   "id": "9bf4a0d7-e12a-458e-8d31-194186b3e3a9",
   "metadata": {},
   "source": [
    "* Название признака: `Primary energy consumption per capita (kWh/person)`\n",
    "* Измеряется как: Среднее потребление электричества на душу населения (в киловаттах)\n",
    "\n",
    "Having access to electricity and clean cooking and heating fuels (as we look at above) is a basic requirement to having sufficient energy to live a productive and healthy life. But this doesn’t tell us a lot about the quantity of energy people use. Some households may have access to electricity, but can afford to use only very little. This could be insufficient to meet their needs.\n",
    "\n",
    "<img src=\"https://github.com/kamranuz/nis-network/blob/master/Data/per-capita-energy-use.png?raw=true\" width=\"800\"  />"
   ]
  },
  {
   "cell_type": "markdown",
   "id": "36b0a8ef-8631-4580-b68d-f751f7b96052",
   "metadata": {},
   "source": [
    "#### CO$_2$ emissions"
   ]
  },
  {
   "cell_type": "markdown",
   "id": "ecbf1f78-3901-4cab-886d-a095e3a5b2d9",
   "metadata": {},
   "source": [
    "* Название признака: `Annual CO2 emissions (per capita)`\n",
    "* Измеряется как: Объем выбросов углекислого газа за год на душу населения\n",
    "\n",
    "Economic growth and improving living standards have come at the cost of environmental degradation. One of the key trade-offs between human development and the environment is rising carbon dioxide (CO2) emissions. We know that as people get richer, their CO2 emissions tend to increase. \n",
    "\n",
    "<img src=\"https://github.com/kamranuz/nis-network/blob/master/Data/co-emissions-per-capita.png?raw=true\" width=\"800\"  />"
   ]
  },
  {
   "cell_type": "markdown",
   "id": "5498a2aa-fea0-4480-b36c-d66a1baed232",
   "metadata": {
    "tags": []
   },
   "source": [
    "## Предобработка данных <a class=\"anchor\" id=\"ch3\"></a>"
   ]
  },
  {
   "cell_type": "code",
   "execution_count": 117,
   "id": "bf2eebb8-5ebe-4995-b39d-7e1cb6567339",
   "metadata": {},
   "outputs": [],
   "source": [
    "import pandas as pd\n",
    "import seaborn as sns\n",
    "import numpy as np\n",
    "import matplotlib.pyplot as plt\n",
    "%matplotlib inline\n",
    "\n",
    "import warnings\n",
    "warnings.filterwarnings(\"ignore\")"
   ]
  },
  {
   "cell_type": "code",
   "execution_count": 118,
   "id": "9cbc87dc-5366-41f7-906e-85f0b3e11eee",
   "metadata": {},
   "outputs": [],
   "source": [
    "donations = pd.read_csv('https://raw.githubusercontent.com/kamranuz/nis-network/master/Data/data_merged_2006-2022.csv')\n",
    "codes = pd.read_csv('https://raw.githubusercontent.com/kamranuz/nis-network/master/Data/country_codes.csv')"
   ]
  },
  {
   "cell_type": "code",
   "execution_count": 119,
   "id": "a56f3696-0133-440c-a7ea-8b59c68bde29",
   "metadata": {},
   "outputs": [],
   "source": [
    "#@title opening csv\n",
    "\n",
    "# energy\n",
    "energy_for_food   = pd.read_csv('https://raw.githubusercontent.com/kamranuz/nis-network/master/Data/access-to-clean-fuels-and-technologies-for-cooking.csv') #+ %*100 of population\n",
    "energy_access     = pd.read_csv('https://raw.githubusercontent.com/kamranuz/nis-network/master/Data/share-of-the-population-with-access-to-electricity.csv') #+ %*100 of population\n",
    "energy_use        = pd.read_csv('https://raw.githubusercontent.com/kamranuz/nis-network/master/Data/per-capita-energy-use.csv') #+ kwt per capita\n",
    "\n",
    "# health\n",
    "child_mortality   = pd.read_csv('https://raw.githubusercontent.com/kamranuz/nis-network/master/Data/child-mortality.csv')\n",
    "life_expectancy   = pd.read_csv('https://raw.githubusercontent.com/kamranuz/nis-network/master/Data/life-expectancy.csv') #+ years\n",
    "hunger            = pd.read_csv('https://raw.githubusercontent.com/kamranuz/nis-network/master/Data/prevalence-of-undernourishment.csv') #- % of population\n",
    "sanitation        = pd.read_csv('https://raw.githubusercontent.com/kamranuz/nis-network/master/Data/share-of-population-with-improved-sanitation-faciltities.csv') #+ % of population\n",
    "water             = pd.read_csv('https://raw.githubusercontent.com/kamranuz/nis-network/master/Data/share-of-the-population-with-access-to-improved-drinking-water.csv') #+ % of population\n",
    "\n",
    "# social\n",
    "fertility_rate    = pd.read_csv('https://raw.githubusercontent.com/kamranuz/nis-network/master/Data/children-born-per-woman.csv') #= per woman\n",
    "\n",
    "# ecology\n",
    "co2_emissions     = pd.read_csv('https://raw.githubusercontent.com/kamranuz/nis-network/master/Data/co-emissions-per-capita.csv') #per capita\n",
    "\n",
    "# education\n",
    "literacy_rate     = pd.read_csv('https://raw.githubusercontent.com/kamranuz/nis-network/master/Data/cross-country-literacy-rates.csv') #+ % of population, who can read/write\n",
    "years_of_scooling = pd.read_csv('https://raw.githubusercontent.com/kamranuz/nis-network/master/Data/mean-years-of-schooling-long-run.csv') #+ years\n",
    "\n",
    "# economy\n",
    "gdp_per_capita    = pd.read_csv('https://raw.githubusercontent.com/kamranuz/nis-network/master/Data/maddison-data-gdp-per-capita-in-2011us.csv') #+ per capita\n",
    "population        = pd.read_csv('https://raw.githubusercontent.com/kamranuz/nis-network/master/Data/population-since-1800.csv') #+ population\n",
    "poverty           = pd.read_csv('https://raw.githubusercontent.com/kamranuz/nis-network/master/Data/share-of-population-in-extreme-poverty.csv') #- %*100 of population"
   ]
  },
  {
   "cell_type": "code",
   "execution_count": 120,
   "id": "cbcc49f6-0043-482f-993e-02277b4f1316",
   "metadata": {},
   "outputs": [],
   "source": [
    "#@title merging everything\n",
    "dfs = [\n",
    "# energy    \n",
    "       energy_for_food,   #+ %*100 of population\n",
    "       energy_access,     #+ %*100 of population\n",
    "       energy_use,        #+ kwt per capita\n",
    "       \n",
    "# health       \n",
    "       child_mortality,   #- % of population\n",
    "       life_expectancy,   #+ years\n",
    "      hunger,            #- % of population\n",
    "      sanitation,        #+ % of population\n",
    "      water,             #+ % of population\n",
    "       #fertility_rate,    #= per woman\n",
    "\n",
    "# # ecology\n",
    "       co2_emissions,     #per capita\n",
    "\n",
    "# # education\n",
    "#        literacy_rate,     #+ % of population, who can read/write\n",
    "        years_of_scooling,  #+ years\n",
    "\n",
    "# # economy\n",
    "        gdp_per_capita,    #+ per capita\n",
    "       population,        #+ population\n",
    "        # poverty,           #- %*100 of population\n",
    "       ]\n",
    "# negative_index = [3,5,7]\n",
    "# positive_index = list(set(range(len(dfs)))-set(negative_index))\n",
    "dfs = [i[i['Year'] == 2016].drop(columns='Entity') for i in dfs]\n",
    "\n",
    "df2 = dfs[1].copy()\n",
    "for df in dfs[1:]:\n",
    "    df2 = pd.merge(df2,df,on=['Year','Code']).fillna(0)\n",
    "# df2.head()\n",
    "\n",
    "\n",
    "data = df2.copy()\n",
    "data = data.drop(columns=['Access to electricity (% of population)_y','417485-annotations'],axis = 1)\n",
    "# data.head()"
   ]
  },
  {
   "cell_type": "code",
   "execution_count": 121,
   "id": "6749a597-438a-44e6-9887-21a17c6e16a0",
   "metadata": {},
   "outputs": [],
   "source": [
    "# оставим в датасете наших критериев благосостояния только те страны, которые участвуют в CBPF\n",
    "res1 = pd.merge(donations, codes, how=\"left\", left_on=\"Donor Name\", right_on=\"Entity\")\n",
    "res1 = res1.drop(columns=[\"Entity\"], axis=1)\n",
    "res2 = pd.merge(res1, codes, how=\"left\", left_on=\"CBPF Name\", right_on=\"Entity\")\n",
    "\n",
    "countries = list(res2.Code_x.unique())\n",
    "countries.extend(list(res2.Code_y.unique()))"
   ]
  },
  {
   "cell_type": "code",
   "execution_count": 122,
   "id": "90fd020e-a00e-4fcd-bd6b-a7bb992578d7",
   "metadata": {},
   "outputs": [
    {
     "data": {
      "text/html": [
       "<div>\n",
       "<style scoped>\n",
       "    .dataframe tbody tr th:only-of-type {\n",
       "        vertical-align: middle;\n",
       "    }\n",
       "\n",
       "    .dataframe tbody tr th {\n",
       "        vertical-align: top;\n",
       "    }\n",
       "\n",
       "    .dataframe thead th {\n",
       "        text-align: right;\n",
       "    }\n",
       "</style>\n",
       "<table border=\"1\" class=\"dataframe\">\n",
       "  <thead>\n",
       "    <tr style=\"text-align: right;\">\n",
       "      <th></th>\n",
       "      <th>Code</th>\n",
       "      <th>Year</th>\n",
       "      <th>Access to electricity (% of population)_x</th>\n",
       "      <th>Primary energy consumption per capita (kWh/person)</th>\n",
       "      <th>Child mortality (Select Gapminder, v10) (2017)</th>\n",
       "      <th>Life expectancy</th>\n",
       "      <th>Prevalence of undernourishment (% of population)</th>\n",
       "      <th>People using at least basic sanitation services (% of population)</th>\n",
       "      <th>People using at least basic drinking water services (% of population)</th>\n",
       "      <th>Annual CO2 emissions (per capita)</th>\n",
       "      <th>Average Total Years of Schooling for Adult Population (Lee-Lee (2016), Barro-Lee (2018) and UNDP (2018))</th>\n",
       "      <th>GDP per capita</th>\n",
       "      <th>Population (historical estimates)</th>\n",
       "    </tr>\n",
       "  </thead>\n",
       "  <tbody>\n",
       "    <tr>\n",
       "      <th>0</th>\n",
       "      <td>AFG</td>\n",
       "      <td>2016</td>\n",
       "      <td>97.699997</td>\n",
       "      <td>973.857361</td>\n",
       "      <td>7.04</td>\n",
       "      <td>63.763</td>\n",
       "      <td>22.200001</td>\n",
       "      <td>44.201218</td>\n",
       "      <td>64.054886</td>\n",
       "      <td>0.1906</td>\n",
       "      <td>3.6</td>\n",
       "      <td>1929.0</td>\n",
       "      <td>34636212</td>\n",
       "    </tr>\n",
       "    <tr>\n",
       "      <th>2</th>\n",
       "      <td>DZA</td>\n",
       "      <td>2016</td>\n",
       "      <td>99.350250</td>\n",
       "      <td>15215.155273</td>\n",
       "      <td>2.52</td>\n",
       "      <td>76.298</td>\n",
       "      <td>2.800000</td>\n",
       "      <td>86.605484</td>\n",
       "      <td>93.622780</td>\n",
       "      <td>3.6726</td>\n",
       "      <td>8.0</td>\n",
       "      <td>14331.0</td>\n",
       "      <td>40339328</td>\n",
       "    </tr>\n",
       "    <tr>\n",
       "      <th>5</th>\n",
       "      <td>ARM</td>\n",
       "      <td>2016</td>\n",
       "      <td>99.800003</td>\n",
       "      <td>13946.895508</td>\n",
       "      <td>1.34</td>\n",
       "      <td>74.640</td>\n",
       "      <td>2.800000</td>\n",
       "      <td>93.242012</td>\n",
       "      <td>99.560944</td>\n",
       "      <td>1.7721</td>\n",
       "      <td>11.7</td>\n",
       "      <td>10080.0</td>\n",
       "      <td>2865841</td>\n",
       "    </tr>\n",
       "    <tr>\n",
       "      <th>6</th>\n",
       "      <td>AUS</td>\n",
       "      <td>2016</td>\n",
       "      <td>100.000000</td>\n",
       "      <td>66190.000000</td>\n",
       "      <td>0.37</td>\n",
       "      <td>82.959</td>\n",
       "      <td>2.500000</td>\n",
       "      <td>99.991150</td>\n",
       "      <td>99.969971</td>\n",
       "      <td>17.1434</td>\n",
       "      <td>12.9</td>\n",
       "      <td>48845.0</td>\n",
       "      <td>24195706</td>\n",
       "    </tr>\n",
       "    <tr>\n",
       "      <th>8</th>\n",
       "      <td>AZE</td>\n",
       "      <td>2016</td>\n",
       "      <td>100.000000</td>\n",
       "      <td>17433.673828</td>\n",
       "      <td>3.09</td>\n",
       "      <td>72.493</td>\n",
       "      <td>2.500000</td>\n",
       "      <td>96.121811</td>\n",
       "      <td>93.183563</td>\n",
       "      <td>3.8059</td>\n",
       "      <td>10.7</td>\n",
       "      <td>16645.0</td>\n",
       "      <td>9976254</td>\n",
       "    </tr>\n",
       "  </tbody>\n",
       "</table>\n",
       "</div>"
      ],
      "text/plain": [
       "  Code  Year  Access to electricity (% of population)_x  \\\n",
       "0  AFG  2016                                  97.699997   \n",
       "2  DZA  2016                                  99.350250   \n",
       "5  ARM  2016                                  99.800003   \n",
       "6  AUS  2016                                 100.000000   \n",
       "8  AZE  2016                                 100.000000   \n",
       "\n",
       "   Primary energy consumption per capita (kWh/person)  \\\n",
       "0                                         973.857361    \n",
       "2                                       15215.155273    \n",
       "5                                       13946.895508    \n",
       "6                                       66190.000000    \n",
       "8                                       17433.673828    \n",
       "\n",
       "   Child mortality (Select Gapminder, v10) (2017)  Life expectancy  \\\n",
       "0                                            7.04           63.763   \n",
       "2                                            2.52           76.298   \n",
       "5                                            1.34           74.640   \n",
       "6                                            0.37           82.959   \n",
       "8                                            3.09           72.493   \n",
       "\n",
       "   Prevalence of undernourishment (% of population)  \\\n",
       "0                                         22.200001   \n",
       "2                                          2.800000   \n",
       "5                                          2.800000   \n",
       "6                                          2.500000   \n",
       "8                                          2.500000   \n",
       "\n",
       "   People using at least basic sanitation services (% of population)  \\\n",
       "0                                          44.201218                   \n",
       "2                                          86.605484                   \n",
       "5                                          93.242012                   \n",
       "6                                          99.991150                   \n",
       "8                                          96.121811                   \n",
       "\n",
       "   People using at least basic drinking water services (% of population)  \\\n",
       "0                                          64.054886                       \n",
       "2                                          93.622780                       \n",
       "5                                          99.560944                       \n",
       "6                                          99.969971                       \n",
       "8                                          93.183563                       \n",
       "\n",
       "   Annual CO2 emissions (per capita)  \\\n",
       "0                             0.1906   \n",
       "2                             3.6726   \n",
       "5                             1.7721   \n",
       "6                            17.1434   \n",
       "8                             3.8059   \n",
       "\n",
       "   Average Total Years of Schooling for Adult Population (Lee-Lee (2016), Barro-Lee (2018) and UNDP (2018))  \\\n",
       "0                                                3.6                                                          \n",
       "2                                                8.0                                                          \n",
       "5                                               11.7                                                          \n",
       "6                                               12.9                                                          \n",
       "8                                               10.7                                                          \n",
       "\n",
       "   GDP per capita  Population (historical estimates)  \n",
       "0          1929.0                           34636212  \n",
       "2         14331.0                           40339328  \n",
       "5         10080.0                            2865841  \n",
       "6         48845.0                           24195706  \n",
       "8         16645.0                            9976254  "
      ]
     },
     "execution_count": 122,
     "metadata": {},
     "output_type": "execute_result"
    }
   ],
   "source": [
    "data = data[data[\"Code\"].isin(countries)]\n",
    "data.head()"
   ]
  },
  {
   "cell_type": "markdown",
   "id": "947607ee-e7c0-49db-8bff-4155fe416daa",
   "metadata": {},
   "source": [
    "Остались ли пропуски:"
   ]
  },
  {
   "cell_type": "code",
   "execution_count": 123,
   "id": "60312c36-84f2-4ef1-8330-da2786003ef8",
   "metadata": {},
   "outputs": [
    {
     "data": {
      "text/plain": [
       "False"
      ]
     },
     "execution_count": 123,
     "metadata": {},
     "output_type": "execute_result"
    }
   ],
   "source": [
    "data.isna().any().sum() != 0"
   ]
  },
  {
   "cell_type": "markdown",
   "id": "ccf5f672-1097-4f71-acdf-a49840854fe2",
   "metadata": {},
   "source": [
    "Количество стран:"
   ]
  },
  {
   "cell_type": "code",
   "execution_count": 124,
   "id": "55ce7b74-e39d-411b-a22c-8bd33989f278",
   "metadata": {},
   "outputs": [
    {
     "data": {
      "text/plain": [
       "72"
      ]
     },
     "execution_count": 124,
     "metadata": {},
     "output_type": "execute_result"
    }
   ],
   "source": [
    "data.shape[0]"
   ]
  },
  {
   "cell_type": "markdown",
   "id": "1bbf36ef-c8f5-4454-be25-eb2d4f390db1",
   "metadata": {
    "tags": []
   },
   "source": [
    "## Рассмотрение выбросов и общей статистики  <a class=\"anchor\" id=\"ch4\"></a>"
   ]
  },
  {
   "cell_type": "code",
   "execution_count": 125,
   "id": "020f6f57-e089-4ab9-83d9-5815b6159b79",
   "metadata": {},
   "outputs": [
    {
     "data": {
      "text/html": [
       "<div>\n",
       "<style scoped>\n",
       "    .dataframe tbody tr th:only-of-type {\n",
       "        vertical-align: middle;\n",
       "    }\n",
       "\n",
       "    .dataframe tbody tr th {\n",
       "        vertical-align: top;\n",
       "    }\n",
       "\n",
       "    .dataframe thead th {\n",
       "        text-align: right;\n",
       "    }\n",
       "</style>\n",
       "<table border=\"1\" class=\"dataframe\">\n",
       "  <thead>\n",
       "    <tr style=\"text-align: right;\">\n",
       "      <th></th>\n",
       "      <th>Year</th>\n",
       "      <th>Access to electricity (% of population)_x</th>\n",
       "      <th>Primary energy consumption per capita (kWh/person)</th>\n",
       "      <th>Child mortality (Select Gapminder, v10) (2017)</th>\n",
       "      <th>Life expectancy</th>\n",
       "      <th>Prevalence of undernourishment (% of population)</th>\n",
       "      <th>People using at least basic sanitation services (% of population)</th>\n",
       "      <th>People using at least basic drinking water services (% of population)</th>\n",
       "      <th>Annual CO2 emissions (per capita)</th>\n",
       "      <th>Average Total Years of Schooling for Adult Population (Lee-Lee (2016), Barro-Lee (2018) and UNDP (2018))</th>\n",
       "      <th>GDP per capita</th>\n",
       "      <th>Population (historical estimates)</th>\n",
       "    </tr>\n",
       "  </thead>\n",
       "  <tbody>\n",
       "    <tr>\n",
       "      <th>count</th>\n",
       "      <td>72.0</td>\n",
       "      <td>72.000000</td>\n",
       "      <td>72.000000</td>\n",
       "      <td>72.000000</td>\n",
       "      <td>72.000000</td>\n",
       "      <td>72.000000</td>\n",
       "      <td>72.000000</td>\n",
       "      <td>72.000000</td>\n",
       "      <td>72.000000</td>\n",
       "      <td>72.000000</td>\n",
       "      <td>72.000000</td>\n",
       "      <td>7.200000e+01</td>\n",
       "    </tr>\n",
       "    <tr>\n",
       "      <th>mean</th>\n",
       "      <td>2016.0</td>\n",
       "      <td>90.637915</td>\n",
       "      <td>33763.441130</td>\n",
       "      <td>2.093889</td>\n",
       "      <td>75.053333</td>\n",
       "      <td>7.955556</td>\n",
       "      <td>83.322939</td>\n",
       "      <td>91.513631</td>\n",
       "      <td>5.977899</td>\n",
       "      <td>9.615278</td>\n",
       "      <td>24490.777778</td>\n",
       "      <td>6.173302e+07</td>\n",
       "    </tr>\n",
       "    <tr>\n",
       "      <th>std</th>\n",
       "      <td>0.0</td>\n",
       "      <td>19.716731</td>\n",
       "      <td>35321.365599</td>\n",
       "      <td>2.575637</td>\n",
       "      <td>7.029265</td>\n",
       "      <td>10.416967</td>\n",
       "      <td>25.136659</td>\n",
       "      <td>13.889763</td>\n",
       "      <td>5.538187</td>\n",
       "      <td>3.046201</td>\n",
       "      <td>19315.262513</td>\n",
       "      <td>1.657060e+08</td>\n",
       "    </tr>\n",
       "    <tr>\n",
       "      <th>min</th>\n",
       "      <td>2016.0</td>\n",
       "      <td>20.299999</td>\n",
       "      <td>604.840393</td>\n",
       "      <td>0.210000</td>\n",
       "      <td>53.444000</td>\n",
       "      <td>2.500000</td>\n",
       "      <td>7.779459</td>\n",
       "      <td>43.607079</td>\n",
       "      <td>0.123500</td>\n",
       "      <td>2.700000</td>\n",
       "      <td>1381.000000</td>\n",
       "      <td>3.356770e+05</td>\n",
       "    </tr>\n",
       "    <tr>\n",
       "      <th>25%</th>\n",
       "      <td>2016.0</td>\n",
       "      <td>97.590002</td>\n",
       "      <td>9309.879761</td>\n",
       "      <td>0.387500</td>\n",
       "      <td>70.976750</td>\n",
       "      <td>2.500000</td>\n",
       "      <td>76.525938</td>\n",
       "      <td>90.504152</td>\n",
       "      <td>1.901275</td>\n",
       "      <td>7.650000</td>\n",
       "      <td>10703.250000</td>\n",
       "      <td>5.653946e+06</td>\n",
       "    </tr>\n",
       "    <tr>\n",
       "      <th>50%</th>\n",
       "      <td>2016.0</td>\n",
       "      <td>100.000000</td>\n",
       "      <td>23942.261719</td>\n",
       "      <td>0.870000</td>\n",
       "      <td>76.206500</td>\n",
       "      <td>2.500000</td>\n",
       "      <td>96.567703</td>\n",
       "      <td>98.204353</td>\n",
       "      <td>4.781850</td>\n",
       "      <td>10.350000</td>\n",
       "      <td>18159.500000</td>\n",
       "      <td>1.808122e+07</td>\n",
       "    </tr>\n",
       "    <tr>\n",
       "      <th>75%</th>\n",
       "      <td>2016.0</td>\n",
       "      <td>100.000000</td>\n",
       "      <td>41366.859375</td>\n",
       "      <td>2.797500</td>\n",
       "      <td>81.199750</td>\n",
       "      <td>7.650000</td>\n",
       "      <td>99.314329</td>\n",
       "      <td>99.919399</td>\n",
       "      <td>8.347900</td>\n",
       "      <td>12.225000</td>\n",
       "      <td>37262.750000</td>\n",
       "      <td>4.769314e+07</td>\n",
       "    </tr>\n",
       "    <tr>\n",
       "      <th>max</th>\n",
       "      <td>2016.0</td>\n",
       "      <td>100.000000</td>\n",
       "      <td>184948.859375</td>\n",
       "      <td>11.350000</td>\n",
       "      <td>84.090000</td>\n",
       "      <td>46.700001</td>\n",
       "      <td>100.000000</td>\n",
       "      <td>100.000000</td>\n",
       "      <td>25.489600</td>\n",
       "      <td>14.100000</td>\n",
       "      <td>82814.000000</td>\n",
       "      <td>1.338636e+09</td>\n",
       "    </tr>\n",
       "  </tbody>\n",
       "</table>\n",
       "</div>"
      ],
      "text/plain": [
       "         Year  Access to electricity (% of population)_x  \\\n",
       "count    72.0                                  72.000000   \n",
       "mean   2016.0                                  90.637915   \n",
       "std       0.0                                  19.716731   \n",
       "min    2016.0                                  20.299999   \n",
       "25%    2016.0                                  97.590002   \n",
       "50%    2016.0                                 100.000000   \n",
       "75%    2016.0                                 100.000000   \n",
       "max    2016.0                                 100.000000   \n",
       "\n",
       "       Primary energy consumption per capita (kWh/person)  \\\n",
       "count                                          72.000000    \n",
       "mean                                        33763.441130    \n",
       "std                                         35321.365599    \n",
       "min                                           604.840393    \n",
       "25%                                          9309.879761    \n",
       "50%                                         23942.261719    \n",
       "75%                                         41366.859375    \n",
       "max                                        184948.859375    \n",
       "\n",
       "       Child mortality (Select Gapminder, v10) (2017)  Life expectancy  \\\n",
       "count                                       72.000000        72.000000   \n",
       "mean                                         2.093889        75.053333   \n",
       "std                                          2.575637         7.029265   \n",
       "min                                          0.210000        53.444000   \n",
       "25%                                          0.387500        70.976750   \n",
       "50%                                          0.870000        76.206500   \n",
       "75%                                          2.797500        81.199750   \n",
       "max                                         11.350000        84.090000   \n",
       "\n",
       "       Prevalence of undernourishment (% of population)  \\\n",
       "count                                         72.000000   \n",
       "mean                                           7.955556   \n",
       "std                                           10.416967   \n",
       "min                                            2.500000   \n",
       "25%                                            2.500000   \n",
       "50%                                            2.500000   \n",
       "75%                                            7.650000   \n",
       "max                                           46.700001   \n",
       "\n",
       "       People using at least basic sanitation services (% of population)  \\\n",
       "count                                          72.000000                   \n",
       "mean                                           83.322939                   \n",
       "std                                            25.136659                   \n",
       "min                                             7.779459                   \n",
       "25%                                            76.525938                   \n",
       "50%                                            96.567703                   \n",
       "75%                                            99.314329                   \n",
       "max                                           100.000000                   \n",
       "\n",
       "       People using at least basic drinking water services (% of population)  \\\n",
       "count                                          72.000000                       \n",
       "mean                                           91.513631                       \n",
       "std                                            13.889763                       \n",
       "min                                            43.607079                       \n",
       "25%                                            90.504152                       \n",
       "50%                                            98.204353                       \n",
       "75%                                            99.919399                       \n",
       "max                                           100.000000                       \n",
       "\n",
       "       Annual CO2 emissions (per capita)  \\\n",
       "count                          72.000000   \n",
       "mean                            5.977899   \n",
       "std                             5.538187   \n",
       "min                             0.123500   \n",
       "25%                             1.901275   \n",
       "50%                             4.781850   \n",
       "75%                             8.347900   \n",
       "max                            25.489600   \n",
       "\n",
       "       Average Total Years of Schooling for Adult Population (Lee-Lee (2016), Barro-Lee (2018) and UNDP (2018))  \\\n",
       "count                                          72.000000                                                          \n",
       "mean                                            9.615278                                                          \n",
       "std                                             3.046201                                                          \n",
       "min                                             2.700000                                                          \n",
       "25%                                             7.650000                                                          \n",
       "50%                                            10.350000                                                          \n",
       "75%                                            12.225000                                                          \n",
       "max                                            14.100000                                                          \n",
       "\n",
       "       GDP per capita  Population (historical estimates)  \n",
       "count       72.000000                       7.200000e+01  \n",
       "mean     24490.777778                       6.173302e+07  \n",
       "std      19315.262513                       1.657060e+08  \n",
       "min       1381.000000                       3.356770e+05  \n",
       "25%      10703.250000                       5.653946e+06  \n",
       "50%      18159.500000                       1.808122e+07  \n",
       "75%      37262.750000                       4.769314e+07  \n",
       "max      82814.000000                       1.338636e+09  "
      ]
     },
     "execution_count": 125,
     "metadata": {},
     "output_type": "execute_result"
    }
   ],
   "source": [
    "data.describe()"
   ]
  },
  {
   "cell_type": "markdown",
   "id": "eb108a45-bdbf-426c-a63c-b944a8c59d58",
   "metadata": {
    "tags": []
   },
   "source": [
    "#### Population (historical estimates) <a class=\"anchor\" id=\"ch41\"></a>"
   ]
  },
  {
   "cell_type": "code",
   "execution_count": 126,
   "id": "6877ad9f-d439-4c4f-bd78-7ed384ea4acf",
   "metadata": {},
   "outputs": [
    {
     "data": {
      "text/plain": [
       "<AxesSubplot:title={'center':'Гистограмма признака Население'}, ylabel='Frequency'>"
      ]
     },
     "execution_count": 126,
     "metadata": {},
     "output_type": "execute_result"
    },
    {
     "data": {
      "image/png": "[encoded data removed]",
      "text/plain": [
       "<Figure size 648x360 with 1 Axes>"
      ]
     },
     "metadata": {
      "needs_background": "light"
     },
     "output_type": "display_data"
    }
   ],
   "source": [
    "plt.figure(figsize=(9, 5))\n",
    "data[\"Population (historical estimates)\"].plot(kind='hist', density=1, bins=20, stacked=False, \n",
    "                                                       alpha=.5, color='#53377A', title=\"Гистограмма признака Население\")"
   ]
  },
  {
   "cell_type": "code",
   "execution_count": 127,
   "id": "962403df-1a1f-4ae2-ad6b-a159f4013195",
   "metadata": {},
   "outputs": [
    {
     "data": {
      "image/png": "[encoded data removed]",
      "text/plain": [
       "<Figure size 648x360 with 1 Axes>"
      ]
     },
     "metadata": {
      "needs_background": "light"
     },
     "output_type": "display_data"
    }
   ],
   "source": [
    "plt.figure(figsize=(9, 5))\n",
    "_, bp = data[\"Population (historical estimates)\"].plot.box(return_type='both')"
   ]
  },
  {
   "cell_type": "code",
   "execution_count": 128,
   "id": "ec8d17ab-4f45-4578-b2d1-ff3b15d9868a",
   "metadata": {},
   "outputs": [
    {
     "data": {
      "text/html": [
       "<div>\n",
       "<style scoped>\n",
       "    .dataframe tbody tr th:only-of-type {\n",
       "        vertical-align: middle;\n",
       "    }\n",
       "\n",
       "    .dataframe tbody tr th {\n",
       "        vertical-align: top;\n",
       "    }\n",
       "\n",
       "    .dataframe thead th {\n",
       "        text-align: right;\n",
       "    }\n",
       "</style>\n",
       "<table border=\"1\" class=\"dataframe\">\n",
       "  <thead>\n",
       "    <tr style=\"text-align: right;\">\n",
       "      <th></th>\n",
       "      <th>Code</th>\n",
       "      <th>Year</th>\n",
       "      <th>Access to electricity (% of population)_x</th>\n",
       "      <th>Primary energy consumption per capita (kWh/person)</th>\n",
       "      <th>Child mortality (Select Gapminder, v10) (2017)</th>\n",
       "      <th>Life expectancy</th>\n",
       "      <th>Prevalence of undernourishment (% of population)</th>\n",
       "      <th>People using at least basic sanitation services (% of population)</th>\n",
       "      <th>People using at least basic drinking water services (% of population)</th>\n",
       "      <th>Annual CO2 emissions (per capita)</th>\n",
       "      <th>Average Total Years of Schooling for Adult Population (Lee-Lee (2016), Barro-Lee (2018) and UNDP (2018))</th>\n",
       "      <th>GDP per capita</th>\n",
       "      <th>Population (historical estimates)</th>\n",
       "    </tr>\n",
       "  </thead>\n",
       "  <tbody>\n",
       "    <tr>\n",
       "      <th>60</th>\n",
       "      <td>IND</td>\n",
       "      <td>2016</td>\n",
       "      <td>89.217796</td>\n",
       "      <td>6325.987793</td>\n",
       "      <td>4.3</td>\n",
       "      <td>68.897</td>\n",
       "      <td>14.2</td>\n",
       "      <td>59.587872</td>\n",
       "      <td>88.617409</td>\n",
       "      <td>1.7986</td>\n",
       "      <td>6.4</td>\n",
       "      <td>6125.0</td>\n",
       "      <td>1338636288</td>\n",
       "    </tr>\n",
       "  </tbody>\n",
       "</table>\n",
       "</div>"
      ],
      "text/plain": [
       "   Code  Year  Access to electricity (% of population)_x  \\\n",
       "60  IND  2016                                  89.217796   \n",
       "\n",
       "    Primary energy consumption per capita (kWh/person)  \\\n",
       "60                                        6325.987793    \n",
       "\n",
       "    Child mortality (Select Gapminder, v10) (2017)  Life expectancy  \\\n",
       "60                                             4.3           68.897   \n",
       "\n",
       "    Prevalence of undernourishment (% of population)  \\\n",
       "60                                              14.2   \n",
       "\n",
       "    People using at least basic sanitation services (% of population)  \\\n",
       "60                                          59.587872                   \n",
       "\n",
       "    People using at least basic drinking water services (% of population)  \\\n",
       "60                                          88.617409                       \n",
       "\n",
       "    Annual CO2 emissions (per capita)  \\\n",
       "60                             1.7986   \n",
       "\n",
       "    Average Total Years of Schooling for Adult Population (Lee-Lee (2016), Barro-Lee (2018) and UNDP (2018))  \\\n",
       "60                                                6.4                                                          \n",
       "\n",
       "    GDP per capita  Population (historical estimates)  \n",
       "60          6125.0                         1338636288  "
      ]
     },
     "execution_count": 128,
     "metadata": {},
     "output_type": "execute_result"
    }
   ],
   "source": [
    "upper_bound = data[\"Population (historical estimates)\"].quantile(q=0.995)\n",
    "data[(data[\"Population (historical estimates)\"] > upper_bound)]"
   ]
  },
  {
   "cell_type": "markdown",
   "id": "591584d0-ddc0-40c5-bf80-fd28858c4554",
   "metadata": {},
   "source": [
    "Страны-выбросы с **экстремально большим населением**:\n",
    "* IND (Индия)"
   ]
  },
  {
   "cell_type": "markdown",
   "id": "bc9622a8-2070-4c5a-bf40-6b6b0a342583",
   "metadata": {
    "tags": []
   },
   "source": [
    "#### Life expectancy <a class=\"anchor\" id=\"ch42\"></a>"
   ]
  },
  {
   "cell_type": "code",
   "execution_count": 129,
   "id": "85ea427a-f269-40e2-a903-16ce32ee76aa",
   "metadata": {},
   "outputs": [
    {
     "data": {
      "text/plain": [
       "<AxesSubplot:title={'center':'Гистограмма признака Продолжительность жизни'}, ylabel='Frequency'>"
      ]
     },
     "execution_count": 129,
     "metadata": {},
     "output_type": "execute_result"
    },
    {
     "data": {
      "image/png": "[encoded data removed]",
      "text/plain": [
       "<Figure size 648x360 with 1 Axes>"
      ]
     },
     "metadata": {
      "needs_background": "light"
     },
     "output_type": "display_data"
    }
   ],
   "source": [
    "plt.figure(figsize=(9, 5))\n",
    "data[\"Life expectancy\"].plot(kind='hist', density=1, bins=20, stacked=False, \n",
    "                                                       alpha=.5, color='#53377A', title=\"Гистограмма признака Продолжительность жизни\")"
   ]
  },
  {
   "cell_type": "code",
   "execution_count": 130,
   "id": "9936cace-6303-428f-a714-025087740897",
   "metadata": {},
   "outputs": [
    {
     "data": {
      "image/png": "[encoded data removed]",
      "text/plain": [
       "<Figure size 648x360 with 1 Axes>"
      ]
     },
     "metadata": {
      "needs_background": "light"
     },
     "output_type": "display_data"
    }
   ],
   "source": [
    "plt.figure(figsize=(9, 5))\n",
    "_, bp = data[\"Life expectancy\"].plot.box(return_type='both')"
   ]
  },
  {
   "cell_type": "code",
   "execution_count": 131,
   "id": "d6f58e01-3d35-4726-ba9c-388b1e228e0d",
   "metadata": {},
   "outputs": [
    {
     "data": {
      "text/html": [
       "<div>\n",
       "<style scoped>\n",
       "    .dataframe tbody tr th:only-of-type {\n",
       "        vertical-align: middle;\n",
       "    }\n",
       "\n",
       "    .dataframe tbody tr th {\n",
       "        vertical-align: top;\n",
       "    }\n",
       "\n",
       "    .dataframe thead th {\n",
       "        text-align: right;\n",
       "    }\n",
       "</style>\n",
       "<table border=\"1\" class=\"dataframe\">\n",
       "  <thead>\n",
       "    <tr style=\"text-align: right;\">\n",
       "      <th></th>\n",
       "      <th>Code</th>\n",
       "      <th>Year</th>\n",
       "      <th>Access to electricity (% of population)_x</th>\n",
       "      <th>Primary energy consumption per capita (kWh/person)</th>\n",
       "      <th>Child mortality (Select Gapminder, v10) (2017)</th>\n",
       "      <th>Life expectancy</th>\n",
       "      <th>Prevalence of undernourishment (% of population)</th>\n",
       "      <th>People using at least basic sanitation services (% of population)</th>\n",
       "      <th>People using at least basic drinking water services (% of population)</th>\n",
       "      <th>Annual CO2 emissions (per capita)</th>\n",
       "      <th>Average Total Years of Schooling for Adult Population (Lee-Lee (2016), Barro-Lee (2018) and UNDP (2018))</th>\n",
       "      <th>GDP per capita</th>\n",
       "      <th>Population (historical estimates)</th>\n",
       "    </tr>\n",
       "  </thead>\n",
       "  <tbody>\n",
       "    <tr>\n",
       "      <th>99</th>\n",
       "      <td>NGA</td>\n",
       "      <td>2016</td>\n",
       "      <td>59.299999</td>\n",
       "      <td>2525.175537</td>\n",
       "      <td>10.43</td>\n",
       "      <td>53.541</td>\n",
       "      <td>9.4</td>\n",
       "      <td>39.182011</td>\n",
       "      <td>70.540932</td>\n",
       "      <td>0.6228</td>\n",
       "      <td>6.2</td>\n",
       "      <td>5360.0</td>\n",
       "      <td>188666928</td>\n",
       "    </tr>\n",
       "    <tr>\n",
       "      <th>117</th>\n",
       "      <td>SLE</td>\n",
       "      <td>2016</td>\n",
       "      <td>20.299999</td>\n",
       "      <td>604.840393</td>\n",
       "      <td>11.35</td>\n",
       "      <td>53.444</td>\n",
       "      <td>25.4</td>\n",
       "      <td>15.216355</td>\n",
       "      <td>59.037476</td>\n",
       "      <td>0.1235</td>\n",
       "      <td>3.4</td>\n",
       "      <td>1619.0</td>\n",
       "      <td>7493918</td>\n",
       "    </tr>\n",
       "  </tbody>\n",
       "</table>\n",
       "</div>"
      ],
      "text/plain": [
       "    Code  Year  Access to electricity (% of population)_x  \\\n",
       "99   NGA  2016                                  59.299999   \n",
       "117  SLE  2016                                  20.299999   \n",
       "\n",
       "     Primary energy consumption per capita (kWh/person)  \\\n",
       "99                                         2525.175537    \n",
       "117                                         604.840393    \n",
       "\n",
       "     Child mortality (Select Gapminder, v10) (2017)  Life expectancy  \\\n",
       "99                                            10.43           53.541   \n",
       "117                                           11.35           53.444   \n",
       "\n",
       "     Prevalence of undernourishment (% of population)  \\\n",
       "99                                                9.4   \n",
       "117                                              25.4   \n",
       "\n",
       "     People using at least basic sanitation services (% of population)  \\\n",
       "99                                           39.182011                   \n",
       "117                                          15.216355                   \n",
       "\n",
       "     People using at least basic drinking water services (% of population)  \\\n",
       "99                                           70.540932                       \n",
       "117                                          59.037476                       \n",
       "\n",
       "     Annual CO2 emissions (per capita)  \\\n",
       "99                              0.6228   \n",
       "117                             0.1235   \n",
       "\n",
       "     Average Total Years of Schooling for Adult Population (Lee-Lee (2016), Barro-Lee (2018) and UNDP (2018))  \\\n",
       "99                                                 6.2                                                          \n",
       "117                                                3.4                                                          \n",
       "\n",
       "     GDP per capita  Population (historical estimates)  \n",
       "99           5360.0                          188666928  \n",
       "117          1619.0                            7493918  "
      ]
     },
     "execution_count": 131,
     "metadata": {},
     "output_type": "execute_result"
    }
   ],
   "source": [
    "lower_bound = data[\"Life expectancy\"].quantile(q=0.025)\n",
    "data[(data[\"Life expectancy\"] < lower_bound)]"
   ]
  },
  {
   "cell_type": "markdown",
   "id": "f99b2875-ad6b-43ac-8527-ccacb566227f",
   "metadata": {},
   "source": [
    "Страны-выбросы с **экстремально низкой продолжительностью жизни**:\n",
    "* NGA (Нигерия, Африка)\n",
    "* SLE (Сьерра-Леоне, Африка)"
   ]
  },
  {
   "cell_type": "markdown",
   "id": "ad0b102f-088b-4faf-9213-ae19f73062f0",
   "metadata": {
    "tags": []
   },
   "source": [
    "#### Prevalence of undernourishment (% of population) <a class=\"anchor\" id=\"ch43\"></a>"
   ]
  },
  {
   "cell_type": "code",
   "execution_count": 132,
   "id": "ac260e3a-e7d5-4fc0-9da5-300fba701c71",
   "metadata": {},
   "outputs": [
    {
     "data": {
      "text/plain": [
       "<AxesSubplot:title={'center':'Гистограмма признака Голодающие люди (%)'}, ylabel='Frequency'>"
      ]
     },
     "execution_count": 132,
     "metadata": {},
     "output_type": "execute_result"
    },
    {
     "data": {
      "image/png": "[encoded data removed]",
      "text/plain": [
       "<Figure size 648x360 with 1 Axes>"
      ]
     },
     "metadata": {
      "needs_background": "light"
     },
     "output_type": "display_data"
    }
   ],
   "source": [
    "plt.figure(figsize=(9, 5))\n",
    "data[\"Prevalence of undernourishment (% of population)\"].plot(kind='hist', density=1, bins=20, stacked=False, \n",
    "                                                       alpha=.5, color='#53377A', title=\"Гистограмма признака Голодающие люди (%)\")"
   ]
  },
  {
   "cell_type": "code",
   "execution_count": 133,
   "id": "eae3b705-588a-478c-a94b-995dfa11340e",
   "metadata": {},
   "outputs": [
    {
     "data": {
      "image/png": "[encoded data removed]",
      "text/plain": [
       "<Figure size 648x360 with 1 Axes>"
      ]
     },
     "metadata": {
      "needs_background": "light"
     },
     "output_type": "display_data"
    }
   ],
   "source": [
    "plt.figure(figsize=(9, 5))\n",
    "_, bp = data[\"Prevalence of undernourishment (% of population)\"].plot.box(return_type='both')"
   ]
  },
  {
   "cell_type": "code",
   "execution_count": 134,
   "id": "21fc5331-708a-4836-9d6d-7da93ef474d1",
   "metadata": {},
   "outputs": [
    {
     "data": {
      "text/html": [
       "<div>\n",
       "<style scoped>\n",
       "    .dataframe tbody tr th:only-of-type {\n",
       "        vertical-align: middle;\n",
       "    }\n",
       "\n",
       "    .dataframe tbody tr th {\n",
       "        vertical-align: top;\n",
       "    }\n",
       "\n",
       "    .dataframe thead th {\n",
       "        text-align: right;\n",
       "    }\n",
       "</style>\n",
       "<table border=\"1\" class=\"dataframe\">\n",
       "  <thead>\n",
       "    <tr style=\"text-align: right;\">\n",
       "      <th></th>\n",
       "      <th>Code</th>\n",
       "      <th>Year</th>\n",
       "      <th>Access to electricity (% of population)_x</th>\n",
       "      <th>Primary energy consumption per capita (kWh/person)</th>\n",
       "      <th>Child mortality (Select Gapminder, v10) (2017)</th>\n",
       "      <th>Life expectancy</th>\n",
       "      <th>Prevalence of undernourishment (% of population)</th>\n",
       "      <th>People using at least basic sanitation services (% of population)</th>\n",
       "      <th>People using at least basic drinking water services (% of population)</th>\n",
       "      <th>Annual CO2 emissions (per capita)</th>\n",
       "      <th>Average Total Years of Schooling for Adult Population (Lee-Lee (2016), Barro-Lee (2018) and UNDP (2018))</th>\n",
       "      <th>GDP per capita</th>\n",
       "      <th>Population (historical estimates)</th>\n",
       "    </tr>\n",
       "  </thead>\n",
       "  <tbody>\n",
       "    <tr>\n",
       "      <th>55</th>\n",
       "      <td>HTI</td>\n",
       "      <td>2016</td>\n",
       "      <td>40.400002</td>\n",
       "      <td>1299.637451</td>\n",
       "      <td>6.70</td>\n",
       "      <td>62.896</td>\n",
       "      <td>46.700001</td>\n",
       "      <td>33.599350</td>\n",
       "      <td>65.023018</td>\n",
       "      <td>0.2752</td>\n",
       "      <td>5.2</td>\n",
       "      <td>1728.0</td>\n",
       "      <td>10713845</td>\n",
       "    </tr>\n",
       "    <tr>\n",
       "      <th>63</th>\n",
       "      <td>IRQ</td>\n",
       "      <td>2016</td>\n",
       "      <td>99.604301</td>\n",
       "      <td>13650.737305</td>\n",
       "      <td>3.12</td>\n",
       "      <td>70.122</td>\n",
       "      <td>38.400002</td>\n",
       "      <td>94.862488</td>\n",
       "      <td>95.136169</td>\n",
       "      <td>5.3089</td>\n",
       "      <td>6.7</td>\n",
       "      <td>13898.0</td>\n",
       "      <td>38697940</td>\n",
       "    </tr>\n",
       "    <tr>\n",
       "      <th>81</th>\n",
       "      <td>MDG</td>\n",
       "      <td>2016</td>\n",
       "      <td>22.900000</td>\n",
       "      <td>708.242493</td>\n",
       "      <td>4.64</td>\n",
       "      <td>65.931</td>\n",
       "      <td>41.599998</td>\n",
       "      <td>10.737929</td>\n",
       "      <td>49.789337</td>\n",
       "      <td>0.1307</td>\n",
       "      <td>6.1</td>\n",
       "      <td>1381.0</td>\n",
       "      <td>25501944</td>\n",
       "    </tr>\n",
       "    <tr>\n",
       "      <th>141</th>\n",
       "      <td>YEM</td>\n",
       "      <td>2016</td>\n",
       "      <td>68.859505</td>\n",
       "      <td>1542.792358</td>\n",
       "      <td>5.53</td>\n",
       "      <td>66.087</td>\n",
       "      <td>46.099998</td>\n",
       "      <td>52.097813</td>\n",
       "      <td>56.785618</td>\n",
       "      <td>0.3838</td>\n",
       "      <td>3.0</td>\n",
       "      <td>2506.0</td>\n",
       "      <td>29274010</td>\n",
       "    </tr>\n",
       "  </tbody>\n",
       "</table>\n",
       "</div>"
      ],
      "text/plain": [
       "    Code  Year  Access to electricity (% of population)_x  \\\n",
       "55   HTI  2016                                  40.400002   \n",
       "63   IRQ  2016                                  99.604301   \n",
       "81   MDG  2016                                  22.900000   \n",
       "141  YEM  2016                                  68.859505   \n",
       "\n",
       "     Primary energy consumption per capita (kWh/person)  \\\n",
       "55                                         1299.637451    \n",
       "63                                        13650.737305    \n",
       "81                                          708.242493    \n",
       "141                                        1542.792358    \n",
       "\n",
       "     Child mortality (Select Gapminder, v10) (2017)  Life expectancy  \\\n",
       "55                                             6.70           62.896   \n",
       "63                                             3.12           70.122   \n",
       "81                                             4.64           65.931   \n",
       "141                                            5.53           66.087   \n",
       "\n",
       "     Prevalence of undernourishment (% of population)  \\\n",
       "55                                          46.700001   \n",
       "63                                          38.400002   \n",
       "81                                          41.599998   \n",
       "141                                         46.099998   \n",
       "\n",
       "     People using at least basic sanitation services (% of population)  \\\n",
       "55                                           33.599350                   \n",
       "63                                           94.862488                   \n",
       "81                                           10.737929                   \n",
       "141                                          52.097813                   \n",
       "\n",
       "     People using at least basic drinking water services (% of population)  \\\n",
       "55                                           65.023018                       \n",
       "63                                           95.136169                       \n",
       "81                                           49.789337                       \n",
       "141                                          56.785618                       \n",
       "\n",
       "     Annual CO2 emissions (per capita)  \\\n",
       "55                              0.2752   \n",
       "63                              5.3089   \n",
       "81                              0.1307   \n",
       "141                             0.3838   \n",
       "\n",
       "     Average Total Years of Schooling for Adult Population (Lee-Lee (2016), Barro-Lee (2018) and UNDP (2018))  \\\n",
       "55                                                 5.2                                                          \n",
       "63                                                 6.7                                                          \n",
       "81                                                 6.1                                                          \n",
       "141                                                3.0                                                          \n",
       "\n",
       "     GDP per capita  Population (historical estimates)  \n",
       "55           1728.0                           10713845  \n",
       "63          13898.0                           38697940  \n",
       "81           1381.0                           25501944  \n",
       "141          2506.0                           29274010  "
      ]
     },
     "execution_count": 134,
     "metadata": {},
     "output_type": "execute_result"
    }
   ],
   "source": [
    "upper_bound = data[\"Prevalence of undernourishment (% of population)\"].quantile(q=0.955)\n",
    "data[(data[\"Prevalence of undernourishment (% of population)\"] > upper_bound)]"
   ]
  },
  {
   "cell_type": "markdown",
   "id": "d4a031e7-4f8c-468c-81d5-d3538e9a10ff",
   "metadata": {},
   "source": [
    "Страны с **экстремально высоким уровнем голода**:\n",
    "\n",
    "* HTI (Гаити, Карибский бассейн)\n",
    "* IRQ (Ирак, Азия)\n",
    "* MDG (Мадагаскар, Африка)\n",
    "* YEM (Йемен, Азия)"
   ]
  },
  {
   "cell_type": "markdown",
   "id": "6d7b1379-9034-4ed2-88ef-a3cc714494df",
   "metadata": {
    "tags": []
   },
   "source": [
    "#### People using at least basic drinking water services (% of population) <a class=\"anchor\" id=\"ch44\"></a>"
   ]
  },
  {
   "cell_type": "code",
   "execution_count": 135,
   "id": "8c61b03e-a458-4abf-8609-8cabdaadb831",
   "metadata": {},
   "outputs": [
    {
     "data": {
      "text/plain": [
       "<AxesSubplot:title={'center':'Гистограмма признака Количество людей, снабженных питьевой водой (%)'}, ylabel='Frequency'>"
      ]
     },
     "execution_count": 135,
     "metadata": {},
     "output_type": "execute_result"
    },
    {
     "data": {
      "image/png": "[encoded data removed]",
      "text/plain": [
       "<Figure size 648x360 with 1 Axes>"
      ]
     },
     "metadata": {
      "needs_background": "light"
     },
     "output_type": "display_data"
    }
   ],
   "source": [
    "plt.figure(figsize=(9, 5))\n",
    "data[\"People using at least basic drinking water services (% of population)\"].plot(kind='hist', density=1, bins=20, stacked=False, \n",
    "                                                       alpha=.5, color='#53377A', title=\"Гистограмма признака Количество людей, снабженных питьевой водой (%)\")"
   ]
  },
  {
   "cell_type": "code",
   "execution_count": 136,
   "id": "b5db4f5c-cb51-458f-b23a-b6cc48cf6349",
   "metadata": {},
   "outputs": [
    {
     "data": {
      "image/png": "[encoded data removed]",
      "text/plain": [
       "<Figure size 648x360 with 1 Axes>"
      ]
     },
     "metadata": {
      "needs_background": "light"
     },
     "output_type": "display_data"
    }
   ],
   "source": [
    "plt.figure(figsize=(9, 5))\n",
    "_, bp = data[\"People using at least basic drinking water services (% of population)\"].plot.box(return_type='both')"
   ]
  },
  {
   "cell_type": "code",
   "execution_count": 137,
   "id": "68681b09-f23d-4278-8304-ec883b517268",
   "metadata": {},
   "outputs": [
    {
     "data": {
      "text/html": [
       "<div>\n",
       "<style scoped>\n",
       "    .dataframe tbody tr th:only-of-type {\n",
       "        vertical-align: middle;\n",
       "    }\n",
       "\n",
       "    .dataframe tbody tr th {\n",
       "        vertical-align: top;\n",
       "    }\n",
       "\n",
       "    .dataframe thead th {\n",
       "        text-align: right;\n",
       "    }\n",
       "</style>\n",
       "<table border=\"1\" class=\"dataframe\">\n",
       "  <thead>\n",
       "    <tr style=\"text-align: right;\">\n",
       "      <th></th>\n",
       "      <th>Code</th>\n",
       "      <th>Year</th>\n",
       "      <th>Access to electricity (% of population)_x</th>\n",
       "      <th>Primary energy consumption per capita (kWh/person)</th>\n",
       "      <th>Child mortality (Select Gapminder, v10) (2017)</th>\n",
       "      <th>Life expectancy</th>\n",
       "      <th>Prevalence of undernourishment (% of population)</th>\n",
       "      <th>People using at least basic sanitation services (% of population)</th>\n",
       "      <th>People using at least basic drinking water services (% of population)</th>\n",
       "      <th>Annual CO2 emissions (per capita)</th>\n",
       "      <th>Average Total Years of Schooling for Adult Population (Lee-Lee (2016), Barro-Lee (2018) and UNDP (2018))</th>\n",
       "      <th>GDP per capita</th>\n",
       "      <th>Population (historical estimates)</th>\n",
       "    </tr>\n",
       "  </thead>\n",
       "  <tbody>\n",
       "    <tr>\n",
       "      <th>0</th>\n",
       "      <td>AFG</td>\n",
       "      <td>2016</td>\n",
       "      <td>97.699997</td>\n",
       "      <td>973.857361</td>\n",
       "      <td>7.04</td>\n",
       "      <td>63.763</td>\n",
       "      <td>22.200001</td>\n",
       "      <td>44.201218</td>\n",
       "      <td>64.054886</td>\n",
       "      <td>0.1906</td>\n",
       "      <td>3.6</td>\n",
       "      <td>1929.0</td>\n",
       "      <td>34636212</td>\n",
       "    </tr>\n",
       "    <tr>\n",
       "      <th>45</th>\n",
       "      <td>ETH</td>\n",
       "      <td>2016</td>\n",
       "      <td>42.900002</td>\n",
       "      <td>820.405823</td>\n",
       "      <td>5.84</td>\n",
       "      <td>65.482</td>\n",
       "      <td>13.800000</td>\n",
       "      <td>7.779459</td>\n",
       "      <td>43.607079</td>\n",
       "      <td>0.1385</td>\n",
       "      <td>2.7</td>\n",
       "      <td>1635.0</td>\n",
       "      <td>105293232</td>\n",
       "    </tr>\n",
       "    <tr>\n",
       "      <th>71</th>\n",
       "      <td>KEN</td>\n",
       "      <td>2016</td>\n",
       "      <td>53.099998</td>\n",
       "      <td>1891.165161</td>\n",
       "      <td>4.92</td>\n",
       "      <td>65.393</td>\n",
       "      <td>23.200001</td>\n",
       "      <td>32.387711</td>\n",
       "      <td>58.892605</td>\n",
       "      <td>0.3498</td>\n",
       "      <td>6.4</td>\n",
       "      <td>3169.0</td>\n",
       "      <td>47894668</td>\n",
       "    </tr>\n",
       "    <tr>\n",
       "      <th>81</th>\n",
       "      <td>MDG</td>\n",
       "      <td>2016</td>\n",
       "      <td>22.900000</td>\n",
       "      <td>708.242493</td>\n",
       "      <td>4.64</td>\n",
       "      <td>65.931</td>\n",
       "      <td>41.599998</td>\n",
       "      <td>10.737929</td>\n",
       "      <td>49.789337</td>\n",
       "      <td>0.1307</td>\n",
       "      <td>6.1</td>\n",
       "      <td>1381.0</td>\n",
       "      <td>25501944</td>\n",
       "    </tr>\n",
       "    <tr>\n",
       "      <th>117</th>\n",
       "      <td>SLE</td>\n",
       "      <td>2016</td>\n",
       "      <td>20.299999</td>\n",
       "      <td>604.840393</td>\n",
       "      <td>11.35</td>\n",
       "      <td>53.444</td>\n",
       "      <td>25.400000</td>\n",
       "      <td>15.216355</td>\n",
       "      <td>59.037476</td>\n",
       "      <td>0.1235</td>\n",
       "      <td>3.4</td>\n",
       "      <td>1619.0</td>\n",
       "      <td>7493918</td>\n",
       "    </tr>\n",
       "    <tr>\n",
       "      <th>141</th>\n",
       "      <td>YEM</td>\n",
       "      <td>2016</td>\n",
       "      <td>68.859505</td>\n",
       "      <td>1542.792358</td>\n",
       "      <td>5.53</td>\n",
       "      <td>66.087</td>\n",
       "      <td>46.099998</td>\n",
       "      <td>52.097813</td>\n",
       "      <td>56.785618</td>\n",
       "      <td>0.3838</td>\n",
       "      <td>3.0</td>\n",
       "      <td>2506.0</td>\n",
       "      <td>29274010</td>\n",
       "    </tr>\n",
       "  </tbody>\n",
       "</table>\n",
       "</div>"
      ],
      "text/plain": [
       "    Code  Year  Access to electricity (% of population)_x  \\\n",
       "0    AFG  2016                                  97.699997   \n",
       "45   ETH  2016                                  42.900002   \n",
       "71   KEN  2016                                  53.099998   \n",
       "81   MDG  2016                                  22.900000   \n",
       "117  SLE  2016                                  20.299999   \n",
       "141  YEM  2016                                  68.859505   \n",
       "\n",
       "     Primary energy consumption per capita (kWh/person)  \\\n",
       "0                                           973.857361    \n",
       "45                                          820.405823    \n",
       "71                                         1891.165161    \n",
       "81                                          708.242493    \n",
       "117                                         604.840393    \n",
       "141                                        1542.792358    \n",
       "\n",
       "     Child mortality (Select Gapminder, v10) (2017)  Life expectancy  \\\n",
       "0                                              7.04           63.763   \n",
       "45                                             5.84           65.482   \n",
       "71                                             4.92           65.393   \n",
       "81                                             4.64           65.931   \n",
       "117                                           11.35           53.444   \n",
       "141                                            5.53           66.087   \n",
       "\n",
       "     Prevalence of undernourishment (% of population)  \\\n",
       "0                                           22.200001   \n",
       "45                                          13.800000   \n",
       "71                                          23.200001   \n",
       "81                                          41.599998   \n",
       "117                                         25.400000   \n",
       "141                                         46.099998   \n",
       "\n",
       "     People using at least basic sanitation services (% of population)  \\\n",
       "0                                            44.201218                   \n",
       "45                                            7.779459                   \n",
       "71                                           32.387711                   \n",
       "81                                           10.737929                   \n",
       "117                                          15.216355                   \n",
       "141                                          52.097813                   \n",
       "\n",
       "     People using at least basic drinking water services (% of population)  \\\n",
       "0                                            64.054886                       \n",
       "45                                           43.607079                       \n",
       "71                                           58.892605                       \n",
       "81                                           49.789337                       \n",
       "117                                          59.037476                       \n",
       "141                                          56.785618                       \n",
       "\n",
       "     Annual CO2 emissions (per capita)  \\\n",
       "0                               0.1906   \n",
       "45                              0.1385   \n",
       "71                              0.3498   \n",
       "81                              0.1307   \n",
       "117                             0.1235   \n",
       "141                             0.3838   \n",
       "\n",
       "     Average Total Years of Schooling for Adult Population (Lee-Lee (2016), Barro-Lee (2018) and UNDP (2018))  \\\n",
       "0                                                  3.6                                                          \n",
       "45                                                 2.7                                                          \n",
       "71                                                 6.4                                                          \n",
       "81                                                 6.1                                                          \n",
       "117                                                3.4                                                          \n",
       "141                                                3.0                                                          \n",
       "\n",
       "     GDP per capita  Population (historical estimates)  \n",
       "0            1929.0                           34636212  \n",
       "45           1635.0                          105293232  \n",
       "71           3169.0                           47894668  \n",
       "81           1381.0                           25501944  \n",
       "117          1619.0                            7493918  \n",
       "141          2506.0                           29274010  "
      ]
     },
     "execution_count": 137,
     "metadata": {},
     "output_type": "execute_result"
    }
   ],
   "source": [
    "lower_bound = data[\"People using at least basic drinking water services (% of population)\"].quantile(q=0.075)\n",
    "data[(data[\"People using at least basic drinking water services (% of population)\"] < lower_bound)]"
   ]
  },
  {
   "cell_type": "markdown",
   "id": "c1c948ed-d004-44bd-b736-8ca6ba2a4719",
   "metadata": {},
   "source": [
    "Страны-выбросы **с экстремально низким количеством людей, снабжённых питьевой людей**:\n",
    "\n",
    "* AFG (Афганистан, Азия)\n",
    "* ETH (Эфиопия, Африка)\n",
    "* KEN (Кения, Африка)\n",
    "* MDG (Мадагаскар, Африка)\n",
    "* SLE (Сьерра-Леоне, Африка)\n",
    "* YEM (Йемен, Азия)"
   ]
  },
  {
   "cell_type": "markdown",
   "id": "6f8123ec-015f-43df-bcec-6ec0c387bc10",
   "metadata": {
    "tags": []
   },
   "source": [
    "#### People using at least basic sanitation services (% of population) <a class=\"anchor\" id=\"ch45\"></a>"
   ]
  },
  {
   "cell_type": "code",
   "execution_count": 138,
   "id": "207906a6-213e-4cdf-9c7b-8e3c0e98c99d",
   "metadata": {},
   "outputs": [
    {
     "data": {
      "text/plain": [
       "<AxesSubplot:title={'center':'Гистограмма признака Количество людей, использующих базовые санитарные средства (%)'}, ylabel='Frequency'>"
      ]
     },
     "execution_count": 138,
     "metadata": {},
     "output_type": "execute_result"
    },
    {
     "data": {
      "image/png": "[encoded data removed]",
      "text/plain": [
       "<Figure size 648x360 with 1 Axes>"
      ]
     },
     "metadata": {
      "needs_background": "light"
     },
     "output_type": "display_data"
    }
   ],
   "source": [
    "plt.figure(figsize=(9, 5))\n",
    "data[\"People using at least basic sanitation services (% of population)\"].plot(kind='hist', density=1, bins=20, stacked=False, \n",
    "                                                       alpha=.5, color='#53377A', title=\"Гистограмма признака Количество людей, использующих базовые санитарные средства (%)\")"
   ]
  },
  {
   "cell_type": "code",
   "execution_count": 139,
   "id": "129e6e0a-3aa0-48b6-ae5d-78d4e4746c52",
   "metadata": {},
   "outputs": [
    {
     "data": {
      "image/png": "[encoded data removed]",
      "text/plain": [
       "<Figure size 648x360 with 1 Axes>"
      ]
     },
     "metadata": {
      "needs_background": "light"
     },
     "output_type": "display_data"
    }
   ],
   "source": [
    "plt.figure(figsize=(9, 5))\n",
    "_, bp = data[\"People using at least basic sanitation services (% of population)\"].plot.box(return_type='both')"
   ]
  },
  {
   "cell_type": "code",
   "execution_count": 140,
   "id": "f669feea-d1e3-4a1d-9380-f6c26439b2c5",
   "metadata": {},
   "outputs": [
    {
     "data": {
      "text/html": [
       "<div>\n",
       "<style scoped>\n",
       "    .dataframe tbody tr th:only-of-type {\n",
       "        vertical-align: middle;\n",
       "    }\n",
       "\n",
       "    .dataframe tbody tr th {\n",
       "        vertical-align: top;\n",
       "    }\n",
       "\n",
       "    .dataframe thead th {\n",
       "        text-align: right;\n",
       "    }\n",
       "</style>\n",
       "<table border=\"1\" class=\"dataframe\">\n",
       "  <thead>\n",
       "    <tr style=\"text-align: right;\">\n",
       "      <th></th>\n",
       "      <th>Code</th>\n",
       "      <th>Year</th>\n",
       "      <th>Access to electricity (% of population)_x</th>\n",
       "      <th>Primary energy consumption per capita (kWh/person)</th>\n",
       "      <th>Child mortality (Select Gapminder, v10) (2017)</th>\n",
       "      <th>Life expectancy</th>\n",
       "      <th>Prevalence of undernourishment (% of population)</th>\n",
       "      <th>People using at least basic sanitation services (% of population)</th>\n",
       "      <th>People using at least basic drinking water services (% of population)</th>\n",
       "      <th>Annual CO2 emissions (per capita)</th>\n",
       "      <th>Average Total Years of Schooling for Adult Population (Lee-Lee (2016), Barro-Lee (2018) and UNDP (2018))</th>\n",
       "      <th>GDP per capita</th>\n",
       "      <th>Population (historical estimates)</th>\n",
       "    </tr>\n",
       "  </thead>\n",
       "  <tbody>\n",
       "    <tr>\n",
       "      <th>13</th>\n",
       "      <td>BEN</td>\n",
       "      <td>2016</td>\n",
       "      <td>37.095245</td>\n",
       "      <td>2555.055176</td>\n",
       "      <td>9.76</td>\n",
       "      <td>60.885</td>\n",
       "      <td>7.300000</td>\n",
       "      <td>15.207446</td>\n",
       "      <td>64.922043</td>\n",
       "      <td>0.6071</td>\n",
       "      <td>3.6</td>\n",
       "      <td>2080.0</td>\n",
       "      <td>11260091</td>\n",
       "    </tr>\n",
       "    <tr>\n",
       "      <th>45</th>\n",
       "      <td>ETH</td>\n",
       "      <td>2016</td>\n",
       "      <td>42.900002</td>\n",
       "      <td>820.405823</td>\n",
       "      <td>5.84</td>\n",
       "      <td>65.482</td>\n",
       "      <td>13.800000</td>\n",
       "      <td>7.779459</td>\n",
       "      <td>43.607079</td>\n",
       "      <td>0.1385</td>\n",
       "      <td>2.7</td>\n",
       "      <td>1635.0</td>\n",
       "      <td>105293232</td>\n",
       "    </tr>\n",
       "    <tr>\n",
       "      <th>55</th>\n",
       "      <td>HTI</td>\n",
       "      <td>2016</td>\n",
       "      <td>40.400002</td>\n",
       "      <td>1299.637451</td>\n",
       "      <td>6.70</td>\n",
       "      <td>62.896</td>\n",
       "      <td>46.700001</td>\n",
       "      <td>33.599350</td>\n",
       "      <td>65.023018</td>\n",
       "      <td>0.2752</td>\n",
       "      <td>5.2</td>\n",
       "      <td>1728.0</td>\n",
       "      <td>10713845</td>\n",
       "    </tr>\n",
       "    <tr>\n",
       "      <th>71</th>\n",
       "      <td>KEN</td>\n",
       "      <td>2016</td>\n",
       "      <td>53.099998</td>\n",
       "      <td>1891.165161</td>\n",
       "      <td>4.92</td>\n",
       "      <td>65.393</td>\n",
       "      <td>23.200001</td>\n",
       "      <td>32.387711</td>\n",
       "      <td>58.892605</td>\n",
       "      <td>0.3498</td>\n",
       "      <td>6.4</td>\n",
       "      <td>3169.0</td>\n",
       "      <td>47894668</td>\n",
       "    </tr>\n",
       "    <tr>\n",
       "      <th>81</th>\n",
       "      <td>MDG</td>\n",
       "      <td>2016</td>\n",
       "      <td>22.900000</td>\n",
       "      <td>708.242493</td>\n",
       "      <td>4.64</td>\n",
       "      <td>65.931</td>\n",
       "      <td>41.599998</td>\n",
       "      <td>10.737929</td>\n",
       "      <td>49.789337</td>\n",
       "      <td>0.1307</td>\n",
       "      <td>6.1</td>\n",
       "      <td>1381.0</td>\n",
       "      <td>25501944</td>\n",
       "    </tr>\n",
       "    <tr>\n",
       "      <th>117</th>\n",
       "      <td>SLE</td>\n",
       "      <td>2016</td>\n",
       "      <td>20.299999</td>\n",
       "      <td>604.840393</td>\n",
       "      <td>11.35</td>\n",
       "      <td>53.444</td>\n",
       "      <td>25.400000</td>\n",
       "      <td>15.216355</td>\n",
       "      <td>59.037476</td>\n",
       "      <td>0.1235</td>\n",
       "      <td>3.4</td>\n",
       "      <td>1619.0</td>\n",
       "      <td>7493918</td>\n",
       "    </tr>\n",
       "  </tbody>\n",
       "</table>\n",
       "</div>"
      ],
      "text/plain": [
       "    Code  Year  Access to electricity (% of population)_x  \\\n",
       "13   BEN  2016                                  37.095245   \n",
       "45   ETH  2016                                  42.900002   \n",
       "55   HTI  2016                                  40.400002   \n",
       "71   KEN  2016                                  53.099998   \n",
       "81   MDG  2016                                  22.900000   \n",
       "117  SLE  2016                                  20.299999   \n",
       "\n",
       "     Primary energy consumption per capita (kWh/person)  \\\n",
       "13                                         2555.055176    \n",
       "45                                          820.405823    \n",
       "55                                         1299.637451    \n",
       "71                                         1891.165161    \n",
       "81                                          708.242493    \n",
       "117                                         604.840393    \n",
       "\n",
       "     Child mortality (Select Gapminder, v10) (2017)  Life expectancy  \\\n",
       "13                                             9.76           60.885   \n",
       "45                                             5.84           65.482   \n",
       "55                                             6.70           62.896   \n",
       "71                                             4.92           65.393   \n",
       "81                                             4.64           65.931   \n",
       "117                                           11.35           53.444   \n",
       "\n",
       "     Prevalence of undernourishment (% of population)  \\\n",
       "13                                           7.300000   \n",
       "45                                          13.800000   \n",
       "55                                          46.700001   \n",
       "71                                          23.200001   \n",
       "81                                          41.599998   \n",
       "117                                         25.400000   \n",
       "\n",
       "     People using at least basic sanitation services (% of population)  \\\n",
       "13                                           15.207446                   \n",
       "45                                            7.779459                   \n",
       "55                                           33.599350                   \n",
       "71                                           32.387711                   \n",
       "81                                           10.737929                   \n",
       "117                                          15.216355                   \n",
       "\n",
       "     People using at least basic drinking water services (% of population)  \\\n",
       "13                                           64.922043                       \n",
       "45                                           43.607079                       \n",
       "55                                           65.023018                       \n",
       "71                                           58.892605                       \n",
       "81                                           49.789337                       \n",
       "117                                          59.037476                       \n",
       "\n",
       "     Annual CO2 emissions (per capita)  \\\n",
       "13                              0.6071   \n",
       "45                              0.1385   \n",
       "55                              0.2752   \n",
       "71                              0.3498   \n",
       "81                              0.1307   \n",
       "117                             0.1235   \n",
       "\n",
       "     Average Total Years of Schooling for Adult Population (Lee-Lee (2016), Barro-Lee (2018) and UNDP (2018))  \\\n",
       "13                                                 3.6                                                          \n",
       "45                                                 2.7                                                          \n",
       "55                                                 5.2                                                          \n",
       "71                                                 6.4                                                          \n",
       "81                                                 6.1                                                          \n",
       "117                                                3.4                                                          \n",
       "\n",
       "     GDP per capita  Population (historical estimates)  \n",
       "13           2080.0                           11260091  \n",
       "45           1635.0                          105293232  \n",
       "55           1728.0                           10713845  \n",
       "71           3169.0                           47894668  \n",
       "81           1381.0                           25501944  \n",
       "117          1619.0                            7493918  "
      ]
     },
     "execution_count": 140,
     "metadata": {},
     "output_type": "execute_result"
    }
   ],
   "source": [
    "lower_bound = data[\"People using at least basic sanitation services (% of population)\"].quantile(q=0.075)\n",
    "data[(data[\"People using at least basic sanitation services (% of population)\"] < lower_bound)]"
   ]
  },
  {
   "cell_type": "markdown",
   "id": "f7072897-4dc8-45c2-94ec-aaa91d91a2b6",
   "metadata": {},
   "source": [
    "Страны-выбросы **с экстремально низким количеством людей, снабжённых базовыми санитарными условиями**:\n",
    "\n",
    "* BEN (Бенин, Африка)\n",
    "* ETH (Эфиопия, Африка)\n",
    "* HTI (Гаити, Карибский бассейн)\n",
    "* KEN (Кения, Африка)\n",
    "* MDG (Мадагаскар, Африка)\n",
    "* SLE (Сьерра-Леоне, Африка)"
   ]
  },
  {
   "cell_type": "markdown",
   "id": "4cba01b8-6594-43e7-9818-9d5e3a3f8fc7",
   "metadata": {
    "tags": []
   },
   "source": [
    "#### Child mortality <a class=\"anchor\" id=\"ch46\"></a>"
   ]
  },
  {
   "cell_type": "code",
   "execution_count": 141,
   "id": "5a551376-b179-4231-b968-9d0c6395458b",
   "metadata": {},
   "outputs": [
    {
     "data": {
      "text/plain": [
       "<AxesSubplot:title={'center':'Гистограмма признака Детская смертность'}, ylabel='Frequency'>"
      ]
     },
     "execution_count": 141,
     "metadata": {},
     "output_type": "execute_result"
    },
    {
     "data": {
      "image/png": "[encoded data removed]",
      "text/plain": [
       "<Figure size 648x360 with 1 Axes>"
      ]
     },
     "metadata": {
      "needs_background": "light"
     },
     "output_type": "display_data"
    }
   ],
   "source": [
    "plt.figure(figsize=(9, 5))\n",
    "data[\"Child mortality (Select Gapminder, v10) (2017)\"].plot(kind='hist', density=1, bins=20, stacked=False, \n",
    "                                                       alpha=.5, color='#53377A', title=\"Гистограмма признака Детская смертность\")"
   ]
  },
  {
   "cell_type": "code",
   "execution_count": 142,
   "id": "bbcf361a-0dbe-4a6b-b09f-9c7e30cba87c",
   "metadata": {},
   "outputs": [
    {
     "data": {
      "image/png": "[encoded data removed]",
      "text/plain": [
       "<Figure size 648x360 with 1 Axes>"
      ]
     },
     "metadata": {
      "needs_background": "light"
     },
     "output_type": "display_data"
    }
   ],
   "source": [
    "plt.figure(figsize=(9, 5))\n",
    "_, bp = data[\"Child mortality (Select Gapminder, v10) (2017)\"].plot.box(return_type='both')"
   ]
  },
  {
   "cell_type": "code",
   "execution_count": 143,
   "id": "0c8411af-3047-4878-b096-a765a5780392",
   "metadata": {},
   "outputs": [
    {
     "data": {
      "text/html": [
       "<div>\n",
       "<style scoped>\n",
       "    .dataframe tbody tr th:only-of-type {\n",
       "        vertical-align: middle;\n",
       "    }\n",
       "\n",
       "    .dataframe tbody tr th {\n",
       "        vertical-align: top;\n",
       "    }\n",
       "\n",
       "    .dataframe thead th {\n",
       "        text-align: right;\n",
       "    }\n",
       "</style>\n",
       "<table border=\"1\" class=\"dataframe\">\n",
       "  <thead>\n",
       "    <tr style=\"text-align: right;\">\n",
       "      <th></th>\n",
       "      <th>Code</th>\n",
       "      <th>Year</th>\n",
       "      <th>Access to electricity (% of population)_x</th>\n",
       "      <th>Primary energy consumption per capita (kWh/person)</th>\n",
       "      <th>Child mortality (Select Gapminder, v10) (2017)</th>\n",
       "      <th>Life expectancy</th>\n",
       "      <th>Prevalence of undernourishment (% of population)</th>\n",
       "      <th>People using at least basic sanitation services (% of population)</th>\n",
       "      <th>People using at least basic drinking water services (% of population)</th>\n",
       "      <th>Annual CO2 emissions (per capita)</th>\n",
       "      <th>Average Total Years of Schooling for Adult Population (Lee-Lee (2016), Barro-Lee (2018) and UNDP (2018))</th>\n",
       "      <th>GDP per capita</th>\n",
       "      <th>Population (historical estimates)</th>\n",
       "    </tr>\n",
       "  </thead>\n",
       "  <tbody>\n",
       "    <tr>\n",
       "      <th>0</th>\n",
       "      <td>AFG</td>\n",
       "      <td>2016</td>\n",
       "      <td>97.699997</td>\n",
       "      <td>973.857361</td>\n",
       "      <td>7.04</td>\n",
       "      <td>63.763</td>\n",
       "      <td>22.200001</td>\n",
       "      <td>44.201218</td>\n",
       "      <td>64.054886</td>\n",
       "      <td>0.1906</td>\n",
       "      <td>3.6</td>\n",
       "      <td>1929.0</td>\n",
       "      <td>34636212</td>\n",
       "    </tr>\n",
       "    <tr>\n",
       "      <th>13</th>\n",
       "      <td>BEN</td>\n",
       "      <td>2016</td>\n",
       "      <td>37.095245</td>\n",
       "      <td>2555.055176</td>\n",
       "      <td>9.76</td>\n",
       "      <td>60.885</td>\n",
       "      <td>7.300000</td>\n",
       "      <td>15.207446</td>\n",
       "      <td>64.922043</td>\n",
       "      <td>0.6071</td>\n",
       "      <td>3.6</td>\n",
       "      <td>2080.0</td>\n",
       "      <td>11260091</td>\n",
       "    </tr>\n",
       "    <tr>\n",
       "      <th>55</th>\n",
       "      <td>HTI</td>\n",
       "      <td>2016</td>\n",
       "      <td>40.400002</td>\n",
       "      <td>1299.637451</td>\n",
       "      <td>6.70</td>\n",
       "      <td>62.896</td>\n",
       "      <td>46.700001</td>\n",
       "      <td>33.599350</td>\n",
       "      <td>65.023018</td>\n",
       "      <td>0.2752</td>\n",
       "      <td>5.2</td>\n",
       "      <td>1728.0</td>\n",
       "      <td>10713845</td>\n",
       "    </tr>\n",
       "    <tr>\n",
       "      <th>99</th>\n",
       "      <td>NGA</td>\n",
       "      <td>2016</td>\n",
       "      <td>59.299999</td>\n",
       "      <td>2525.175537</td>\n",
       "      <td>10.43</td>\n",
       "      <td>53.541</td>\n",
       "      <td>9.400000</td>\n",
       "      <td>39.182011</td>\n",
       "      <td>70.540932</td>\n",
       "      <td>0.6228</td>\n",
       "      <td>6.2</td>\n",
       "      <td>5360.0</td>\n",
       "      <td>188666928</td>\n",
       "    </tr>\n",
       "    <tr>\n",
       "      <th>103</th>\n",
       "      <td>PAK</td>\n",
       "      <td>2016</td>\n",
       "      <td>71.550224</td>\n",
       "      <td>4369.207520</td>\n",
       "      <td>7.88</td>\n",
       "      <td>66.770</td>\n",
       "      <td>12.400000</td>\n",
       "      <td>61.064262</td>\n",
       "      <td>89.596367</td>\n",
       "      <td>1.0166</td>\n",
       "      <td>5.2</td>\n",
       "      <td>5223.0</td>\n",
       "      <td>213524848</td>\n",
       "    </tr>\n",
       "    <tr>\n",
       "      <th>117</th>\n",
       "      <td>SLE</td>\n",
       "      <td>2016</td>\n",
       "      <td>20.299999</td>\n",
       "      <td>604.840393</td>\n",
       "      <td>11.35</td>\n",
       "      <td>53.444</td>\n",
       "      <td>25.400000</td>\n",
       "      <td>15.216355</td>\n",
       "      <td>59.037476</td>\n",
       "      <td>0.1235</td>\n",
       "      <td>3.4</td>\n",
       "      <td>1619.0</td>\n",
       "      <td>7493918</td>\n",
       "    </tr>\n",
       "  </tbody>\n",
       "</table>\n",
       "</div>"
      ],
      "text/plain": [
       "    Code  Year  Access to electricity (% of population)_x  \\\n",
       "0    AFG  2016                                  97.699997   \n",
       "13   BEN  2016                                  37.095245   \n",
       "55   HTI  2016                                  40.400002   \n",
       "99   NGA  2016                                  59.299999   \n",
       "103  PAK  2016                                  71.550224   \n",
       "117  SLE  2016                                  20.299999   \n",
       "\n",
       "     Primary energy consumption per capita (kWh/person)  \\\n",
       "0                                           973.857361    \n",
       "13                                         2555.055176    \n",
       "55                                         1299.637451    \n",
       "99                                         2525.175537    \n",
       "103                                        4369.207520    \n",
       "117                                         604.840393    \n",
       "\n",
       "     Child mortality (Select Gapminder, v10) (2017)  Life expectancy  \\\n",
       "0                                              7.04           63.763   \n",
       "13                                             9.76           60.885   \n",
       "55                                             6.70           62.896   \n",
       "99                                            10.43           53.541   \n",
       "103                                            7.88           66.770   \n",
       "117                                           11.35           53.444   \n",
       "\n",
       "     Prevalence of undernourishment (% of population)  \\\n",
       "0                                           22.200001   \n",
       "13                                           7.300000   \n",
       "55                                          46.700001   \n",
       "99                                           9.400000   \n",
       "103                                         12.400000   \n",
       "117                                         25.400000   \n",
       "\n",
       "     People using at least basic sanitation services (% of population)  \\\n",
       "0                                            44.201218                   \n",
       "13                                           15.207446                   \n",
       "55                                           33.599350                   \n",
       "99                                           39.182011                   \n",
       "103                                          61.064262                   \n",
       "117                                          15.216355                   \n",
       "\n",
       "     People using at least basic drinking water services (% of population)  \\\n",
       "0                                            64.054886                       \n",
       "13                                           64.922043                       \n",
       "55                                           65.023018                       \n",
       "99                                           70.540932                       \n",
       "103                                          89.596367                       \n",
       "117                                          59.037476                       \n",
       "\n",
       "     Annual CO2 emissions (per capita)  \\\n",
       "0                               0.1906   \n",
       "13                              0.6071   \n",
       "55                              0.2752   \n",
       "99                              0.6228   \n",
       "103                             1.0166   \n",
       "117                             0.1235   \n",
       "\n",
       "     Average Total Years of Schooling for Adult Population (Lee-Lee (2016), Barro-Lee (2018) and UNDP (2018))  \\\n",
       "0                                                  3.6                                                          \n",
       "13                                                 3.6                                                          \n",
       "55                                                 5.2                                                          \n",
       "99                                                 6.2                                                          \n",
       "103                                                5.2                                                          \n",
       "117                                                3.4                                                          \n",
       "\n",
       "     GDP per capita  Population (historical estimates)  \n",
       "0            1929.0                           34636212  \n",
       "13           2080.0                           11260091  \n",
       "55           1728.0                           10713845  \n",
       "99           5360.0                          188666928  \n",
       "103          5223.0                          213524848  \n",
       "117          1619.0                            7493918  "
      ]
     },
     "execution_count": 143,
     "metadata": {},
     "output_type": "execute_result"
    }
   ],
   "source": [
    "upper_bound = data[\"Child mortality (Select Gapminder, v10) (2017)\"].quantile(q=0.925)\n",
    "data[data[\"Child mortality (Select Gapminder, v10) (2017)\"] > upper_bound]"
   ]
  },
  {
   "cell_type": "markdown",
   "id": "fe53a43d-28c7-4f22-91b0-872a4ad1184c",
   "metadata": {},
   "source": [
    "Страны-выбросы **с экстремально высокой детской смертностью**:\n",
    "\n",
    "* AFG (Афганистан, Азия)\n",
    "* BEN (Бенин, Африка)\n",
    "* HTI (Гаити, Карибский бассейн)\n",
    "* NGA (Нигерия, Африка)\n",
    "* PAK (Пакистан, Азия)\n",
    "* SLE (Сьерра-Леоне, Африка)"
   ]
  },
  {
   "cell_type": "markdown",
   "id": "c5a8d1c9-91ba-4bc8-8ff1-eff42ee3f7a7",
   "metadata": {
    "tags": []
   },
   "source": [
    "#### Average Total Years of Schooling for Adult Population <a class=\"anchor\" id=\"ch47\"></a>"
   ]
  },
  {
   "cell_type": "code",
   "execution_count": 144,
   "id": "d6d4fc02-a4af-43c6-8070-8b88790744a9",
   "metadata": {},
   "outputs": [
    {
     "data": {
      "text/plain": [
       "<AxesSubplot:title={'center':'Гистограмма признака Среднее количество лет обучения в школе'}, ylabel='Frequency'>"
      ]
     },
     "execution_count": 144,
     "metadata": {},
     "output_type": "execute_result"
    },
    {
     "data": {
      "image/png": "[encoded data removed]",
      "text/plain": [
       "<Figure size 648x360 with 1 Axes>"
      ]
     },
     "metadata": {
      "needs_background": "light"
     },
     "output_type": "display_data"
    }
   ],
   "source": [
    "plt.figure(figsize=(9, 5))\n",
    "data[\"Average Total Years of Schooling for Adult Population (Lee-Lee (2016), Barro-Lee (2018) and UNDP (2018))\"].plot(kind='hist', density=1, bins=20, stacked=False, \n",
    "                                                       alpha=.5, color='#53377A', title=\"Гистограмма признака Среднее количество лет обучения в школе\")"
   ]
  },
  {
   "cell_type": "code",
   "execution_count": 145,
   "id": "d4b874dc-8634-4ca1-9244-140edd9be128",
   "metadata": {},
   "outputs": [
    {
     "data": {
      "image/png": "[encoded data removed]",
      "text/plain": [
       "<Figure size 648x360 with 1 Axes>"
      ]
     },
     "metadata": {
      "needs_background": "light"
     },
     "output_type": "display_data"
    }
   ],
   "source": [
    "plt.figure(figsize=(9, 5))\n",
    "_, bp = data[\"Average Total Years of Schooling for Adult Population (Lee-Lee (2016), Barro-Lee (2018) and UNDP (2018))\"].plot.box(return_type='both')"
   ]
  },
  {
   "cell_type": "code",
   "execution_count": 146,
   "id": "c82c1790-c3e5-4d81-92ef-116688828e30",
   "metadata": {},
   "outputs": [
    {
     "data": {
      "text/html": [
       "<div>\n",
       "<style scoped>\n",
       "    .dataframe tbody tr th:only-of-type {\n",
       "        vertical-align: middle;\n",
       "    }\n",
       "\n",
       "    .dataframe tbody tr th {\n",
       "        vertical-align: top;\n",
       "    }\n",
       "\n",
       "    .dataframe thead th {\n",
       "        text-align: right;\n",
       "    }\n",
       "</style>\n",
       "<table border=\"1\" class=\"dataframe\">\n",
       "  <thead>\n",
       "    <tr style=\"text-align: right;\">\n",
       "      <th></th>\n",
       "      <th>Code</th>\n",
       "      <th>Year</th>\n",
       "      <th>Access to electricity (% of population)_x</th>\n",
       "      <th>Primary energy consumption per capita (kWh/person)</th>\n",
       "      <th>Child mortality (Select Gapminder, v10) (2017)</th>\n",
       "      <th>Life expectancy</th>\n",
       "      <th>Prevalence of undernourishment (% of population)</th>\n",
       "      <th>People using at least basic sanitation services (% of population)</th>\n",
       "      <th>People using at least basic drinking water services (% of population)</th>\n",
       "      <th>Annual CO2 emissions (per capita)</th>\n",
       "      <th>Average Total Years of Schooling for Adult Population (Lee-Lee (2016), Barro-Lee (2018) and UNDP (2018))</th>\n",
       "      <th>GDP per capita</th>\n",
       "      <th>Population (historical estimates)</th>\n",
       "    </tr>\n",
       "  </thead>\n",
       "  <tbody>\n",
       "    <tr>\n",
       "      <th>45</th>\n",
       "      <td>ETH</td>\n",
       "      <td>2016</td>\n",
       "      <td>42.900002</td>\n",
       "      <td>820.405823</td>\n",
       "      <td>5.84</td>\n",
       "      <td>65.482</td>\n",
       "      <td>13.800000</td>\n",
       "      <td>7.779459</td>\n",
       "      <td>43.607079</td>\n",
       "      <td>0.1385</td>\n",
       "      <td>2.7</td>\n",
       "      <td>1635.0</td>\n",
       "      <td>105293232</td>\n",
       "    </tr>\n",
       "    <tr>\n",
       "      <th>51</th>\n",
       "      <td>DEU</td>\n",
       "      <td>2016</td>\n",
       "      <td>100.000000</td>\n",
       "      <td>46725.089844</td>\n",
       "      <td>0.38</td>\n",
       "      <td>80.902</td>\n",
       "      <td>2.500000</td>\n",
       "      <td>99.224922</td>\n",
       "      <td>100.000000</td>\n",
       "      <td>9.7415</td>\n",
       "      <td>14.1</td>\n",
       "      <td>44689.0</td>\n",
       "      <td>82331432</td>\n",
       "    </tr>\n",
       "    <tr>\n",
       "      <th>117</th>\n",
       "      <td>SLE</td>\n",
       "      <td>2016</td>\n",
       "      <td>20.299999</td>\n",
       "      <td>604.840393</td>\n",
       "      <td>11.35</td>\n",
       "      <td>53.444</td>\n",
       "      <td>25.400000</td>\n",
       "      <td>15.216355</td>\n",
       "      <td>59.037476</td>\n",
       "      <td>0.1235</td>\n",
       "      <td>3.4</td>\n",
       "      <td>1619.0</td>\n",
       "      <td>7493918</td>\n",
       "    </tr>\n",
       "    <tr>\n",
       "      <th>125</th>\n",
       "      <td>CHE</td>\n",
       "      <td>2016</td>\n",
       "      <td>100.000000</td>\n",
       "      <td>37723.593750</td>\n",
       "      <td>0.41</td>\n",
       "      <td>83.310</td>\n",
       "      <td>2.500000</td>\n",
       "      <td>99.898293</td>\n",
       "      <td>100.000000</td>\n",
       "      <td>4.6770</td>\n",
       "      <td>13.4</td>\n",
       "      <td>59662.0</td>\n",
       "      <td>8372902</td>\n",
       "    </tr>\n",
       "    <tr>\n",
       "      <th>136</th>\n",
       "      <td>USA</td>\n",
       "      <td>2016</td>\n",
       "      <td>100.000000</td>\n",
       "      <td>79634.296875</td>\n",
       "      <td>0.65</td>\n",
       "      <td>78.885</td>\n",
       "      <td>2.500000</td>\n",
       "      <td>99.747551</td>\n",
       "      <td>99.537140</td>\n",
       "      <td>16.2469</td>\n",
       "      <td>13.4</td>\n",
       "      <td>53015.0</td>\n",
       "      <td>327210208</td>\n",
       "    </tr>\n",
       "    <tr>\n",
       "      <th>141</th>\n",
       "      <td>YEM</td>\n",
       "      <td>2016</td>\n",
       "      <td>68.859505</td>\n",
       "      <td>1542.792358</td>\n",
       "      <td>5.53</td>\n",
       "      <td>66.087</td>\n",
       "      <td>46.099998</td>\n",
       "      <td>52.097813</td>\n",
       "      <td>56.785618</td>\n",
       "      <td>0.3838</td>\n",
       "      <td>3.0</td>\n",
       "      <td>2506.0</td>\n",
       "      <td>29274010</td>\n",
       "    </tr>\n",
       "  </tbody>\n",
       "</table>\n",
       "</div>"
      ],
      "text/plain": [
       "    Code  Year  Access to electricity (% of population)_x  \\\n",
       "45   ETH  2016                                  42.900002   \n",
       "51   DEU  2016                                 100.000000   \n",
       "117  SLE  2016                                  20.299999   \n",
       "125  CHE  2016                                 100.000000   \n",
       "136  USA  2016                                 100.000000   \n",
       "141  YEM  2016                                  68.859505   \n",
       "\n",
       "     Primary energy consumption per capita (kWh/person)  \\\n",
       "45                                          820.405823    \n",
       "51                                        46725.089844    \n",
       "117                                         604.840393    \n",
       "125                                       37723.593750    \n",
       "136                                       79634.296875    \n",
       "141                                        1542.792358    \n",
       "\n",
       "     Child mortality (Select Gapminder, v10) (2017)  Life expectancy  \\\n",
       "45                                             5.84           65.482   \n",
       "51                                             0.38           80.902   \n",
       "117                                           11.35           53.444   \n",
       "125                                            0.41           83.310   \n",
       "136                                            0.65           78.885   \n",
       "141                                            5.53           66.087   \n",
       "\n",
       "     Prevalence of undernourishment (% of population)  \\\n",
       "45                                          13.800000   \n",
       "51                                           2.500000   \n",
       "117                                         25.400000   \n",
       "125                                          2.500000   \n",
       "136                                          2.500000   \n",
       "141                                         46.099998   \n",
       "\n",
       "     People using at least basic sanitation services (% of population)  \\\n",
       "45                                            7.779459                   \n",
       "51                                           99.224922                   \n",
       "117                                          15.216355                   \n",
       "125                                          99.898293                   \n",
       "136                                          99.747551                   \n",
       "141                                          52.097813                   \n",
       "\n",
       "     People using at least basic drinking water services (% of population)  \\\n",
       "45                                           43.607079                       \n",
       "51                                          100.000000                       \n",
       "117                                          59.037476                       \n",
       "125                                         100.000000                       \n",
       "136                                          99.537140                       \n",
       "141                                          56.785618                       \n",
       "\n",
       "     Annual CO2 emissions (per capita)  \\\n",
       "45                              0.1385   \n",
       "51                              9.7415   \n",
       "117                             0.1235   \n",
       "125                             4.6770   \n",
       "136                            16.2469   \n",
       "141                             0.3838   \n",
       "\n",
       "     Average Total Years of Schooling for Adult Population (Lee-Lee (2016), Barro-Lee (2018) and UNDP (2018))  \\\n",
       "45                                                 2.7                                                          \n",
       "51                                                14.1                                                          \n",
       "117                                                3.4                                                          \n",
       "125                                               13.4                                                          \n",
       "136                                               13.4                                                          \n",
       "141                                                3.0                                                          \n",
       "\n",
       "     GDP per capita  Population (historical estimates)  \n",
       "45           1635.0                          105293232  \n",
       "51          44689.0                           82331432  \n",
       "117          1619.0                            7493918  \n",
       "125         59662.0                            8372902  \n",
       "136         53015.0                          327210208  \n",
       "141          2506.0                           29274010  "
      ]
     },
     "execution_count": 146,
     "metadata": {},
     "output_type": "execute_result"
    }
   ],
   "source": [
    "lower_bound = data[\"Average Total Years of Schooling for Adult Population (Lee-Lee (2016), Barro-Lee (2018) and UNDP (2018))\"].quantile(q=0.035)\n",
    "upper_bound = data[\"Average Total Years of Schooling for Adult Population (Lee-Lee (2016), Barro-Lee (2018) and UNDP (2018))\"].quantile(q=0.965)\n",
    "data[(data[\"Average Total Years of Schooling for Adult Population (Lee-Lee (2016), Barro-Lee (2018) and UNDP (2018))\"] < lower_bound) |\n",
    "     (data[\"Average Total Years of Schooling for Adult Population (Lee-Lee (2016), Barro-Lee (2018) and UNDP (2018))\"] > upper_bound)]"
   ]
  },
  {
   "cell_type": "markdown",
   "id": "9caa8b0f-ba91-4451-b040-01a6ac02613f",
   "metadata": {},
   "source": [
    "По этому признаку выбросов нет."
   ]
  },
  {
   "cell_type": "markdown",
   "id": "915e7ff8-fc55-48ec-b436-4d768ddbc3df",
   "metadata": {
    "tags": []
   },
   "source": [
    "#### GDP per capita <a class=\"anchor\" id=\"ch48\"></a>"
   ]
  },
  {
   "cell_type": "code",
   "execution_count": 147,
   "id": "9956c394-27a3-45b0-b51c-ebe3daf40d08",
   "metadata": {},
   "outputs": [
    {
     "data": {
      "text/plain": [
       "<AxesSubplot:title={'center':'Гистограмма признака GDP на душу населения'}, ylabel='Frequency'>"
      ]
     },
     "execution_count": 147,
     "metadata": {},
     "output_type": "execute_result"
    },
    {
     "data": {
      "image/png": "[encoded data removed]",
      "text/plain": [
       "<Figure size 648x360 with 1 Axes>"
      ]
     },
     "metadata": {
      "needs_background": "light"
     },
     "output_type": "display_data"
    }
   ],
   "source": [
    "plt.figure(figsize=(9, 5))\n",
    "data[\"GDP per capita\"].plot(kind='hist', density=1, bins=20, stacked=False, \n",
    "                                                       alpha=.5, color='#53377A', title=\"Гистограмма признака GDP на душу населения\")"
   ]
  },
  {
   "cell_type": "code",
   "execution_count": 148,
   "id": "33ef4dca-7205-452a-bf5c-a036a1e671fb",
   "metadata": {},
   "outputs": [
    {
     "data": {
      "image/png": "[encoded data removed]",
      "text/plain": [
       "<Figure size 648x360 with 1 Axes>"
      ]
     },
     "metadata": {
      "needs_background": "light"
     },
     "output_type": "display_data"
    }
   ],
   "source": [
    "plt.figure(figsize=(9, 5))\n",
    "_, bp = data[\"GDP per capita\"].plot.box(return_type='both')"
   ]
  },
  {
   "cell_type": "code",
   "execution_count": 149,
   "id": "9eec5290-c8f6-4501-9778-43627592783e",
   "metadata": {},
   "outputs": [
    {
     "data": {
      "text/html": [
       "<div>\n",
       "<style scoped>\n",
       "    .dataframe tbody tr th:only-of-type {\n",
       "        vertical-align: middle;\n",
       "    }\n",
       "\n",
       "    .dataframe tbody tr th {\n",
       "        vertical-align: top;\n",
       "    }\n",
       "\n",
       "    .dataframe thead th {\n",
       "        text-align: right;\n",
       "    }\n",
       "</style>\n",
       "<table border=\"1\" class=\"dataframe\">\n",
       "  <thead>\n",
       "    <tr style=\"text-align: right;\">\n",
       "      <th></th>\n",
       "      <th>Code</th>\n",
       "      <th>Year</th>\n",
       "      <th>Access to electricity (% of population)_x</th>\n",
       "      <th>Primary energy consumption per capita (kWh/person)</th>\n",
       "      <th>Child mortality (Select Gapminder, v10) (2017)</th>\n",
       "      <th>Life expectancy</th>\n",
       "      <th>Prevalence of undernourishment (% of population)</th>\n",
       "      <th>People using at least basic sanitation services (% of population)</th>\n",
       "      <th>People using at least basic drinking water services (% of population)</th>\n",
       "      <th>Annual CO2 emissions (per capita)</th>\n",
       "      <th>Average Total Years of Schooling for Adult Population (Lee-Lee (2016), Barro-Lee (2018) and UNDP (2018))</th>\n",
       "      <th>GDP per capita</th>\n",
       "      <th>Population (historical estimates)</th>\n",
       "    </tr>\n",
       "  </thead>\n",
       "  <tbody>\n",
       "    <tr>\n",
       "      <th>101</th>\n",
       "      <td>NOR</td>\n",
       "      <td>2016</td>\n",
       "      <td>100.0</td>\n",
       "      <td>105687.492188</td>\n",
       "      <td>0.26</td>\n",
       "      <td>82.029</td>\n",
       "      <td>2.5</td>\n",
       "      <td>98.05555</td>\n",
       "      <td>100.0</td>\n",
       "      <td>8.5318</td>\n",
       "      <td>12.6</td>\n",
       "      <td>82814.0</td>\n",
       "      <td>5236591</td>\n",
       "    </tr>\n",
       "  </tbody>\n",
       "</table>\n",
       "</div>"
      ],
      "text/plain": [
       "    Code  Year  Access to electricity (% of population)_x  \\\n",
       "101  NOR  2016                                      100.0   \n",
       "\n",
       "     Primary energy consumption per capita (kWh/person)  \\\n",
       "101                                      105687.492188    \n",
       "\n",
       "     Child mortality (Select Gapminder, v10) (2017)  Life expectancy  \\\n",
       "101                                            0.26           82.029   \n",
       "\n",
       "     Prevalence of undernourishment (% of population)  \\\n",
       "101                                               2.5   \n",
       "\n",
       "     People using at least basic sanitation services (% of population)  \\\n",
       "101                                           98.05555                   \n",
       "\n",
       "     People using at least basic drinking water services (% of population)  \\\n",
       "101                                              100.0                       \n",
       "\n",
       "     Annual CO2 emissions (per capita)  \\\n",
       "101                             8.5318   \n",
       "\n",
       "     Average Total Years of Schooling for Adult Population (Lee-Lee (2016), Barro-Lee (2018) and UNDP (2018))  \\\n",
       "101                                               12.6                                                          \n",
       "\n",
       "     GDP per capita  Population (historical estimates)  \n",
       "101         82814.0                            5236591  "
      ]
     },
     "execution_count": 149,
     "metadata": {},
     "output_type": "execute_result"
    }
   ],
   "source": [
    "upper_bound = data[\"GDP per capita\"].quantile(q=0.995)\n",
    "data[(data[\"GDP per capita\"] > upper_bound)]"
   ]
  },
  {
   "cell_type": "markdown",
   "id": "0f07d5a7-af88-48ef-9fc9-f143f1309d17",
   "metadata": {},
   "source": [
    "Страна-выброс с **экстремально высоким уровнем ВВП**:\n",
    "\n",
    "* NOR (Королевство Норвегия, Европа)"
   ]
  },
  {
   "cell_type": "markdown",
   "id": "d7960f84-810e-43a3-9461-d7eae945f88c",
   "metadata": {
    "tags": []
   },
   "source": [
    "#### Access to electricity (% of population) <a class=\"anchor\" id=\"ch49\"></a>"
   ]
  },
  {
   "cell_type": "code",
   "execution_count": 150,
   "id": "a7767182-871b-4c7e-a2d3-6b39c65d491f",
   "metadata": {},
   "outputs": [
    {
     "data": {
      "text/plain": [
       "<AxesSubplot:title={'center':'Гистограмма признака Доступ к элетричеству (%)'}, ylabel='Frequency'>"
      ]
     },
     "execution_count": 150,
     "metadata": {},
     "output_type": "execute_result"
    },
    {
     "data": {
      "image/png": "[encoded data removed]",
      "text/plain": [
       "<Figure size 648x360 with 1 Axes>"
      ]
     },
     "metadata": {
      "needs_background": "light"
     },
     "output_type": "display_data"
    }
   ],
   "source": [
    "plt.figure(figsize=(9, 5))\n",
    "data[\"Access to electricity (% of population)_x\"].plot(kind='hist', density=1, bins=20, stacked=False, \n",
    "                                                       alpha=.5, color='#53377A', title=\"Гистограмма признака Доступ к элетричеству (%)\")"
   ]
  },
  {
   "cell_type": "code",
   "execution_count": 151,
   "id": "16f52277-8434-48e3-94f7-1fb56f7e6cac",
   "metadata": {},
   "outputs": [
    {
     "data": {
      "image/png": "[encoded data removed]",
      "text/plain": [
       "<Figure size 648x360 with 1 Axes>"
      ]
     },
     "metadata": {
      "needs_background": "light"
     },
     "output_type": "display_data"
    }
   ],
   "source": [
    "plt.figure(figsize=(9, 5))\n",
    "_, bp = data[\"Access to electricity (% of population)_x\"].plot.box(return_type='both')"
   ]
  },
  {
   "cell_type": "code",
   "execution_count": 152,
   "id": "53ad2bd7-c985-489e-9e93-6764aaad1887",
   "metadata": {},
   "outputs": [
    {
     "data": {
      "text/html": [
       "<div>\n",
       "<style scoped>\n",
       "    .dataframe tbody tr th:only-of-type {\n",
       "        vertical-align: middle;\n",
       "    }\n",
       "\n",
       "    .dataframe tbody tr th {\n",
       "        vertical-align: top;\n",
       "    }\n",
       "\n",
       "    .dataframe thead th {\n",
       "        text-align: right;\n",
       "    }\n",
       "</style>\n",
       "<table border=\"1\" class=\"dataframe\">\n",
       "  <thead>\n",
       "    <tr style=\"text-align: right;\">\n",
       "      <th></th>\n",
       "      <th>Code</th>\n",
       "      <th>Year</th>\n",
       "      <th>Access to electricity (% of population)_x</th>\n",
       "      <th>Primary energy consumption per capita (kWh/person)</th>\n",
       "      <th>Child mortality (Select Gapminder, v10) (2017)</th>\n",
       "      <th>Life expectancy</th>\n",
       "      <th>Prevalence of undernourishment (% of population)</th>\n",
       "      <th>People using at least basic sanitation services (% of population)</th>\n",
       "      <th>People using at least basic drinking water services (% of population)</th>\n",
       "      <th>Annual CO2 emissions (per capita)</th>\n",
       "      <th>Average Total Years of Schooling for Adult Population (Lee-Lee (2016), Barro-Lee (2018) and UNDP (2018))</th>\n",
       "      <th>GDP per capita</th>\n",
       "      <th>Population (historical estimates)</th>\n",
       "    </tr>\n",
       "  </thead>\n",
       "  <tbody>\n",
       "    <tr>\n",
       "      <th>13</th>\n",
       "      <td>BEN</td>\n",
       "      <td>2016</td>\n",
       "      <td>37.095245</td>\n",
       "      <td>2555.055176</td>\n",
       "      <td>9.76</td>\n",
       "      <td>60.885</td>\n",
       "      <td>7.300000</td>\n",
       "      <td>15.207446</td>\n",
       "      <td>64.922043</td>\n",
       "      <td>0.6071</td>\n",
       "      <td>3.6</td>\n",
       "      <td>2080.0</td>\n",
       "      <td>11260091</td>\n",
       "    </tr>\n",
       "    <tr>\n",
       "      <th>45</th>\n",
       "      <td>ETH</td>\n",
       "      <td>2016</td>\n",
       "      <td>42.900002</td>\n",
       "      <td>820.405823</td>\n",
       "      <td>5.84</td>\n",
       "      <td>65.482</td>\n",
       "      <td>13.800000</td>\n",
       "      <td>7.779459</td>\n",
       "      <td>43.607079</td>\n",
       "      <td>0.1385</td>\n",
       "      <td>2.7</td>\n",
       "      <td>1635.0</td>\n",
       "      <td>105293232</td>\n",
       "    </tr>\n",
       "    <tr>\n",
       "      <th>55</th>\n",
       "      <td>HTI</td>\n",
       "      <td>2016</td>\n",
       "      <td>40.400002</td>\n",
       "      <td>1299.637451</td>\n",
       "      <td>6.70</td>\n",
       "      <td>62.896</td>\n",
       "      <td>46.700001</td>\n",
       "      <td>33.599350</td>\n",
       "      <td>65.023018</td>\n",
       "      <td>0.2752</td>\n",
       "      <td>5.2</td>\n",
       "      <td>1728.0</td>\n",
       "      <td>10713845</td>\n",
       "    </tr>\n",
       "    <tr>\n",
       "      <th>81</th>\n",
       "      <td>MDG</td>\n",
       "      <td>2016</td>\n",
       "      <td>22.900000</td>\n",
       "      <td>708.242493</td>\n",
       "      <td>4.64</td>\n",
       "      <td>65.931</td>\n",
       "      <td>41.599998</td>\n",
       "      <td>10.737929</td>\n",
       "      <td>49.789337</td>\n",
       "      <td>0.1307</td>\n",
       "      <td>6.1</td>\n",
       "      <td>1381.0</td>\n",
       "      <td>25501944</td>\n",
       "    </tr>\n",
       "    <tr>\n",
       "      <th>117</th>\n",
       "      <td>SLE</td>\n",
       "      <td>2016</td>\n",
       "      <td>20.299999</td>\n",
       "      <td>604.840393</td>\n",
       "      <td>11.35</td>\n",
       "      <td>53.444</td>\n",
       "      <td>25.400000</td>\n",
       "      <td>15.216355</td>\n",
       "      <td>59.037476</td>\n",
       "      <td>0.1235</td>\n",
       "      <td>3.4</td>\n",
       "      <td>1619.0</td>\n",
       "      <td>7493918</td>\n",
       "    </tr>\n",
       "  </tbody>\n",
       "</table>\n",
       "</div>"
      ],
      "text/plain": [
       "    Code  Year  Access to electricity (% of population)_x  \\\n",
       "13   BEN  2016                                  37.095245   \n",
       "45   ETH  2016                                  42.900002   \n",
       "55   HTI  2016                                  40.400002   \n",
       "81   MDG  2016                                  22.900000   \n",
       "117  SLE  2016                                  20.299999   \n",
       "\n",
       "     Primary energy consumption per capita (kWh/person)  \\\n",
       "13                                         2555.055176    \n",
       "45                                          820.405823    \n",
       "55                                         1299.637451    \n",
       "81                                          708.242493    \n",
       "117                                         604.840393    \n",
       "\n",
       "     Child mortality (Select Gapminder, v10) (2017)  Life expectancy  \\\n",
       "13                                             9.76           60.885   \n",
       "45                                             5.84           65.482   \n",
       "55                                             6.70           62.896   \n",
       "81                                             4.64           65.931   \n",
       "117                                           11.35           53.444   \n",
       "\n",
       "     Prevalence of undernourishment (% of population)  \\\n",
       "13                                           7.300000   \n",
       "45                                          13.800000   \n",
       "55                                          46.700001   \n",
       "81                                          41.599998   \n",
       "117                                         25.400000   \n",
       "\n",
       "     People using at least basic sanitation services (% of population)  \\\n",
       "13                                           15.207446                   \n",
       "45                                            7.779459                   \n",
       "55                                           33.599350                   \n",
       "81                                           10.737929                   \n",
       "117                                          15.216355                   \n",
       "\n",
       "     People using at least basic drinking water services (% of population)  \\\n",
       "13                                           64.922043                       \n",
       "45                                           43.607079                       \n",
       "55                                           65.023018                       \n",
       "81                                           49.789337                       \n",
       "117                                          59.037476                       \n",
       "\n",
       "     Annual CO2 emissions (per capita)  \\\n",
       "13                              0.6071   \n",
       "45                              0.1385   \n",
       "55                              0.2752   \n",
       "81                              0.1307   \n",
       "117                             0.1235   \n",
       "\n",
       "     Average Total Years of Schooling for Adult Population (Lee-Lee (2016), Barro-Lee (2018) and UNDP (2018))  \\\n",
       "13                                                 3.6                                                          \n",
       "45                                                 2.7                                                          \n",
       "55                                                 5.2                                                          \n",
       "81                                                 6.1                                                          \n",
       "117                                                3.4                                                          \n",
       "\n",
       "     GDP per capita  Population (historical estimates)  \n",
       "13           2080.0                           11260091  \n",
       "45           1635.0                          105293232  \n",
       "55           1728.0                           10713845  \n",
       "81           1381.0                           25501944  \n",
       "117          1619.0                            7493918  "
      ]
     },
     "execution_count": 152,
     "metadata": {},
     "output_type": "execute_result"
    }
   ],
   "source": [
    "lower_bound = data[\"Access to electricity (% of population)_x\"].quantile(q=0.065)\n",
    "data[(data[\"Access to electricity (% of population)_x\"] < lower_bound)]"
   ]
  },
  {
   "cell_type": "markdown",
   "id": "3d03f521-4528-48db-a7d4-f6999dfbacd5",
   "metadata": {},
   "source": [
    "Страна-выброс с **экстремально низким доступом к электричеству**:\n",
    "\n",
    "* BEN (Бенин, Африка)\n",
    "* ETH (Эфиопия, Африка)\n",
    "* HTI (Гаити, Карибский бассейн)\n",
    "* MDG (Мадагаскар, Африка)\n",
    "* SLE (Сьерра-Леоне, Африка)"
   ]
  },
  {
   "cell_type": "markdown",
   "id": "582d8070-c958-4abb-afb2-19f0b588c4f3",
   "metadata": {
    "tags": []
   },
   "source": [
    "#### Primary energy consumption per capita (kWh/person) <a class=\"anchor\" id=\"ch410\"></a>"
   ]
  },
  {
   "cell_type": "code",
   "execution_count": 153,
   "id": "55e63d3a-6188-465f-b154-18bdb034b7b1",
   "metadata": {},
   "outputs": [
    {
     "data": {
      "text/plain": [
       "<AxesSubplot:title={'center':'Гистограмма признака Потребление электроэнергии (kWh/person)'}, ylabel='Frequency'>"
      ]
     },
     "execution_count": 153,
     "metadata": {},
     "output_type": "execute_result"
    },
    {
     "data": {
      "image/png": "[encoded data removed]",
      "text/plain": [
       "<Figure size 648x360 with 1 Axes>"
      ]
     },
     "metadata": {
      "needs_background": "light"
     },
     "output_type": "display_data"
    }
   ],
   "source": [
    "plt.figure(figsize=(9, 5))\n",
    "data[\"Primary energy consumption per capita (kWh/person)\"].plot(kind='hist', density=1, bins=20, stacked=False, \n",
    "                                                       alpha=.5, color='#53377A', title=\"Гистограмма признака Потребление электроэнергии (kWh/person)\")"
   ]
  },
  {
   "cell_type": "code",
   "execution_count": 154,
   "id": "90f7fa84-a4fc-4eb7-9e35-79ce004d1bfc",
   "metadata": {},
   "outputs": [
    {
     "data": {
      "image/png": "[encoded data removed]",
      "text/plain": [
       "<Figure size 648x360 with 1 Axes>"
      ]
     },
     "metadata": {
      "needs_background": "light"
     },
     "output_type": "display_data"
    }
   ],
   "source": [
    "plt.figure(figsize=(9, 5))\n",
    "_, bp = data[\"Primary energy consumption per capita (kWh/person)\"].plot.box(return_type='both')"
   ]
  },
  {
   "cell_type": "code",
   "execution_count": 155,
   "id": "05943d7e-036f-45cb-8df3-765dc8a74326",
   "metadata": {},
   "outputs": [
    {
     "data": {
      "text/html": [
       "<div>\n",
       "<style scoped>\n",
       "    .dataframe tbody tr th:only-of-type {\n",
       "        vertical-align: middle;\n",
       "    }\n",
       "\n",
       "    .dataframe tbody tr th {\n",
       "        vertical-align: top;\n",
       "    }\n",
       "\n",
       "    .dataframe thead th {\n",
       "        text-align: right;\n",
       "    }\n",
       "</style>\n",
       "<table border=\"1\" class=\"dataframe\">\n",
       "  <thead>\n",
       "    <tr style=\"text-align: right;\">\n",
       "      <th></th>\n",
       "      <th>Code</th>\n",
       "      <th>Year</th>\n",
       "      <th>Access to electricity (% of population)_x</th>\n",
       "      <th>Primary energy consumption per capita (kWh/person)</th>\n",
       "      <th>Child mortality (Select Gapminder, v10) (2017)</th>\n",
       "      <th>Life expectancy</th>\n",
       "      <th>Prevalence of undernourishment (% of population)</th>\n",
       "      <th>People using at least basic sanitation services (% of population)</th>\n",
       "      <th>People using at least basic drinking water services (% of population)</th>\n",
       "      <th>Annual CO2 emissions (per capita)</th>\n",
       "      <th>Average Total Years of Schooling for Adult Population (Lee-Lee (2016), Barro-Lee (2018) and UNDP (2018))</th>\n",
       "      <th>GDP per capita</th>\n",
       "      <th>Population (historical estimates)</th>\n",
       "    </tr>\n",
       "  </thead>\n",
       "  <tbody>\n",
       "    <tr>\n",
       "      <th>59</th>\n",
       "      <td>ISL</td>\n",
       "      <td>2016</td>\n",
       "      <td>100.0</td>\n",
       "      <td>184948.859375</td>\n",
       "      <td>0.21</td>\n",
       "      <td>82.601</td>\n",
       "      <td>2.5</td>\n",
       "      <td>98.782661</td>\n",
       "      <td>100.000000</td>\n",
       "      <td>10.4977</td>\n",
       "      <td>12.4</td>\n",
       "      <td>42085.0</td>\n",
       "      <td>335677</td>\n",
       "    </tr>\n",
       "    <tr>\n",
       "      <th>134</th>\n",
       "      <td>ARE</td>\n",
       "      <td>2016</td>\n",
       "      <td>100.0</td>\n",
       "      <td>137197.359375</td>\n",
       "      <td>0.77</td>\n",
       "      <td>77.470</td>\n",
       "      <td>2.9</td>\n",
       "      <td>98.737022</td>\n",
       "      <td>99.971329</td>\n",
       "      <td>22.9321</td>\n",
       "      <td>10.8</td>\n",
       "      <td>75876.0</td>\n",
       "      <td>8994266</td>\n",
       "    </tr>\n",
       "  </tbody>\n",
       "</table>\n",
       "</div>"
      ],
      "text/plain": [
       "    Code  Year  Access to electricity (% of population)_x  \\\n",
       "59   ISL  2016                                      100.0   \n",
       "134  ARE  2016                                      100.0   \n",
       "\n",
       "     Primary energy consumption per capita (kWh/person)  \\\n",
       "59                                       184948.859375    \n",
       "134                                      137197.359375    \n",
       "\n",
       "     Child mortality (Select Gapminder, v10) (2017)  Life expectancy  \\\n",
       "59                                             0.21           82.601   \n",
       "134                                            0.77           77.470   \n",
       "\n",
       "     Prevalence of undernourishment (% of population)  \\\n",
       "59                                                2.5   \n",
       "134                                               2.9   \n",
       "\n",
       "     People using at least basic sanitation services (% of population)  \\\n",
       "59                                           98.782661                   \n",
       "134                                          98.737022                   \n",
       "\n",
       "     People using at least basic drinking water services (% of population)  \\\n",
       "59                                          100.000000                       \n",
       "134                                          99.971329                       \n",
       "\n",
       "     Annual CO2 emissions (per capita)  \\\n",
       "59                             10.4977   \n",
       "134                            22.9321   \n",
       "\n",
       "     Average Total Years of Schooling for Adult Population (Lee-Lee (2016), Barro-Lee (2018) and UNDP (2018))  \\\n",
       "59                                                12.4                                                          \n",
       "134                                               10.8                                                          \n",
       "\n",
       "     GDP per capita  Population (historical estimates)  \n",
       "59          42085.0                             335677  \n",
       "134         75876.0                            8994266  "
      ]
     },
     "execution_count": 155,
     "metadata": {},
     "output_type": "execute_result"
    }
   ],
   "source": [
    "upper_bound = data[\"Primary energy consumption per capita (kWh/person)\"].quantile(q=0.975)\n",
    "data[data[\"Primary energy consumption per capita (kWh/person)\"] > upper_bound]"
   ]
  },
  {
   "cell_type": "markdown",
   "id": "20c943f4-da15-4349-9188-3897653d44f4",
   "metadata": {},
   "source": [
    "Страна-выброс с **экстремально высоким потреблением электричества**:\n",
    "\n",
    "* ISL (Республика Исландия, Европа)\n",
    "* ARE (Объединенные Арабские Эмираты)"
   ]
  },
  {
   "cell_type": "markdown",
   "id": "d7e6e913-fcdb-4b7f-a9dd-5ca7c183d1bf",
   "metadata": {
    "tags": []
   },
   "source": [
    "#### Annual CO2 emissions (per capita) <a class=\"anchor\" id=\"ch411\"></a>"
   ]
  },
  {
   "cell_type": "code",
   "execution_count": 156,
   "id": "1e51c43f-0878-4ac1-a2c1-212f088dd132",
   "metadata": {},
   "outputs": [
    {
     "data": {
      "text/plain": [
       "<AxesSubplot:title={'center':'Гистограмма признака Выбросы C02 на душу населения'}, ylabel='Frequency'>"
      ]
     },
     "execution_count": 156,
     "metadata": {},
     "output_type": "execute_result"
    },
    {
     "data": {
      "image/png": "[encoded data removed]",
      "text/plain": [
       "<Figure size 648x360 with 1 Axes>"
      ]
     },
     "metadata": {
      "needs_background": "light"
     },
     "output_type": "display_data"
    }
   ],
   "source": [
    "plt.figure(figsize=(9, 5))\n",
    "data[\"Annual CO2 emissions (per capita)\"].plot(kind='hist', density=1, bins=20, stacked=False, \n",
    "                                                       alpha=.5, color='#53377A', title=\"Гистограмма признака Выбросы C02 на душу населения\")"
   ]
  },
  {
   "cell_type": "code",
   "execution_count": 157,
   "id": "a9722264-308a-4c25-9f2c-9b45a21237dd",
   "metadata": {},
   "outputs": [
    {
     "data": {
      "image/png": "[encoded data removed]",
      "text/plain": [
       "<Figure size 648x360 with 1 Axes>"
      ]
     },
     "metadata": {
      "needs_background": "light"
     },
     "output_type": "display_data"
    }
   ],
   "source": [
    "plt.figure(figsize=(9, 5))\n",
    "_, bp = data[\"Annual CO2 emissions (per capita)\"].plot.box(return_type='both')"
   ]
  },
  {
   "cell_type": "code",
   "execution_count": 158,
   "id": "7b96528b-9b95-4cb8-a873-8c5ea2e7e33b",
   "metadata": {},
   "outputs": [
    {
     "data": {
      "text/html": [
       "<div>\n",
       "<style scoped>\n",
       "    .dataframe tbody tr th:only-of-type {\n",
       "        vertical-align: middle;\n",
       "    }\n",
       "\n",
       "    .dataframe tbody tr th {\n",
       "        vertical-align: top;\n",
       "    }\n",
       "\n",
       "    .dataframe thead th {\n",
       "        text-align: right;\n",
       "    }\n",
       "</style>\n",
       "<table border=\"1\" class=\"dataframe\">\n",
       "  <thead>\n",
       "    <tr style=\"text-align: right;\">\n",
       "      <th></th>\n",
       "      <th>Code</th>\n",
       "      <th>Year</th>\n",
       "      <th>Access to electricity (% of population)_x</th>\n",
       "      <th>Primary energy consumption per capita (kWh/person)</th>\n",
       "      <th>Child mortality (Select Gapminder, v10) (2017)</th>\n",
       "      <th>Life expectancy</th>\n",
       "      <th>Prevalence of undernourishment (% of population)</th>\n",
       "      <th>People using at least basic sanitation services (% of population)</th>\n",
       "      <th>People using at least basic drinking water services (% of population)</th>\n",
       "      <th>Annual CO2 emissions (per capita)</th>\n",
       "      <th>Average Total Years of Schooling for Adult Population (Lee-Lee (2016), Barro-Lee (2018) and UNDP (2018))</th>\n",
       "      <th>GDP per capita</th>\n",
       "      <th>Population (historical estimates)</th>\n",
       "    </tr>\n",
       "  </thead>\n",
       "  <tbody>\n",
       "    <tr>\n",
       "      <th>72</th>\n",
       "      <td>KWT</td>\n",
       "      <td>2016</td>\n",
       "      <td>100.000000</td>\n",
       "      <td>113382.156250</td>\n",
       "      <td>0.84</td>\n",
       "      <td>75.224</td>\n",
       "      <td>2.5</td>\n",
       "      <td>100.000000</td>\n",
       "      <td>100.000000</td>\n",
       "      <td>25.4896</td>\n",
       "      <td>7.2</td>\n",
       "      <td>71010.0</td>\n",
       "      <td>4048090</td>\n",
       "    </tr>\n",
       "    <tr>\n",
       "      <th>114</th>\n",
       "      <td>SAU</td>\n",
       "      <td>2016</td>\n",
       "      <td>99.900002</td>\n",
       "      <td>95519.593750</td>\n",
       "      <td>1.29</td>\n",
       "      <td>74.761</td>\n",
       "      <td>3.7</td>\n",
       "      <td>99.856949</td>\n",
       "      <td>99.708099</td>\n",
       "      <td>19.6976</td>\n",
       "      <td>9.5</td>\n",
       "      <td>51397.0</td>\n",
       "      <td>33416272</td>\n",
       "    </tr>\n",
       "    <tr>\n",
       "      <th>134</th>\n",
       "      <td>ARE</td>\n",
       "      <td>2016</td>\n",
       "      <td>100.000000</td>\n",
       "      <td>137197.359375</td>\n",
       "      <td>0.77</td>\n",
       "      <td>77.470</td>\n",
       "      <td>2.9</td>\n",
       "      <td>98.737022</td>\n",
       "      <td>99.971329</td>\n",
       "      <td>22.9321</td>\n",
       "      <td>10.8</td>\n",
       "      <td>75876.0</td>\n",
       "      <td>8994266</td>\n",
       "    </tr>\n",
       "  </tbody>\n",
       "</table>\n",
       "</div>"
      ],
      "text/plain": [
       "    Code  Year  Access to electricity (% of population)_x  \\\n",
       "72   KWT  2016                                 100.000000   \n",
       "114  SAU  2016                                  99.900002   \n",
       "134  ARE  2016                                 100.000000   \n",
       "\n",
       "     Primary energy consumption per capita (kWh/person)  \\\n",
       "72                                       113382.156250    \n",
       "114                                       95519.593750    \n",
       "134                                      137197.359375    \n",
       "\n",
       "     Child mortality (Select Gapminder, v10) (2017)  Life expectancy  \\\n",
       "72                                             0.84           75.224   \n",
       "114                                            1.29           74.761   \n",
       "134                                            0.77           77.470   \n",
       "\n",
       "     Prevalence of undernourishment (% of population)  \\\n",
       "72                                                2.5   \n",
       "114                                               3.7   \n",
       "134                                               2.9   \n",
       "\n",
       "     People using at least basic sanitation services (% of population)  \\\n",
       "72                                          100.000000                   \n",
       "114                                          99.856949                   \n",
       "134                                          98.737022                   \n",
       "\n",
       "     People using at least basic drinking water services (% of population)  \\\n",
       "72                                          100.000000                       \n",
       "114                                          99.708099                       \n",
       "134                                          99.971329                       \n",
       "\n",
       "     Annual CO2 emissions (per capita)  \\\n",
       "72                             25.4896   \n",
       "114                            19.6976   \n",
       "134                            22.9321   \n",
       "\n",
       "     Average Total Years of Schooling for Adult Population (Lee-Lee (2016), Barro-Lee (2018) and UNDP (2018))  \\\n",
       "72                                                 7.2                                                          \n",
       "114                                                9.5                                                          \n",
       "134                                               10.8                                                          \n",
       "\n",
       "     GDP per capita  Population (historical estimates)  \n",
       "72          71010.0                            4048090  \n",
       "114         51397.0                           33416272  \n",
       "134         75876.0                            8994266  "
      ]
     },
     "execution_count": 158,
     "metadata": {},
     "output_type": "execute_result"
    }
   ],
   "source": [
    "upper_bound = data[\"Annual CO2 emissions (per capita)\"].quantile(q=0.965)\n",
    "data[(data[\"Annual CO2 emissions (per capita)\"] > upper_bound)]"
   ]
  },
  {
   "cell_type": "markdown",
   "id": "f190d284-30f0-4369-83c9-e944a5c70b0e",
   "metadata": {},
   "source": [
    "Страна-выброс с **экстремально высоким выбросом углекислого газа**:\n",
    "\n",
    "* KWT (Кувейт)\n",
    "* SAU (Саудовская Аравия)\n",
    "* ARE (Объединенные Арабские Эмираты)"
   ]
  },
  {
   "cell_type": "markdown",
   "id": "d81c818a-2cc1-4617-ab6a-ab8ac0fbcc21",
   "metadata": {
    "tags": []
   },
   "source": [
    "## Страны-выбросы-антилидеры по выделенным критериям <a class=\"anchor\" id=\"ch50\"></a>"
   ]
  },
  {
   "cell_type": "markdown",
   "id": "f3387f5b-67f2-48a1-9636-267633234c4b",
   "metadata": {},
   "source": [
    "Страны-выбросы с **экстремально большим населением**:\n",
    "* IND (Индия)"
   ]
  },
  {
   "cell_type": "markdown",
   "id": "ecc021a6-146f-4074-a7bf-05e377c6d28e",
   "metadata": {},
   "source": [
    "Страны-выбросы с **экстремально низкой продолжительностью жизни**:\n",
    "* NGA (Нигерия, Африка)\n",
    "* SLE (Сьерра-Леоне, Африка)"
   ]
  },
  {
   "cell_type": "markdown",
   "id": "afa19886-1611-4cf5-a758-9f83a25b0e2a",
   "metadata": {},
   "source": [
    "Страны с **экстремально высоким уровнем голода**:\n",
    "\n",
    "* HTI (Гаити, Карибский бассейн)\n",
    "* IRQ (Ирак, Азия)\n",
    "* MDG (Мадагаскар, Африка)\n",
    "* YEM (Йемен, Азия)"
   ]
  },
  {
   "cell_type": "markdown",
   "id": "e4131fc6-68c0-4b74-a920-ca9778117bfb",
   "metadata": {},
   "source": [
    "Страны-выбросы **с экстремально низким количеством людей, снабжённых питьевой людей**:\n",
    "\n",
    "* AFG (Афганистан, Азия)\n",
    "* ETH (Эфиопия, Африка)\n",
    "* KEN (Кения, Африка)\n",
    "* MDG (Мадагаскар, Африка)\n",
    "* SLE (Сьерра-Леоне, Африка)\n",
    "* YEM (Йемен, Азия)"
   ]
  },
  {
   "cell_type": "markdown",
   "id": "c960463a-7813-49ae-99b5-a585e3cf1bf4",
   "metadata": {},
   "source": [
    "Страны-выбросы **с экстремально низким количеством людей, снабжённых базовыми санитарными условиями**:\n",
    "\n",
    "* BEN (Бенин, Африка)\n",
    "* ETH (Эфиопия, Африка)\n",
    "* HTI (Гаити, Карибский бассейн)\n",
    "* KEN (Кения, Африка)\n",
    "* MDG (Мадагаскар, Африка)\n",
    "* SLE (Сьерра-Леоне, Африка)"
   ]
  },
  {
   "cell_type": "markdown",
   "id": "66ea9a1c-b4eb-4ca7-b3b6-bc520ca43aae",
   "metadata": {},
   "source": [
    "Страны-выбросы **с экстремально высокой детской смертностью**:\n",
    "\n",
    "* AFG (Афганистан, Азия)\n",
    "* BEN (Бенин, Африка)\n",
    "* HTI (Гаити, Карибский бассейн)\n",
    "* NGA (Нигерия, Африка)\n",
    "* PAK (Пакистан, Азия)\n",
    "* SLE (Сьерра-Леоне, Африка)"
   ]
  },
  {
   "cell_type": "markdown",
   "id": "5f5de065-92ce-4d0e-b47a-afe7ec0d61b3",
   "metadata": {},
   "source": [
    "Страна-выброс с **экстремально низким доступом к электричеству**:\n",
    "\n",
    "* BEN (Бенин, Африка)\n",
    "* ETH (Эфиопия, Африка)\n",
    "* HTI (Гаити, Карибский бассейн)\n",
    "* MDG (Мадагаскар, Африка)\n",
    "* SLE (Сьерра-Леоне, Африка)"
   ]
  },
  {
   "cell_type": "code",
   "execution_count": 159,
   "id": "72cfd732-e21b-423c-ae83-cefb27ec2cbf",
   "metadata": {},
   "outputs": [],
   "source": [
    "df = {'Код страны': ['IND', 'NGA', 'SLE', 'HTI', 'IRQ', 'MDG', 'YEM', 'AFG', 'ETH', 'KEN', 'BEN', 'PAK'], \n",
    "        'Страна': ['Индия', 'Нигерия', 'Сьерра-Леоне', 'Гаити', 'Ирак', 'Мадагаскар', 'Йемен', 'Афганистан', 'Эфиопия', 'Кения', 'Бенин', 'Пакистан'], \n",
    "        'Количество показателей, по которым является отрицательным выбросом': [1, 2, 5, 4, 1, 4, 2, 2, 3, 2, 3, 1], \n",
    "        }"
   ]
  },
  {
   "cell_type": "code",
   "execution_count": 160,
   "id": "e147d804-24c9-447c-83c4-bf4daed4ee45",
   "metadata": {},
   "outputs": [
    {
     "data": {
      "text/html": [
       "<div>\n",
       "<style scoped>\n",
       "    .dataframe tbody tr th:only-of-type {\n",
       "        vertical-align: middle;\n",
       "    }\n",
       "\n",
       "    .dataframe tbody tr th {\n",
       "        vertical-align: top;\n",
       "    }\n",
       "\n",
       "    .dataframe thead th {\n",
       "        text-align: right;\n",
       "    }\n",
       "</style>\n",
       "<table border=\"1\" class=\"dataframe\">\n",
       "  <thead>\n",
       "    <tr style=\"text-align: right;\">\n",
       "      <th></th>\n",
       "      <th>Код страны</th>\n",
       "      <th>Страна</th>\n",
       "      <th>Количество показателей, по которым является отрицательным выбросом</th>\n",
       "    </tr>\n",
       "  </thead>\n",
       "  <tbody>\n",
       "    <tr>\n",
       "      <th>2</th>\n",
       "      <td>SLE</td>\n",
       "      <td>Сьерра-Леоне</td>\n",
       "      <td>5</td>\n",
       "    </tr>\n",
       "    <tr>\n",
       "      <th>3</th>\n",
       "      <td>HTI</td>\n",
       "      <td>Гаити</td>\n",
       "      <td>4</td>\n",
       "    </tr>\n",
       "    <tr>\n",
       "      <th>5</th>\n",
       "      <td>MDG</td>\n",
       "      <td>Мадагаскар</td>\n",
       "      <td>4</td>\n",
       "    </tr>\n",
       "    <tr>\n",
       "      <th>8</th>\n",
       "      <td>ETH</td>\n",
       "      <td>Эфиопия</td>\n",
       "      <td>3</td>\n",
       "    </tr>\n",
       "    <tr>\n",
       "      <th>10</th>\n",
       "      <td>BEN</td>\n",
       "      <td>Бенин</td>\n",
       "      <td>3</td>\n",
       "    </tr>\n",
       "    <tr>\n",
       "      <th>1</th>\n",
       "      <td>NGA</td>\n",
       "      <td>Нигерия</td>\n",
       "      <td>2</td>\n",
       "    </tr>\n",
       "    <tr>\n",
       "      <th>6</th>\n",
       "      <td>YEM</td>\n",
       "      <td>Йемен</td>\n",
       "      <td>2</td>\n",
       "    </tr>\n",
       "    <tr>\n",
       "      <th>7</th>\n",
       "      <td>AFG</td>\n",
       "      <td>Афганистан</td>\n",
       "      <td>2</td>\n",
       "    </tr>\n",
       "    <tr>\n",
       "      <th>9</th>\n",
       "      <td>KEN</td>\n",
       "      <td>Кения</td>\n",
       "      <td>2</td>\n",
       "    </tr>\n",
       "    <tr>\n",
       "      <th>0</th>\n",
       "      <td>IND</td>\n",
       "      <td>Индия</td>\n",
       "      <td>1</td>\n",
       "    </tr>\n",
       "    <tr>\n",
       "      <th>4</th>\n",
       "      <td>IRQ</td>\n",
       "      <td>Ирак</td>\n",
       "      <td>1</td>\n",
       "    </tr>\n",
       "    <tr>\n",
       "      <th>11</th>\n",
       "      <td>PAK</td>\n",
       "      <td>Пакистан</td>\n",
       "      <td>1</td>\n",
       "    </tr>\n",
       "  </tbody>\n",
       "</table>\n",
       "</div>"
      ],
      "text/plain": [
       "   Код страны        Страна  \\\n",
       "2         SLE  Сьерра-Леоне   \n",
       "3         HTI         Гаити   \n",
       "5         MDG    Мадагаскар   \n",
       "8         ETH       Эфиопия   \n",
       "10        BEN         Бенин   \n",
       "1         NGA       Нигерия   \n",
       "6         YEM         Йемен   \n",
       "7         AFG    Афганистан   \n",
       "9         KEN         Кения   \n",
       "0         IND         Индия   \n",
       "4         IRQ          Ирак   \n",
       "11        PAK      Пакистан   \n",
       "\n",
       "    Количество показателей, по которым является отрицательным выбросом  \n",
       "2                                                   5                   \n",
       "3                                                   4                   \n",
       "5                                                   4                   \n",
       "8                                                   3                   \n",
       "10                                                  3                   \n",
       "1                                                   2                   \n",
       "6                                                   2                   \n",
       "7                                                   2                   \n",
       "9                                                   2                   \n",
       "0                                                   1                   \n",
       "4                                                   1                   \n",
       "11                                                  1                   "
      ]
     },
     "execution_count": 160,
     "metadata": {},
     "output_type": "execute_result"
    }
   ],
   "source": [
    "df = pd.DataFrame(df)\n",
    "df = df.sort_values(by=[\"Количество показателей, по которым является отрицательным выбросом\"], ascending=False)\n",
    "df"
   ]
  },
  {
   "cell_type": "code",
   "execution_count": null,
   "id": "5b496173-ba4b-46e0-b147-e8a70a37d392",
   "metadata": {},
   "outputs": [],
   "source": []
  },
  {
   "cell_type": "code",
   "execution_count": null,
   "id": "c65fb570-97f1-408a-948a-3f64519608f3",
   "metadata": {},
   "outputs": [],
   "source": []
  },
  {
   "cell_type": "code",
   "execution_count": null,
   "id": "6e9a5685-2662-453b-8d27-84bfa97a52f8",
   "metadata": {},
   "outputs": [],
   "source": []
  }
 ],
 "metadata": {
  "kernelspec": {
   "display_name": "Python 3 (ipykernel)",
   "language": "python",
   "name": "python3"
  },
  "language_info": {
   "codemirror_mode": {
    "name": "ipython",
    "version": 3
   },
   "file_extension": ".py",
   "mimetype": "text/x-python",
   "name": "python",
   "nbconvert_exporter": "python",
   "pygments_lexer": "ipython3",
   "version": "3.10.0"
  }
 },
 "nbformat": 4,
 "nbformat_minor": 5
}
