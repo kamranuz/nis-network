{
 "cells": [
  {
   "cell_type": "code",
   "execution_count": 1,
   "metadata": {},
   "outputs": [],
   "source": [
    "import pandas as pd\n",
    "import numpy as np"
   ]
  },
  {
   "cell_type": "code",
   "execution_count": 2,
   "metadata": {},
   "outputs": [],
   "source": [
    "ISO_OUR_COUNTRY_CODES = ['AFG', 'CAF', 'COD', 'COG', 'COL', 'ETH', 'IRQ', 'JOR', \n",
    "                         'LBN', 'MMR', 'PAK', 'PSE', 'SOM', 'SSD', 'SDN', 'SYR', 'YEM']\n",
    "\n",
    "# в table_long не хватает {'COG', 'PSE', 'SSD', 'SYR'}\n",
    "# general_description_2016 = pd.read_csv('data_3sided_model_(coflict_disaster_gdp)/table_long.csv')\n",
    "gdp_2016                 = pd.read_csv('data_3sided_model_(coflict_disaster_gdp)/gdp_2016.csv')\n",
    "\n",
    "\n",
    "CBPF_codes_2016          = pd.read_csv('https://raw.githubusercontent.com/kamranuz/nis-network/master/Data/country_codes.csv')\n",
    "disasters_2016           = pd.read_csv('https://raw.githubusercontent.com/kamranuz/nis-network/master/Data/disasters_2016.csv')\n",
    "conflicts_2016           = pd.read_csv('https://raw.githubusercontent.com/kamranuz/nis-network/master/Data/conflicts_2016.csv') ## мб плохой источник\n"
   ]
  },
  {
   "cell_type": "markdown",
   "metadata": {},
   "source": [
    "### gdp"
   ]
  },
  {
   "cell_type": "code",
   "execution_count": 3,
   "metadata": {},
   "outputs": [
    {
     "name": "stdout",
     "output_type": "stream",
     "text": [
      "17\n",
      "(17, 3)\n"
     ]
    },
    {
     "data": {
      "text/html": [
       "<div><div id=f0fc241e-8004-45cb-803a-1835613a8dc8 style=\"display:none; background-color:#9D6CFF; color:white; width:200px; height:30px; padding-left:5px; border-radius:4px; flex-direction:row; justify-content:space-around; align-items:center;\" onmouseover=\"this.style.backgroundColor='#BA9BF8'\" onmouseout=\"this.style.backgroundColor='#9D6CFF'\" onclick=\"window.commands?.execute('create-mitosheet-from-dataframe-output');\">See Full Dataframe in Mito</div> <script> if (window.commands?.hasCommand('create-mitosheet-from-dataframe-output')) document.getElementById('f0fc241e-8004-45cb-803a-1835613a8dc8').style.display = 'flex' </script> <table border=\"1\" class=\"dataframe\">\n",
       "  <thead>\n",
       "    <tr style=\"text-align: right;\">\n",
       "      <th></th>\n",
       "      <th>Country Name</th>\n",
       "      <th>Country Code</th>\n",
       "      <th>2016</th>\n",
       "    </tr>\n",
       "  </thead>\n",
       "  <tbody>\n",
       "    <tr>\n",
       "      <th>2</th>\n",
       "      <td>Afghanistan</td>\n",
       "      <td>AFG</td>\n",
       "      <td>1.811656e+10</td>\n",
       "    </tr>\n",
       "    <tr>\n",
       "      <th>34</th>\n",
       "      <td>Central African Republic</td>\n",
       "      <td>CAF</td>\n",
       "      <td>1.825018e+09</td>\n",
       "    </tr>\n",
       "    <tr>\n",
       "      <th>43</th>\n",
       "      <td>Congo, Dem. Rep.</td>\n",
       "      <td>COD</td>\n",
       "      <td>3.713480e+10</td>\n",
       "    </tr>\n",
       "    <tr>\n",
       "      <th>44</th>\n",
       "      <td>Congo, Rep.</td>\n",
       "      <td>COG</td>\n",
       "      <td>1.021934e+10</td>\n",
       "    </tr>\n",
       "    <tr>\n",
       "      <th>45</th>\n",
       "      <td>Colombia</td>\n",
       "      <td>COL</td>\n",
       "      <td>2.828250e+11</td>\n",
       "    </tr>\n",
       "    <tr>\n",
       "      <th>...</th>\n",
       "      <td>...</td>\n",
       "      <td>...</td>\n",
       "      <td>...</td>\n",
       "    </tr>\n",
       "    <tr>\n",
       "      <th>206</th>\n",
       "      <td>Sudan</td>\n",
       "      <td>SDN</td>\n",
       "      <td>1.029437e+11</td>\n",
       "    </tr>\n",
       "    <tr>\n",
       "      <th>213</th>\n",
       "      <td>Somalia</td>\n",
       "      <td>SOM</td>\n",
       "      <td>5.529873e+09</td>\n",
       "    </tr>\n",
       "    <tr>\n",
       "      <th>216</th>\n",
       "      <td>South Sudan</td>\n",
       "      <td>SSD</td>\n",
       "      <td>0.000000e+00</td>\n",
       "    </tr>\n",
       "    <tr>\n",
       "      <th>227</th>\n",
       "      <td>Syrian Arab Republic</td>\n",
       "      <td>SYR</td>\n",
       "      <td>1.245346e+10</td>\n",
       "    </tr>\n",
       "    <tr>\n",
       "      <th>262</th>\n",
       "      <td>Yemen, Rep.</td>\n",
       "      <td>YEM</td>\n",
       "      <td>3.131783e+10</td>\n",
       "    </tr>\n",
       "  </tbody>\n",
       "</table></div>"
      ],
      "text/plain": [
       "                 Country Name Country Code          2016\n",
       "2                 Afghanistan          AFG  1.811656e+10\n",
       "34   Central African Republic          CAF  1.825018e+09\n",
       "43           Congo, Dem. Rep.          COD  3.713480e+10\n",
       "44                Congo, Rep.          COG  1.021934e+10\n",
       "45                   Colombia          COL  2.828250e+11\n",
       "72                   Ethiopia          ETH  7.429662e+10\n",
       "113                      Iraq          IRQ  1.666025e+11\n",
       "118                    Jordan          JOR  3.989255e+10\n",
       "130                   Lebanon          LBN  5.114731e+10\n",
       "160                   Myanmar          MMR  6.029174e+10\n",
       "184                  Pakistan          PAK  3.136299e+11\n",
       "196        West Bank and Gaza          PSE  1.540540e+10\n",
       "206                     Sudan          SDN  1.029437e+11\n",
       "213                   Somalia          SOM  5.529873e+09\n",
       "216               South Sudan          SSD  0.000000e+00\n",
       "227      Syrian Arab Republic          SYR  1.245346e+10\n",
       "262               Yemen, Rep.          YEM  3.131783e+10"
      ]
     },
     "execution_count": 3,
     "metadata": {},
     "output_type": "execute_result"
    }
   ],
   "source": [
    "gdp_2016_our = gdp_2016[gdp_2016['Country Code'].isin(ISO_OUR_COUNTRY_CODES)]\n",
    "print(len(ISO_OUR_COUNTRY_CODES))\n",
    "print(gdp_2016_our.shape)\n",
    "gdp_2016_our"
   ]
  },
  {
   "cell_type": "markdown",
   "metadata": {},
   "source": [
    "### disasters"
   ]
  },
  {
   "cell_type": "code",
   "execution_count": 4,
   "metadata": {},
   "outputs": [
    {
     "data": {
      "text/plain": [
       "Index(['Dis No', 'Year', 'Seq', 'Glide', 'Disaster Group', 'Disaster Subgroup',\n",
       "       'Disaster Type', 'Disaster Subtype', 'Disaster Subsubtype',\n",
       "       'Event Name', 'Country', 'ISO', 'Region', 'Continent', 'Location',\n",
       "       'Origin', 'Associated Dis', 'Associated Dis2', 'OFDA Response',\n",
       "       'Appeal', 'Declaration', 'AID Contribution ('000 US$)', 'Dis Mag Value',\n",
       "       'Dis Mag Scale', 'Latitude', 'Longitude', 'Local Time', 'River Basin',\n",
       "       'Start Year', 'Start Month', 'Start Day', 'End Year', 'End Month',\n",
       "       'End Day', 'Total Deaths', 'No Injured', 'No Affected', 'No Homeless',\n",
       "       'Total Affected', 'Reconstruction Costs ('000 US$)',\n",
       "       'Reconstruction Costs, Adjusted ('000 US$)',\n",
       "       'Insured Damages ('000 US$)', 'Insured Damages, Adjusted ('000 US$)',\n",
       "       'Total Damages ('000 US$)', 'Total Damages, Adjusted ('000 US$)', 'CPI',\n",
       "       'Adm Level', 'Admin1 Code', 'Admin2 Code', 'Geo Locations'],\n",
       "      dtype='object')"
      ]
     },
     "execution_count": 4,
     "metadata": {},
     "output_type": "execute_result"
    }
   ],
   "source": [
    "dis_cols = ['Country', 'ISO', 'Disaster Group','Total Affected',\"Total Damages, Adjusted ('000 US$)\"]\n",
    "disasters_2016.columns\n"
   ]
  },
  {
   "cell_type": "code",
   "execution_count": 5,
   "metadata": {},
   "outputs": [
    {
     "data": {
      "text/html": [
       "<div><div id=97c56101-9a03-41ac-8089-89227456fcc2 style=\"display:none; background-color:#9D6CFF; color:white; width:200px; height:30px; padding-left:5px; border-radius:4px; flex-direction:row; justify-content:space-around; align-items:center;\" onmouseover=\"this.style.backgroundColor='#BA9BF8'\" onmouseout=\"this.style.backgroundColor='#9D6CFF'\" onclick=\"window.commands?.execute('create-mitosheet-from-dataframe-output');\">See Full Dataframe in Mito</div> <script> if (window.commands?.hasCommand('create-mitosheet-from-dataframe-output')) document.getElementById('97c56101-9a03-41ac-8089-89227456fcc2').style.display = 'flex' </script> <table border=\"1\" class=\"dataframe\">\n",
       "  <thead>\n",
       "    <tr style=\"text-align: right;\">\n",
       "      <th></th>\n",
       "      <th>country</th>\n",
       "      <th>iso</th>\n",
       "      <th>affected_natural</th>\n",
       "      <th>affected_techno</th>\n",
       "      <th>damages_natural</th>\n",
       "      <th>damages_techno</th>\n",
       "    </tr>\n",
       "  </thead>\n",
       "  <tbody>\n",
       "    <tr>\n",
       "      <th>0</th>\n",
       "      <td>Afghanistan</td>\n",
       "      <td>AFG</td>\n",
       "      <td>0.0</td>\n",
       "      <td>20.0</td>\n",
       "      <td>0.0</td>\n",
       "      <td>0.0</td>\n",
       "    </tr>\n",
       "    <tr>\n",
       "      <th>1</th>\n",
       "      <td>Albania</td>\n",
       "      <td>ALB</td>\n",
       "      <td>4500.0</td>\n",
       "      <td>0.0</td>\n",
       "      <td>0.0</td>\n",
       "      <td>0.0</td>\n",
       "    </tr>\n",
       "    <tr>\n",
       "      <th>2</th>\n",
       "      <td>Algeria</td>\n",
       "      <td>DZA</td>\n",
       "      <td>0.0</td>\n",
       "      <td>24.0</td>\n",
       "      <td>0.0</td>\n",
       "      <td>0.0</td>\n",
       "    </tr>\n",
       "    <tr>\n",
       "      <th>3</th>\n",
       "      <td>Angola</td>\n",
       "      <td>AGO</td>\n",
       "      <td>9899.0</td>\n",
       "      <td>0.0</td>\n",
       "      <td>0.0</td>\n",
       "      <td>0.0</td>\n",
       "    </tr>\n",
       "    <tr>\n",
       "      <th>4</th>\n",
       "      <td>Argentina</td>\n",
       "      <td>ARG</td>\n",
       "      <td>85769.0</td>\n",
       "      <td>0.0</td>\n",
       "      <td>1131264.0</td>\n",
       "      <td>0.0</td>\n",
       "    </tr>\n",
       "    <tr>\n",
       "      <th>...</th>\n",
       "      <td>...</td>\n",
       "      <td>...</td>\n",
       "      <td>...</td>\n",
       "      <td>...</td>\n",
       "      <td>...</td>\n",
       "      <td>...</td>\n",
       "    </tr>\n",
       "    <tr>\n",
       "      <th>118</th>\n",
       "      <td>Venezuela (Bolivarian Republic of)</td>\n",
       "      <td>VEN</td>\n",
       "      <td>0.0</td>\n",
       "      <td>14.0</td>\n",
       "      <td>0.0</td>\n",
       "      <td>0.0</td>\n",
       "    </tr>\n",
       "    <tr>\n",
       "      <th>119</th>\n",
       "      <td>Viet Nam</td>\n",
       "      <td>VNM</td>\n",
       "      <td>2503129.0</td>\n",
       "      <td>0.0</td>\n",
       "      <td>955632.0</td>\n",
       "      <td>0.0</td>\n",
       "    </tr>\n",
       "    <tr>\n",
       "      <th>120</th>\n",
       "      <td>Yemen</td>\n",
       "      <td>YEM</td>\n",
       "      <td>29950.0</td>\n",
       "      <td>0.0</td>\n",
       "      <td>0.0</td>\n",
       "      <td>0.0</td>\n",
       "    </tr>\n",
       "    <tr>\n",
       "      <th>121</th>\n",
       "      <td>Zambia</td>\n",
       "      <td>ZMB</td>\n",
       "      <td>0.0</td>\n",
       "      <td>0.0</td>\n",
       "      <td>0.0</td>\n",
       "      <td>0.0</td>\n",
       "    </tr>\n",
       "    <tr>\n",
       "      <th>122</th>\n",
       "      <td>Zimbabwe</td>\n",
       "      <td>ZWE</td>\n",
       "      <td>2000.0</td>\n",
       "      <td>36.0</td>\n",
       "      <td>0.0</td>\n",
       "      <td>0.0</td>\n",
       "    </tr>\n",
       "  </tbody>\n",
       "</table></div>"
      ],
      "text/plain": [
       "                                country  iso  affected_natural  \\\n",
       "0                           Afghanistan  AFG               0.0   \n",
       "1                               Albania  ALB            4500.0   \n",
       "2                               Algeria  DZA               0.0   \n",
       "3                                Angola  AGO            9899.0   \n",
       "4                             Argentina  ARG           85769.0   \n",
       "..                                  ...  ...               ...   \n",
       "118  Venezuela (Bolivarian Republic of)  VEN               0.0   \n",
       "119                            Viet Nam  VNM         2503129.0   \n",
       "120                               Yemen  YEM           29950.0   \n",
       "121                              Zambia  ZMB               0.0   \n",
       "122                            Zimbabwe  ZWE            2000.0   \n",
       "\n",
       "     affected_techno  damages_natural  damages_techno  \n",
       "0               20.0              0.0             0.0  \n",
       "1                0.0              0.0             0.0  \n",
       "2               24.0              0.0             0.0  \n",
       "3                0.0              0.0             0.0  \n",
       "4                0.0        1131264.0             0.0  \n",
       "..               ...              ...             ...  \n",
       "118             14.0              0.0             0.0  \n",
       "119              0.0         955632.0             0.0  \n",
       "120              0.0              0.0             0.0  \n",
       "121              0.0              0.0             0.0  \n",
       "122             36.0              0.0             0.0  \n",
       "\n",
       "[123 rows x 6 columns]"
      ]
     },
     "execution_count": 5,
     "metadata": {},
     "output_type": "execute_result"
    }
   ],
   "source": [
    "# нет данных по {'COG', 'LBN', 'PSE', 'SYR'}\n",
    "df = disasters_2016[dis_cols].fillna(0).groupby(['Country','ISO','Disaster Group']).sum().reset_index()\n",
    "disasters_2016_our = pd.pivot_table(df,values=['Total Affected',\"Total Damages, Adjusted ('000 US$)\"], index=['Country', 'ISO'], columns=['Disaster Group'])\n",
    "disasters_2016_our = disasters_2016_our.reset_index().fillna(0)\n",
    "disasters_2016_our.columns = ['country','iso','affected_natural','affected_techno','damages_natural','damages_techno']\n",
    "disasters_2016_our"
   ]
  },
  {
   "cell_type": "markdown",
   "metadata": {},
   "source": [
    "### conflicts"
   ]
  },
  {
   "cell_type": "code",
   "execution_count": 22,
   "metadata": {},
   "outputs": [
    {
     "data": {
      "text/plain": [
       "0             Iran\n",
       "1             Iran\n",
       "2      Philippines\n",
       "3      Philippines\n",
       "4            India\n",
       "          ...     \n",
       "632           Mali\n",
       "633       Cameroon\n",
       "634           Iran\n",
       "635    Philippines\n",
       "636        Tunisia\n",
       "Name: country, Length: 637, dtype: object"
      ]
     },
     "execution_count": 22,
     "metadata": {},
     "output_type": "execute_result"
    }
   ],
   "source": [
    "conflicts_2016.country              "
   ]
  },
  {
   "cell_type": "code",
   "execution_count": 19,
   "metadata": {},
   "outputs": [
    {
     "name": "stdout",
     "output_type": "stream",
     "text": [
      "(637, 50)\n"
     ]
    },
    {
     "data": {
      "text/plain": [
       "3.0    517\n",
       "4.0     85\n",
       "2.0     20\n",
       "Name: type_of_conflict, dtype: int64"
      ]
     },
     "execution_count": 19,
     "metadata": {},
     "output_type": "execute_result"
    }
   ],
   "source": [
    "print(conflicts_2016.shape)\n",
    "conflicts_2016.type_of_conflict       .value_counts()"
   ]
  }
 ],
 "metadata": {
  "kernelspec": {
   "display_name": "Python 3.10.5 64-bit",
   "language": "python",
   "name": "python3"
  },
  "language_info": {
   "codemirror_mode": {
    "name": "ipython",
    "version": 3
   },
   "file_extension": ".py",
   "mimetype": "text/x-python",
   "name": "python",
   "nbconvert_exporter": "python",
   "pygments_lexer": "ipython3",
   "version": "3.10.5"
  },
  "orig_nbformat": 4,
  "vscode": {
   "interpreter": {
    "hash": "63963b3f4c440940f0b94a3100916033a226cb4f45979123153792d60aa56d6a"
   }
  }
 },
 "nbformat": 4,
 "nbformat_minor": 2
}
