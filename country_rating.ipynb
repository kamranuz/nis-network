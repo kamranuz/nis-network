{
 "cells": [
  {
   "cell_type": "code",
   "execution_count": 1,
   "metadata": {},
   "outputs": [],
   "source": [
    "import pandas as pd\n"
   ]
  },
  {
   "cell_type": "code",
   "execution_count": 2,
   "metadata": {},
   "outputs": [],
   "source": [
    "#@title opening csv\n",
    "\n",
    "# energy\n",
    "energy_for_food   = pd.read_csv('Data/access-to-clean-fuels-and-technologies-for-cooking.csv') #+ %*100 of population\n",
    "energy_access     = pd.read_csv('Data/share-of-the-population-with-access-to-electricity.csv') #+ %*100 of population\n",
    "energy_use        = pd.read_csv('Data/per-capita-energy-use.csv') #+ kwt per capita\n",
    "\n",
    "# health\n",
    "child_mortality   = pd.read_csv('Data/child-mortality.csv') #- % of population\n",
    "life_expectancy   = pd.read_csv('Data/life-expectancy.csv') #+ years\n",
    "hunger            = pd.read_csv('Data/prevalence-of-undernourishment.csv') #- % of population\n",
    "sanitation        = pd.read_csv('Data/share-of-population-with-improved-sanitation-faciltities.csv') #+ % of population\n",
    "water             = pd.read_csv('Data/share-of-the-population-with-access-to-improved-drinking-water.csv') #+ % of population\n",
    "\n",
    "# social\n",
    "fertility_rate    = pd.read_csv('Data/children-born-per-woman.csv') #= per woman\n",
    "\n",
    "# ecology\n",
    "co2_emissions     = pd.read_csv('Data/co-emissions-per-capita.csv') #per capita\n",
    "\n",
    "# education\n",
    "literacy_rate     = pd.read_csv('Data/cross-country-literacy-rates.csv') #+ % of population, who can read/write\n",
    "years_of_scooling = pd.read_csv('Data/mean-years-of-schooling-long-run.csv') #+ years\n",
    "\n",
    "# economy\n",
    "gdp_per_capita    = pd.read_csv('Data/maddison-data-gdp-per-capita-in-2011us.csv') #+ per capita\n",
    "population        = pd.read_csv('Data/population-since-1800.csv') #+ population\n",
    "poverty           = pd.read_csv('Data/share-of-population-in-extreme-poverty.csv') #- %*100 of population"
   ]
  },
  {
   "cell_type": "code",
   "execution_count": 5,
   "metadata": {},
   "outputs": [
    {
     "name": "stderr",
     "output_type": "stream",
     "text": [
      "C:\\Users\\hp\\AppData\\Local\\Temp\\ipykernel_22532\\2853724141.py:29: FutureWarning: Passing 'suffixes' which cause duplicate columns {'Entity_x'} in the result is deprecated and will raise a MergeError in a future version.\n",
      "  dfs[0].join(dfs[1:])\n",
      "C:\\Users\\hp\\AppData\\Local\\Temp\\ipykernel_22532\\2853724141.py:29: FutureWarning: Passing 'suffixes' which cause duplicate columns {'Entity_x'} in the result is deprecated and will raise a MergeError in a future version.\n",
      "  dfs[0].join(dfs[1:])\n"
     ]
    }
   ],
   "source": [
    "#@title merging everything\n",
    "dfs = [\n",
    "# energy    \n",
    "       energy_for_food,   #+ %*100 of population\n",
    "       energy_access,     #+ %*100 of population\n",
    "       energy_use,        #+ kwt per capita\n",
    "       \n",
    "# health       \n",
    "       child_mortality,   #- % of population\n",
    "       life_expectancy,   #+ years\n",
    "       hunger,            #- % of population\n",
    "       sanitation,        #+ % of population\n",
    "       water,             #+ % of population\n",
    "       #fertility_rate,    #= per woman\n",
    "\n",
    "# ecology\n",
    "       co2_emissions,     #per capita\n",
    "\n",
    "# education\n",
    "       literacy_rate,     #+ % of population, who can read/write\n",
    "       years_of_scooling,  #+ years\n",
    "\n",
    "# economy\n",
    "       gdp_per_capita,    #+ per capita\n",
    "       population,        #+ population\n",
    "       poverty,           #- %*100 of population\n",
    "       ]\n",
    "dfs = [i.set_index(['Code','Year']) for i in dfs]\n",
    "dfs[0].join(dfs[1:])"
   ]
  }
 ],
 "metadata": {
  "kernelspec": {
   "display_name": "Python 3.10.5 64-bit",
   "language": "python",
   "name": "python3"
  },
  "language_info": {
   "codemirror_mode": {
    "name": "ipython",
    "version": 3
   },
   "file_extension": ".py",
   "mimetype": "text/x-python",
   "name": "python",
   "nbconvert_exporter": "python",
   "pygments_lexer": "ipython3",
   "version": "3.10.5"
  },
  "orig_nbformat": 4,
  "vscode": {
   "interpreter": {
    "hash": "63963b3f4c440940f0b94a3100916033a226cb4f45979123153792d60aa56d6a"
   }
  }
 },
 "nbformat": 4,
 "nbformat_minor": 2
}
