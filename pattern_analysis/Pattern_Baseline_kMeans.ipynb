{
  "cells": [
    {
      "cell_type": "markdown",
      "metadata": {
        "id": "Hb7r2KRqWJmF"
      },
      "source": [
        "## start"
      ]
    },
    {
      "cell_type": "code",
      "execution_count": 1,
      "metadata": {
        "colab": {
          "base_uri": "https://localhost:8080/"
        },
        "id": "ZMQcYnILaDTO",
        "outputId": "2ee5483c-3a92-4b36-c3b3-eaf118ca440d"
      },
      "outputs": [
        {
          "name": "stdout",
          "output_type": "stream",
          "text": [
            "давайте начнем!\n"
          ]
        }
      ],
      "source": [
        "print('давайте начнем!')"
      ]
    },
    {
      "cell_type": "code",
      "execution_count": 2,
      "metadata": {
        "id": "DgLaIEkLpxR-"
      },
      "outputs": [],
      "source": [
        "import pandas as pd\n",
        "import numpy as np\n",
        "import plotly.express as px\n",
        "from sklearn.cluster import KMeans \n",
        "\n",
        "\n",
        "pd.options.display.float_format = '{:,.2f}'.format"
      ]
    },
    {
      "cell_type": "markdown",
      "metadata": {
        "id": "_hSz7MjCWInG"
      },
      "source": [
        "### kMeans"
      ]
    },
    {
      "cell_type": "code",
      "execution_count": 22,
      "metadata": {
        "colab": {
          "base_uri": "https://localhost:8080/",
          "height": 206
        },
        "id": "45y31ATyXJwq",
        "outputId": "48722a5d-d675-4ef1-f64f-30998b0642b5"
      },
      "outputs": [
        {
          "data": {
            "text/html": [
              "<div>\n",
              "<style scoped>\n",
              "    .dataframe tbody tr th:only-of-type {\n",
              "        vertical-align: middle;\n",
              "    }\n",
              "\n",
              "    .dataframe tbody tr th {\n",
              "        vertical-align: top;\n",
              "    }\n",
              "\n",
              "    .dataframe thead th {\n",
              "        text-align: right;\n",
              "    }\n",
              "</style>\n",
              "<table border=\"1\" class=\"dataframe\">\n",
              "  <thead>\n",
              "    <tr style=\"text-align: right;\">\n",
              "      <th></th>\n",
              "      <th>Unnamed: 0</th>\n",
              "      <th>Year</th>\n",
              "      <th>CBPF Name</th>\n",
              "      <th>Cluster</th>\n",
              "      <th>Total Allocations</th>\n",
              "      <th>Targeted People</th>\n",
              "      <th>Reached People</th>\n",
              "    </tr>\n",
              "  </thead>\n",
              "  <tbody>\n",
              "    <tr>\n",
              "      <th>702</th>\n",
              "      <td>0</td>\n",
              "      <td>2019</td>\n",
              "      <td>Afghanistan</td>\n",
              "      <td>Coordination and Support Services</td>\n",
              "      <td>2,000,000.00</td>\n",
              "      <td>3200</td>\n",
              "      <td>1920</td>\n",
              "    </tr>\n",
              "    <tr>\n",
              "      <th>703</th>\n",
              "      <td>1</td>\n",
              "      <td>2019</td>\n",
              "      <td>Afghanistan</td>\n",
              "      <td>Education</td>\n",
              "      <td>3,821,982.50</td>\n",
              "      <td>43731</td>\n",
              "      <td>61916</td>\n",
              "    </tr>\n",
              "    <tr>\n",
              "      <th>704</th>\n",
              "      <td>2</td>\n",
              "      <td>2019</td>\n",
              "      <td>Afghanistan</td>\n",
              "      <td>Emergency Shelter and NFI</td>\n",
              "      <td>21,943,278.17</td>\n",
              "      <td>521670</td>\n",
              "      <td>457183</td>\n",
              "    </tr>\n",
              "    <tr>\n",
              "      <th>705</th>\n",
              "      <td>3</td>\n",
              "      <td>2019</td>\n",
              "      <td>Afghanistan</td>\n",
              "      <td>Food Security</td>\n",
              "      <td>17,002,421.39</td>\n",
              "      <td>1375017</td>\n",
              "      <td>1603740</td>\n",
              "    </tr>\n",
              "    <tr>\n",
              "      <th>706</th>\n",
              "      <td>4</td>\n",
              "      <td>2019</td>\n",
              "      <td>Afghanistan</td>\n",
              "      <td>Health</td>\n",
              "      <td>2,199,711.27</td>\n",
              "      <td>63700</td>\n",
              "      <td>81112</td>\n",
              "    </tr>\n",
              "  </tbody>\n",
              "</table>\n",
              "</div>"
            ],
            "text/plain": [
              "     Unnamed: 0  Year    CBPF Name                            Cluster  \\\n",
              "702           0  2019  Afghanistan  Coordination and Support Services   \n",
              "703           1  2019  Afghanistan                          Education   \n",
              "704           2  2019  Afghanistan          Emergency Shelter and NFI   \n",
              "705           3  2019  Afghanistan                      Food Security   \n",
              "706           4  2019  Afghanistan                             Health   \n",
              "\n",
              "     Total Allocations  Targeted People  Reached People  \n",
              "702       2,000,000.00             3200            1920  \n",
              "703       3,821,982.50            43731           61916  \n",
              "704      21,943,278.17           521670          457183  \n",
              "705      17,002,421.39          1375017         1603740  \n",
              "706       2,199,711.27            63700           81112  "
            ]
          },
          "execution_count": 22,
          "metadata": {},
          "output_type": "execute_result"
        }
      ],
      "source": [
        "money_all = pd.read_csv(r'../Data/sectors_cluster_targeted_total_all_period.csv', encoding='latin-1', on_bad_lines='skip')\n",
        "money_all\n",
        "purp_2019 = money_all[money_all.Year == 2019]\n",
        "purp_2019.head()"
      ]
    },
    {
      "cell_type": "code",
      "execution_count": 4,
      "metadata": {
        "colab": {
          "base_uri": "https://localhost:8080/",
          "height": 299
        },
        "id": "aTUkJs9QXav4",
        "outputId": "dd8c2790-a45b-4d17-c10c-ac2251ad9604"
      },
      "outputs": [
        {
          "data": {
            "text/html": [
              "<div>\n",
              "<style scoped>\n",
              "    .dataframe tbody tr th:only-of-type {\n",
              "        vertical-align: middle;\n",
              "    }\n",
              "\n",
              "    .dataframe tbody tr th {\n",
              "        vertical-align: top;\n",
              "    }\n",
              "\n",
              "    .dataframe thead th {\n",
              "        text-align: right;\n",
              "    }\n",
              "</style>\n",
              "<table border=\"1\" class=\"dataframe\">\n",
              "  <thead>\n",
              "    <tr style=\"text-align: right;\">\n",
              "      <th>Cluster</th>\n",
              "      <th>Camp Coordination / Management</th>\n",
              "      <th>Coordination and Support Services</th>\n",
              "      <th>Early Recovery</th>\n",
              "      <th>Education</th>\n",
              "      <th>Emergency Shelter and NFI</th>\n",
              "      <th>Emergency Telecommunications</th>\n",
              "      <th>Food Security</th>\n",
              "      <th>Health</th>\n",
              "      <th>Logistics</th>\n",
              "      <th>Multi-Sector</th>\n",
              "      <th>Nutrition</th>\n",
              "      <th>Protection</th>\n",
              "      <th>Water Sanitation Hygiene</th>\n",
              "    </tr>\n",
              "    <tr>\n",
              "      <th>CBPF Name</th>\n",
              "      <th></th>\n",
              "      <th></th>\n",
              "      <th></th>\n",
              "      <th></th>\n",
              "      <th></th>\n",
              "      <th></th>\n",
              "      <th></th>\n",
              "      <th></th>\n",
              "      <th></th>\n",
              "      <th></th>\n",
              "      <th></th>\n",
              "      <th></th>\n",
              "      <th></th>\n",
              "    </tr>\n",
              "  </thead>\n",
              "  <tbody>\n",
              "    <tr>\n",
              "      <th>Afghanistan</th>\n",
              "      <td>0.00</td>\n",
              "      <td>0.10</td>\n",
              "      <td>0.00</td>\n",
              "      <td>0.28</td>\n",
              "      <td>0.83</td>\n",
              "      <td>0.00</td>\n",
              "      <td>0.48</td>\n",
              "      <td>0.03</td>\n",
              "      <td>0.00</td>\n",
              "      <td>0.00</td>\n",
              "      <td>0.73</td>\n",
              "      <td>0.22</td>\n",
              "      <td>0.07</td>\n",
              "    </tr>\n",
              "    <tr>\n",
              "      <th>CAR</th>\n",
              "      <td>0.03</td>\n",
              "      <td>0.06</td>\n",
              "      <td>0.28</td>\n",
              "      <td>0.18</td>\n",
              "      <td>0.10</td>\n",
              "      <td>1.00</td>\n",
              "      <td>0.14</td>\n",
              "      <td>0.07</td>\n",
              "      <td>0.84</td>\n",
              "      <td>0.00</td>\n",
              "      <td>0.43</td>\n",
              "      <td>0.21</td>\n",
              "      <td>0.13</td>\n",
              "    </tr>\n",
              "    <tr>\n",
              "      <th>DRC</th>\n",
              "      <td>0.00</td>\n",
              "      <td>0.01</td>\n",
              "      <td>0.00</td>\n",
              "      <td>0.41</td>\n",
              "      <td>0.26</td>\n",
              "      <td>0.00</td>\n",
              "      <td>0.26</td>\n",
              "      <td>0.27</td>\n",
              "      <td>1.00</td>\n",
              "      <td>0.00</td>\n",
              "      <td>0.53</td>\n",
              "      <td>0.57</td>\n",
              "      <td>0.32</td>\n",
              "    </tr>\n",
              "    <tr>\n",
              "      <th>Ethiopia</th>\n",
              "      <td>0.00</td>\n",
              "      <td>0.02</td>\n",
              "      <td>0.00</td>\n",
              "      <td>0.28</td>\n",
              "      <td>0.45</td>\n",
              "      <td>0.00</td>\n",
              "      <td>0.11</td>\n",
              "      <td>0.17</td>\n",
              "      <td>0.00</td>\n",
              "      <td>0.00</td>\n",
              "      <td>0.98</td>\n",
              "      <td>0.26</td>\n",
              "      <td>0.28</td>\n",
              "    </tr>\n",
              "    <tr>\n",
              "      <th>Iraq</th>\n",
              "      <td>0.22</td>\n",
              "      <td>0.13</td>\n",
              "      <td>0.94</td>\n",
              "      <td>0.38</td>\n",
              "      <td>0.67</td>\n",
              "      <td>0.23</td>\n",
              "      <td>0.14</td>\n",
              "      <td>0.18</td>\n",
              "      <td>0.00</td>\n",
              "      <td>1.00</td>\n",
              "      <td>0.00</td>\n",
              "      <td>0.78</td>\n",
              "      <td>0.22</td>\n",
              "    </tr>\n",
              "  </tbody>\n",
              "</table>\n",
              "</div>"
            ],
            "text/plain": [
              "Cluster      Camp Coordination / Management  \\\n",
              "CBPF Name                                     \n",
              "Afghanistan                            0.00   \n",
              "CAR                                    0.03   \n",
              "DRC                                    0.00   \n",
              "Ethiopia                               0.00   \n",
              "Iraq                                   0.22   \n",
              "\n",
              "Cluster      Coordination and Support Services  Early Recovery  Education  \\\n",
              "CBPF Name                                                                   \n",
              "Afghanistan                               0.10            0.00       0.28   \n",
              "CAR                                       0.06            0.28       0.18   \n",
              "DRC                                       0.01            0.00       0.41   \n",
              "Ethiopia                                  0.02            0.00       0.28   \n",
              "Iraq                                      0.13            0.94       0.38   \n",
              "\n",
              "Cluster      Emergency Shelter and NFI  Emergency Telecommunications  \\\n",
              "CBPF Name                                                              \n",
              "Afghanistan                       0.83                          0.00   \n",
              "CAR                               0.10                          1.00   \n",
              "DRC                               0.26                          0.00   \n",
              "Ethiopia                          0.45                          0.00   \n",
              "Iraq                              0.67                          0.23   \n",
              "\n",
              "Cluster      Food Security  Health  Logistics  Multi-Sector  Nutrition  \\\n",
              "CBPF Name                                                                \n",
              "Afghanistan           0.48    0.03       0.00          0.00       0.73   \n",
              "CAR                   0.14    0.07       0.84          0.00       0.43   \n",
              "DRC                   0.26    0.27       1.00          0.00       0.53   \n",
              "Ethiopia              0.11    0.17       0.00          0.00       0.98   \n",
              "Iraq                  0.14    0.18       0.00          1.00       0.00   \n",
              "\n",
              "Cluster      Protection  Water Sanitation Hygiene  \n",
              "CBPF Name                                          \n",
              "Afghanistan        0.22                      0.07  \n",
              "CAR                0.21                      0.13  \n",
              "DRC                0.57                      0.32  \n",
              "Ethiopia           0.26                      0.28  \n",
              "Iraq               0.78                      0.22  "
            ]
          },
          "execution_count": 4,
          "metadata": {},
          "output_type": "execute_result"
        }
      ],
      "source": [
        "df = pd.pivot_table(purp_2019, 'Total Allocations', 'CBPF Name','Cluster').fillna(0)\n",
        "df = (df-df.min())/(df.max()-df.min())\n",
        "df.head()"
      ]
    },
    {
      "cell_type": "code",
      "execution_count": 5,
      "metadata": {
        "colab": {
          "base_uri": "https://localhost:8080/",
          "height": 268
        },
        "id": "5I8pXd4urVai",
        "outputId": "65211332-59f7-4652-9953-020fc59466ed"
      },
      "outputs": [
        {
          "data": {
            "text/html": [
              "<div>\n",
              "<style scoped>\n",
              "    .dataframe tbody tr th:only-of-type {\n",
              "        vertical-align: middle;\n",
              "    }\n",
              "\n",
              "    .dataframe tbody tr th {\n",
              "        vertical-align: top;\n",
              "    }\n",
              "\n",
              "    .dataframe thead th {\n",
              "        text-align: right;\n",
              "    }\n",
              "</style>\n",
              "<table border=\"1\" class=\"dataframe\">\n",
              "  <thead>\n",
              "    <tr style=\"text-align: right;\">\n",
              "      <th>Cluster</th>\n",
              "      <th>CBPF Name</th>\n",
              "      <th>Camp Coordination / Management</th>\n",
              "      <th>Coordination and Support Services</th>\n",
              "      <th>Early Recovery</th>\n",
              "      <th>Education</th>\n",
              "      <th>Emergency Shelter and NFI</th>\n",
              "      <th>Emergency Telecommunications</th>\n",
              "      <th>Food Security</th>\n",
              "      <th>Health</th>\n",
              "      <th>Logistics</th>\n",
              "      <th>Multi-Sector</th>\n",
              "      <th>Nutrition</th>\n",
              "      <th>Protection</th>\n",
              "      <th>Water Sanitation Hygiene</th>\n",
              "      <th>cluster</th>\n",
              "    </tr>\n",
              "  </thead>\n",
              "  <tbody>\n",
              "    <tr>\n",
              "      <th>0</th>\n",
              "      <td>Afghanistan</td>\n",
              "      <td>0.00</td>\n",
              "      <td>0.10</td>\n",
              "      <td>0.00</td>\n",
              "      <td>0.28</td>\n",
              "      <td>0.83</td>\n",
              "      <td>0.00</td>\n",
              "      <td>0.48</td>\n",
              "      <td>0.03</td>\n",
              "      <td>0.00</td>\n",
              "      <td>0.00</td>\n",
              "      <td>0.73</td>\n",
              "      <td>0.22</td>\n",
              "      <td>0.07</td>\n",
              "      <td>3</td>\n",
              "    </tr>\n",
              "    <tr>\n",
              "      <th>1</th>\n",
              "      <td>CAR</td>\n",
              "      <td>0.03</td>\n",
              "      <td>0.06</td>\n",
              "      <td>0.28</td>\n",
              "      <td>0.18</td>\n",
              "      <td>0.10</td>\n",
              "      <td>1.00</td>\n",
              "      <td>0.14</td>\n",
              "      <td>0.07</td>\n",
              "      <td>0.84</td>\n",
              "      <td>0.00</td>\n",
              "      <td>0.43</td>\n",
              "      <td>0.21</td>\n",
              "      <td>0.13</td>\n",
              "      <td>3</td>\n",
              "    </tr>\n",
              "    <tr>\n",
              "      <th>2</th>\n",
              "      <td>DRC</td>\n",
              "      <td>0.00</td>\n",
              "      <td>0.01</td>\n",
              "      <td>0.00</td>\n",
              "      <td>0.41</td>\n",
              "      <td>0.26</td>\n",
              "      <td>0.00</td>\n",
              "      <td>0.26</td>\n",
              "      <td>0.27</td>\n",
              "      <td>1.00</td>\n",
              "      <td>0.00</td>\n",
              "      <td>0.53</td>\n",
              "      <td>0.57</td>\n",
              "      <td>0.32</td>\n",
              "      <td>3</td>\n",
              "    </tr>\n",
              "    <tr>\n",
              "      <th>3</th>\n",
              "      <td>Ethiopia</td>\n",
              "      <td>0.00</td>\n",
              "      <td>0.02</td>\n",
              "      <td>0.00</td>\n",
              "      <td>0.28</td>\n",
              "      <td>0.45</td>\n",
              "      <td>0.00</td>\n",
              "      <td>0.11</td>\n",
              "      <td>0.17</td>\n",
              "      <td>0.00</td>\n",
              "      <td>0.00</td>\n",
              "      <td>0.98</td>\n",
              "      <td>0.26</td>\n",
              "      <td>0.28</td>\n",
              "      <td>3</td>\n",
              "    </tr>\n",
              "    <tr>\n",
              "      <th>4</th>\n",
              "      <td>Iraq</td>\n",
              "      <td>0.22</td>\n",
              "      <td>0.13</td>\n",
              "      <td>0.94</td>\n",
              "      <td>0.38</td>\n",
              "      <td>0.67</td>\n",
              "      <td>0.23</td>\n",
              "      <td>0.14</td>\n",
              "      <td>0.18</td>\n",
              "      <td>0.00</td>\n",
              "      <td>1.00</td>\n",
              "      <td>0.00</td>\n",
              "      <td>0.78</td>\n",
              "      <td>0.22</td>\n",
              "      <td>2</td>\n",
              "    </tr>\n",
              "  </tbody>\n",
              "</table>\n",
              "</div>"
            ],
            "text/plain": [
              "Cluster    CBPF Name  Camp Coordination / Management  \\\n",
              "0        Afghanistan                            0.00   \n",
              "1                CAR                            0.03   \n",
              "2                DRC                            0.00   \n",
              "3           Ethiopia                            0.00   \n",
              "4               Iraq                            0.22   \n",
              "\n",
              "Cluster  Coordination and Support Services  Early Recovery  Education  \\\n",
              "0                                     0.10            0.00       0.28   \n",
              "1                                     0.06            0.28       0.18   \n",
              "2                                     0.01            0.00       0.41   \n",
              "3                                     0.02            0.00       0.28   \n",
              "4                                     0.13            0.94       0.38   \n",
              "\n",
              "Cluster  Emergency Shelter and NFI  Emergency Telecommunications  \\\n",
              "0                             0.83                          0.00   \n",
              "1                             0.10                          1.00   \n",
              "2                             0.26                          0.00   \n",
              "3                             0.45                          0.00   \n",
              "4                             0.67                          0.23   \n",
              "\n",
              "Cluster  Food Security  Health  Logistics  Multi-Sector  Nutrition  \\\n",
              "0                 0.48    0.03       0.00          0.00       0.73   \n",
              "1                 0.14    0.07       0.84          0.00       0.43   \n",
              "2                 0.26    0.27       1.00          0.00       0.53   \n",
              "3                 0.11    0.17       0.00          0.00       0.98   \n",
              "4                 0.14    0.18       0.00          1.00       0.00   \n",
              "\n",
              "Cluster  Protection  Water Sanitation Hygiene  cluster  \n",
              "0              0.22                      0.07        3  \n",
              "1              0.21                      0.13        3  \n",
              "2              0.57                      0.32        3  \n",
              "3              0.26                      0.28        3  \n",
              "4              0.78                      0.22        2  "
            ]
          },
          "execution_count": 5,
          "metadata": {},
          "output_type": "execute_result"
        }
      ],
      "source": [
        "model = KMeans(n_clusters=4, random_state=1).fit(df)\n",
        "cluster = pd.DataFrame(model.predict(df), index=df.index, columns=['cluster'])\n",
        "df2 = df.copy()\n",
        "df2['cluster'] = model.predict(df)\n",
        "df2 = df2.reset_index()\n",
        "\n",
        "df2.head()"
      ]
    },
    {
      "cell_type": "code",
      "execution_count": 6,
      "metadata": {
        "colab": {
          "base_uri": "https://localhost:8080/",
          "height": 268
        },
        "id": "xVfDGshEtQGe",
        "outputId": "4ac805ec-ff6d-431e-e3f7-5a23f5e59518"
      },
      "outputs": [
        {
          "data": {
            "text/html": [
              "<div>\n",
              "<style scoped>\n",
              "    .dataframe tbody tr th:only-of-type {\n",
              "        vertical-align: middle;\n",
              "    }\n",
              "\n",
              "    .dataframe tbody tr th {\n",
              "        vertical-align: top;\n",
              "    }\n",
              "\n",
              "    .dataframe thead th {\n",
              "        text-align: right;\n",
              "    }\n",
              "</style>\n",
              "<table border=\"1\" class=\"dataframe\">\n",
              "  <thead>\n",
              "    <tr style=\"text-align: right;\">\n",
              "      <th>Cluster</th>\n",
              "      <th>Camp Coordination / Management</th>\n",
              "      <th>Coordination and Support Services</th>\n",
              "      <th>Early Recovery</th>\n",
              "      <th>Education</th>\n",
              "      <th>Emergency Shelter and NFI</th>\n",
              "      <th>Emergency Telecommunications</th>\n",
              "      <th>Food Security</th>\n",
              "      <th>Health</th>\n",
              "      <th>Logistics</th>\n",
              "      <th>Multi-Sector</th>\n",
              "      <th>Nutrition</th>\n",
              "      <th>Protection</th>\n",
              "      <th>Water Sanitation Hygiene</th>\n",
              "    </tr>\n",
              "    <tr>\n",
              "      <th>cluster</th>\n",
              "      <th></th>\n",
              "      <th></th>\n",
              "      <th></th>\n",
              "      <th></th>\n",
              "      <th></th>\n",
              "      <th></th>\n",
              "      <th></th>\n",
              "      <th></th>\n",
              "      <th></th>\n",
              "      <th></th>\n",
              "      <th></th>\n",
              "      <th></th>\n",
              "      <th></th>\n",
              "    </tr>\n",
              "  </thead>\n",
              "  <tbody>\n",
              "    <tr>\n",
              "      <th>0</th>\n",
              "      <td>0.01</td>\n",
              "      <td>0.00</td>\n",
              "      <td>0.00</td>\n",
              "      <td>0.14</td>\n",
              "      <td>0.17</td>\n",
              "      <td>0.00</td>\n",
              "      <td>0.08</td>\n",
              "      <td>0.06</td>\n",
              "      <td>0.00</td>\n",
              "      <td>0.03</td>\n",
              "      <td>0.12</td>\n",
              "      <td>0.16</td>\n",
              "      <td>0.10</td>\n",
              "    </tr>\n",
              "    <tr>\n",
              "      <th>1</th>\n",
              "      <td>0.32</td>\n",
              "      <td>1.00</td>\n",
              "      <td>0.00</td>\n",
              "      <td>1.00</td>\n",
              "      <td>1.00</td>\n",
              "      <td>0.00</td>\n",
              "      <td>1.00</td>\n",
              "      <td>1.00</td>\n",
              "      <td>0.00</td>\n",
              "      <td>0.95</td>\n",
              "      <td>0.35</td>\n",
              "      <td>1.00</td>\n",
              "      <td>1.00</td>\n",
              "    </tr>\n",
              "    <tr>\n",
              "      <th>2</th>\n",
              "      <td>0.61</td>\n",
              "      <td>0.11</td>\n",
              "      <td>0.97</td>\n",
              "      <td>0.64</td>\n",
              "      <td>0.69</td>\n",
              "      <td>0.11</td>\n",
              "      <td>0.28</td>\n",
              "      <td>0.20</td>\n",
              "      <td>0.00</td>\n",
              "      <td>0.50</td>\n",
              "      <td>0.10</td>\n",
              "      <td>0.61</td>\n",
              "      <td>0.37</td>\n",
              "    </tr>\n",
              "    <tr>\n",
              "      <th>3</th>\n",
              "      <td>0.03</td>\n",
              "      <td>0.04</td>\n",
              "      <td>0.05</td>\n",
              "      <td>0.32</td>\n",
              "      <td>0.33</td>\n",
              "      <td>0.17</td>\n",
              "      <td>0.25</td>\n",
              "      <td>0.16</td>\n",
              "      <td>0.44</td>\n",
              "      <td>0.00</td>\n",
              "      <td>0.70</td>\n",
              "      <td>0.37</td>\n",
              "      <td>0.23</td>\n",
              "    </tr>\n",
              "  </tbody>\n",
              "</table>\n",
              "</div>"
            ],
            "text/plain": [
              "Cluster  Camp Coordination / Management  Coordination and Support Services  \\\n",
              "cluster                                                                      \n",
              "0                                  0.01                               0.00   \n",
              "1                                  0.32                               1.00   \n",
              "2                                  0.61                               0.11   \n",
              "3                                  0.03                               0.04   \n",
              "\n",
              "Cluster  Early Recovery  Education  Emergency Shelter and NFI  \\\n",
              "cluster                                                         \n",
              "0                  0.00       0.14                       0.17   \n",
              "1                  0.00       1.00                       1.00   \n",
              "2                  0.97       0.64                       0.69   \n",
              "3                  0.05       0.32                       0.33   \n",
              "\n",
              "Cluster  Emergency Telecommunications  Food Security  Health  Logistics  \\\n",
              "cluster                                                                   \n",
              "0                                0.00           0.08    0.06       0.00   \n",
              "1                                0.00           1.00    1.00       0.00   \n",
              "2                                0.11           0.28    0.20       0.00   \n",
              "3                                0.17           0.25    0.16       0.44   \n",
              "\n",
              "Cluster  Multi-Sector  Nutrition  Protection  Water Sanitation Hygiene  \n",
              "cluster                                                                 \n",
              "0                0.03       0.12        0.16                      0.10  \n",
              "1                0.95       0.35        1.00                      1.00  \n",
              "2                0.50       0.10        0.61                      0.37  \n",
              "3                0.00       0.70        0.37                      0.23  "
            ]
          },
          "execution_count": 6,
          "metadata": {},
          "output_type": "execute_result"
        }
      ],
      "source": [
        "df2.groupby('cluster').mean()"
      ]
    },
    {
      "cell_type": "code",
      "execution_count": 16,
      "metadata": {
        "cellView": "form",
        "colab": {
          "base_uri": "https://localhost:8080/",
          "height": 542
        },
        "id": "xsHu3f4ralHA",
        "outputId": "50461c93-cb5e-4e3f-b9e3-40d934652bf6"
      },
      "outputs": [
        {
          "data": {
            "application/vnd.plotly.v1+json": {
              "config": {
                "plotlyServerURL": "https://plot.ly"
              },
              "data": [
                {
                  "dimensions": [
                    {
                      "label": "Logistics",
                      "values": [
                        0,
                        0.8378621151794734,
                        1,
                        0,
                        0,
                        0,
                        0,
                        0,
                        0,
                        0,
                        0,
                        0.6441800384147265,
                        0.15807606447964112,
                        0,
                        0,
                        0,
                        0,
                        0
                      ]
                    },
                    {
                      "label": "Emergency Telecommunications",
                      "values": [
                        0,
                        1,
                        0,
                        0,
                        0.22610770403685407,
                        0,
                        0,
                        0,
                        0,
                        0,
                        0,
                        0,
                        0,
                        0,
                        0,
                        0,
                        0,
                        0
                      ]
                    },
                    {
                      "label": "Early Recovery",
                      "values": [
                        0,
                        0.2816339295827223,
                        0,
                        0,
                        0.939224735663007,
                        0,
                        0,
                        0,
                        0,
                        0,
                        0,
                        0,
                        0,
                        0,
                        1,
                        0,
                        0,
                        0
                      ]
                    },
                    {
                      "label": "Camp Coordination / Management",
                      "values": [
                        0,
                        0.03329189236284249,
                        0,
                        0,
                        0.21746291509022922,
                        0,
                        0,
                        0.01656619482235162,
                        0,
                        0,
                        0.11793678709208774,
                        0.12920501994704295,
                        0,
                        0,
                        1,
                        0,
                        0.3168452604988761,
                        0
                      ]
                    },
                    {
                      "label": "Multi-Sector",
                      "values": [
                        0,
                        0,
                        0,
                        0,
                        1,
                        0,
                        0,
                        0,
                        0,
                        0,
                        0.26267270315132996,
                        0,
                        0,
                        0,
                        0,
                        0,
                        0.9545349998803473,
                        0
                      ]
                    },
                    {
                      "label": "Coordination and Support Services",
                      "values": [
                        0.10177957008388984,
                        0.06357012509428746,
                        0.010076137235374911,
                        0.015069612406674735,
                        0.12511123476492023,
                        0,
                        0,
                        0,
                        0.035622847391990474,
                        0,
                        0,
                        0.029516074815430202,
                        0,
                        0,
                        0.10397219616645438,
                        0,
                        1,
                        0
                      ]
                    },
                    {
                      "label": "Health",
                      "values": [
                        0.025928981646840002,
                        0.07204769823487742,
                        0.2725275536331178,
                        0.16528747822662238,
                        0.1831233205261897,
                        0.026905610336599904,
                        0.04975482532442632,
                        0.0380870426392085,
                        0.06432534294726507,
                        0.010071497710096685,
                        0.0870479413159451,
                        0.2289208770178255,
                        0.21983150367396337,
                        0.1369791487214641,
                        0.2121730224234806,
                        0,
                        1,
                        0.1237121143553063
                      ]
                    },
                    {
                      "label": "Food Security",
                      "values": [
                        0.4830294675259244,
                        0.1431819261094648,
                        0.2594122058556206,
                        0.11274619448867679,
                        0.14167930594094272,
                        0,
                        0,
                        0.05538699418491534,
                        0,
                        0.05479555079640997,
                        0.22439658421817216,
                        0.21243809224721222,
                        0.296428687195594,
                        0.18036480671463853,
                        0.4209542276284217,
                        0.015785046260027632,
                        1,
                        0.16203063017480912
                      ]
                    },
                    {
                      "label": "Water Sanitation Hygiene",
                      "values": [
                        0.07175152490274853,
                        0.1254389402794596,
                        0.3247030729519912,
                        0.27770309334953497,
                        0.21633179538438843,
                        0.02018573129363729,
                        0,
                        0.042757811322124174,
                        0.1286320056173185,
                        0.06748083032996927,
                        0.2682940050058659,
                        0.2738357075500283,
                        0.3036874979280388,
                        0.28349638319641746,
                        0.5253625175156232,
                        0.016210947162086622,
                        1,
                        0.07811607963240255
                      ]
                    },
                    {
                      "label": "Protection",
                      "values": [
                        0.21878583544348912,
                        0.20672765674234947,
                        0.5728630003406728,
                        0.2594724965185029,
                        0.7770414348242016,
                        0.09673576051525246,
                        0.10859461893567249,
                        0.1331797491419503,
                        0.15857111549618963,
                        0,
                        0.3090585124413156,
                        0.6930489436487355,
                        0.2834180638338264,
                        0.37202493866796293,
                        0.434768226746724,
                        0.027450481884811487,
                        1,
                        0.2599166525652676
                      ]
                    },
                    {
                      "label": "Emergency Shelter and NFI",
                      "values": [
                        0.8293894521609598,
                        0.09565551947305102,
                        0.26216021631287817,
                        0.45453991227696094,
                        0.6721782171538286,
                        0.1355742302620397,
                        0.15510853686918355,
                        0.1014209744842396,
                        0.41590835077369637,
                        0,
                        0.21493330342700262,
                        0.25422879787678276,
                        0.06425545950429026,
                        0.29437903461487275,
                        0.6990737264390657,
                        0.01738102790850144,
                        1,
                        0.16038359631121263
                      ]
                    },
                    {
                      "label": "Education",
                      "values": [
                        0.2824400316482488,
                        0.1776527899876608,
                        0.4075241095724411,
                        0.2800767293442397,
                        0.3799866958610077,
                        0,
                        0.07722593988424378,
                        0.14128736986639753,
                        0,
                        0,
                        0.3908508014958179,
                        0.39704324754872755,
                        0.3690223413418409,
                        0.5572152397650265,
                        0.8929830876859566,
                        0,
                        1,
                        0.06048762765234029
                      ]
                    },
                    {
                      "label": "Nutrition",
                      "values": [
                        0.7338244059627997,
                        0.4269155145181195,
                        0.526700810036975,
                        0.981077914856939,
                        0,
                        0,
                        0,
                        0.08410781547866181,
                        0.17942421066257036,
                        0.2049073727830778,
                        0.4751259867885701,
                        1,
                        0.5353213709490793,
                        0.09784893617914642,
                        0.1921544774643292,
                        0,
                        0.34806439025882957,
                        0
                      ]
                    },
                    {
                      "label": "cluster",
                      "values": [
                        3,
                        3,
                        3,
                        3,
                        2,
                        0,
                        0,
                        0,
                        0,
                        0,
                        0,
                        3,
                        3,
                        0,
                        2,
                        0,
                        1,
                        0
                      ]
                    }
                  ],
                  "domain": {
                    "x": [
                      0,
                      1
                    ],
                    "y": [
                      0,
                      1
                    ]
                  },
                  "line": {
                    "color": [
                      3,
                      3,
                      3,
                      3,
                      2,
                      0,
                      0,
                      0,
                      0,
                      0,
                      0,
                      3,
                      3,
                      0,
                      2,
                      0,
                      1,
                      0
                    ],
                    "coloraxis": "coloraxis"
                  },
                  "name": "",
                  "type": "parcoords"
                }
              ],
              "layout": {
                "coloraxis": {
                  "colorbar": {
                    "title": {
                      "text": "cluster"
                    }
                  },
                  "colorscale": [
                    [
                      0,
                      "#0d0887"
                    ],
                    [
                      0.1111111111111111,
                      "#46039f"
                    ],
                    [
                      0.2222222222222222,
                      "#7201a8"
                    ],
                    [
                      0.3333333333333333,
                      "#9c179e"
                    ],
                    [
                      0.4444444444444444,
                      "#bd3786"
                    ],
                    [
                      0.5555555555555556,
                      "#d8576b"
                    ],
                    [
                      0.6666666666666666,
                      "#ed7953"
                    ],
                    [
                      0.7777777777777778,
                      "#fb9f3a"
                    ],
                    [
                      0.8888888888888888,
                      "#fdca26"
                    ],
                    [
                      1,
                      "#f0f921"
                    ]
                  ]
                },
                "legend": {
                  "tracegroupgap": 0
                },
                "template": {
                  "data": {
                    "bar": [
                      {
                        "error_x": {
                          "color": "#2a3f5f"
                        },
                        "error_y": {
                          "color": "#2a3f5f"
                        },
                        "marker": {
                          "line": {
                            "color": "#E5ECF6",
                            "width": 0.5
                          },
                          "pattern": {
                            "fillmode": "overlay",
                            "size": 10,
                            "solidity": 0.2
                          }
                        },
                        "type": "bar"
                      }
                    ],
                    "barpolar": [
                      {
                        "marker": {
                          "line": {
                            "color": "#E5ECF6",
                            "width": 0.5
                          },
                          "pattern": {
                            "fillmode": "overlay",
                            "size": 10,
                            "solidity": 0.2
                          }
                        },
                        "type": "barpolar"
                      }
                    ],
                    "carpet": [
                      {
                        "aaxis": {
                          "endlinecolor": "#2a3f5f",
                          "gridcolor": "white",
                          "linecolor": "white",
                          "minorgridcolor": "white",
                          "startlinecolor": "#2a3f5f"
                        },
                        "baxis": {
                          "endlinecolor": "#2a3f5f",
                          "gridcolor": "white",
                          "linecolor": "white",
                          "minorgridcolor": "white",
                          "startlinecolor": "#2a3f5f"
                        },
                        "type": "carpet"
                      }
                    ],
                    "choropleth": [
                      {
                        "colorbar": {
                          "outlinewidth": 0,
                          "ticks": ""
                        },
                        "type": "choropleth"
                      }
                    ],
                    "contour": [
                      {
                        "colorbar": {
                          "outlinewidth": 0,
                          "ticks": ""
                        },
                        "colorscale": [
                          [
                            0,
                            "#0d0887"
                          ],
                          [
                            0.1111111111111111,
                            "#46039f"
                          ],
                          [
                            0.2222222222222222,
                            "#7201a8"
                          ],
                          [
                            0.3333333333333333,
                            "#9c179e"
                          ],
                          [
                            0.4444444444444444,
                            "#bd3786"
                          ],
                          [
                            0.5555555555555556,
                            "#d8576b"
                          ],
                          [
                            0.6666666666666666,
                            "#ed7953"
                          ],
                          [
                            0.7777777777777778,
                            "#fb9f3a"
                          ],
                          [
                            0.8888888888888888,
                            "#fdca26"
                          ],
                          [
                            1,
                            "#f0f921"
                          ]
                        ],
                        "type": "contour"
                      }
                    ],
                    "contourcarpet": [
                      {
                        "colorbar": {
                          "outlinewidth": 0,
                          "ticks": ""
                        },
                        "type": "contourcarpet"
                      }
                    ],
                    "heatmap": [
                      {
                        "colorbar": {
                          "outlinewidth": 0,
                          "ticks": ""
                        },
                        "colorscale": [
                          [
                            0,
                            "#0d0887"
                          ],
                          [
                            0.1111111111111111,
                            "#46039f"
                          ],
                          [
                            0.2222222222222222,
                            "#7201a8"
                          ],
                          [
                            0.3333333333333333,
                            "#9c179e"
                          ],
                          [
                            0.4444444444444444,
                            "#bd3786"
                          ],
                          [
                            0.5555555555555556,
                            "#d8576b"
                          ],
                          [
                            0.6666666666666666,
                            "#ed7953"
                          ],
                          [
                            0.7777777777777778,
                            "#fb9f3a"
                          ],
                          [
                            0.8888888888888888,
                            "#fdca26"
                          ],
                          [
                            1,
                            "#f0f921"
                          ]
                        ],
                        "type": "heatmap"
                      }
                    ],
                    "heatmapgl": [
                      {
                        "colorbar": {
                          "outlinewidth": 0,
                          "ticks": ""
                        },
                        "colorscale": [
                          [
                            0,
                            "#0d0887"
                          ],
                          [
                            0.1111111111111111,
                            "#46039f"
                          ],
                          [
                            0.2222222222222222,
                            "#7201a8"
                          ],
                          [
                            0.3333333333333333,
                            "#9c179e"
                          ],
                          [
                            0.4444444444444444,
                            "#bd3786"
                          ],
                          [
                            0.5555555555555556,
                            "#d8576b"
                          ],
                          [
                            0.6666666666666666,
                            "#ed7953"
                          ],
                          [
                            0.7777777777777778,
                            "#fb9f3a"
                          ],
                          [
                            0.8888888888888888,
                            "#fdca26"
                          ],
                          [
                            1,
                            "#f0f921"
                          ]
                        ],
                        "type": "heatmapgl"
                      }
                    ],
                    "histogram": [
                      {
                        "marker": {
                          "pattern": {
                            "fillmode": "overlay",
                            "size": 10,
                            "solidity": 0.2
                          }
                        },
                        "type": "histogram"
                      }
                    ],
                    "histogram2d": [
                      {
                        "colorbar": {
                          "outlinewidth": 0,
                          "ticks": ""
                        },
                        "colorscale": [
                          [
                            0,
                            "#0d0887"
                          ],
                          [
                            0.1111111111111111,
                            "#46039f"
                          ],
                          [
                            0.2222222222222222,
                            "#7201a8"
                          ],
                          [
                            0.3333333333333333,
                            "#9c179e"
                          ],
                          [
                            0.4444444444444444,
                            "#bd3786"
                          ],
                          [
                            0.5555555555555556,
                            "#d8576b"
                          ],
                          [
                            0.6666666666666666,
                            "#ed7953"
                          ],
                          [
                            0.7777777777777778,
                            "#fb9f3a"
                          ],
                          [
                            0.8888888888888888,
                            "#fdca26"
                          ],
                          [
                            1,
                            "#f0f921"
                          ]
                        ],
                        "type": "histogram2d"
                      }
                    ],
                    "histogram2dcontour": [
                      {
                        "colorbar": {
                          "outlinewidth": 0,
                          "ticks": ""
                        },
                        "colorscale": [
                          [
                            0,
                            "#0d0887"
                          ],
                          [
                            0.1111111111111111,
                            "#46039f"
                          ],
                          [
                            0.2222222222222222,
                            "#7201a8"
                          ],
                          [
                            0.3333333333333333,
                            "#9c179e"
                          ],
                          [
                            0.4444444444444444,
                            "#bd3786"
                          ],
                          [
                            0.5555555555555556,
                            "#d8576b"
                          ],
                          [
                            0.6666666666666666,
                            "#ed7953"
                          ],
                          [
                            0.7777777777777778,
                            "#fb9f3a"
                          ],
                          [
                            0.8888888888888888,
                            "#fdca26"
                          ],
                          [
                            1,
                            "#f0f921"
                          ]
                        ],
                        "type": "histogram2dcontour"
                      }
                    ],
                    "mesh3d": [
                      {
                        "colorbar": {
                          "outlinewidth": 0,
                          "ticks": ""
                        },
                        "type": "mesh3d"
                      }
                    ],
                    "parcoords": [
                      {
                        "line": {
                          "colorbar": {
                            "outlinewidth": 0,
                            "ticks": ""
                          }
                        },
                        "type": "parcoords"
                      }
                    ],
                    "pie": [
                      {
                        "automargin": true,
                        "type": "pie"
                      }
                    ],
                    "scatter": [
                      {
                        "fillpattern": {
                          "fillmode": "overlay",
                          "size": 10,
                          "solidity": 0.2
                        },
                        "type": "scatter"
                      }
                    ],
                    "scatter3d": [
                      {
                        "line": {
                          "colorbar": {
                            "outlinewidth": 0,
                            "ticks": ""
                          }
                        },
                        "marker": {
                          "colorbar": {
                            "outlinewidth": 0,
                            "ticks": ""
                          }
                        },
                        "type": "scatter3d"
                      }
                    ],
                    "scattercarpet": [
                      {
                        "marker": {
                          "colorbar": {
                            "outlinewidth": 0,
                            "ticks": ""
                          }
                        },
                        "type": "scattercarpet"
                      }
                    ],
                    "scattergeo": [
                      {
                        "marker": {
                          "colorbar": {
                            "outlinewidth": 0,
                            "ticks": ""
                          }
                        },
                        "type": "scattergeo"
                      }
                    ],
                    "scattergl": [
                      {
                        "marker": {
                          "colorbar": {
                            "outlinewidth": 0,
                            "ticks": ""
                          }
                        },
                        "type": "scattergl"
                      }
                    ],
                    "scattermapbox": [
                      {
                        "marker": {
                          "colorbar": {
                            "outlinewidth": 0,
                            "ticks": ""
                          }
                        },
                        "type": "scattermapbox"
                      }
                    ],
                    "scatterpolar": [
                      {
                        "marker": {
                          "colorbar": {
                            "outlinewidth": 0,
                            "ticks": ""
                          }
                        },
                        "type": "scatterpolar"
                      }
                    ],
                    "scatterpolargl": [
                      {
                        "marker": {
                          "colorbar": {
                            "outlinewidth": 0,
                            "ticks": ""
                          }
                        },
                        "type": "scatterpolargl"
                      }
                    ],
                    "scatterternary": [
                      {
                        "marker": {
                          "colorbar": {
                            "outlinewidth": 0,
                            "ticks": ""
                          }
                        },
                        "type": "scatterternary"
                      }
                    ],
                    "surface": [
                      {
                        "colorbar": {
                          "outlinewidth": 0,
                          "ticks": ""
                        },
                        "colorscale": [
                          [
                            0,
                            "#0d0887"
                          ],
                          [
                            0.1111111111111111,
                            "#46039f"
                          ],
                          [
                            0.2222222222222222,
                            "#7201a8"
                          ],
                          [
                            0.3333333333333333,
                            "#9c179e"
                          ],
                          [
                            0.4444444444444444,
                            "#bd3786"
                          ],
                          [
                            0.5555555555555556,
                            "#d8576b"
                          ],
                          [
                            0.6666666666666666,
                            "#ed7953"
                          ],
                          [
                            0.7777777777777778,
                            "#fb9f3a"
                          ],
                          [
                            0.8888888888888888,
                            "#fdca26"
                          ],
                          [
                            1,
                            "#f0f921"
                          ]
                        ],
                        "type": "surface"
                      }
                    ],
                    "table": [
                      {
                        "cells": {
                          "fill": {
                            "color": "#EBF0F8"
                          },
                          "line": {
                            "color": "white"
                          }
                        },
                        "header": {
                          "fill": {
                            "color": "#C8D4E3"
                          },
                          "line": {
                            "color": "white"
                          }
                        },
                        "type": "table"
                      }
                    ]
                  },
                  "layout": {
                    "annotationdefaults": {
                      "arrowcolor": "#2a3f5f",
                      "arrowhead": 0,
                      "arrowwidth": 1
                    },
                    "autotypenumbers": "strict",
                    "coloraxis": {
                      "colorbar": {
                        "outlinewidth": 0,
                        "ticks": ""
                      }
                    },
                    "colorscale": {
                      "diverging": [
                        [
                          0,
                          "#8e0152"
                        ],
                        [
                          0.1,
                          "#c51b7d"
                        ],
                        [
                          0.2,
                          "#de77ae"
                        ],
                        [
                          0.3,
                          "#f1b6da"
                        ],
                        [
                          0.4,
                          "#fde0ef"
                        ],
                        [
                          0.5,
                          "#f7f7f7"
                        ],
                        [
                          0.6,
                          "#e6f5d0"
                        ],
                        [
                          0.7,
                          "#b8e186"
                        ],
                        [
                          0.8,
                          "#7fbc41"
                        ],
                        [
                          0.9,
                          "#4d9221"
                        ],
                        [
                          1,
                          "#276419"
                        ]
                      ],
                      "sequential": [
                        [
                          0,
                          "#0d0887"
                        ],
                        [
                          0.1111111111111111,
                          "#46039f"
                        ],
                        [
                          0.2222222222222222,
                          "#7201a8"
                        ],
                        [
                          0.3333333333333333,
                          "#9c179e"
                        ],
                        [
                          0.4444444444444444,
                          "#bd3786"
                        ],
                        [
                          0.5555555555555556,
                          "#d8576b"
                        ],
                        [
                          0.6666666666666666,
                          "#ed7953"
                        ],
                        [
                          0.7777777777777778,
                          "#fb9f3a"
                        ],
                        [
                          0.8888888888888888,
                          "#fdca26"
                        ],
                        [
                          1,
                          "#f0f921"
                        ]
                      ],
                      "sequentialminus": [
                        [
                          0,
                          "#0d0887"
                        ],
                        [
                          0.1111111111111111,
                          "#46039f"
                        ],
                        [
                          0.2222222222222222,
                          "#7201a8"
                        ],
                        [
                          0.3333333333333333,
                          "#9c179e"
                        ],
                        [
                          0.4444444444444444,
                          "#bd3786"
                        ],
                        [
                          0.5555555555555556,
                          "#d8576b"
                        ],
                        [
                          0.6666666666666666,
                          "#ed7953"
                        ],
                        [
                          0.7777777777777778,
                          "#fb9f3a"
                        ],
                        [
                          0.8888888888888888,
                          "#fdca26"
                        ],
                        [
                          1,
                          "#f0f921"
                        ]
                      ]
                    },
                    "colorway": [
                      "#636efa",
                      "#EF553B",
                      "#00cc96",
                      "#ab63fa",
                      "#FFA15A",
                      "#19d3f3",
                      "#FF6692",
                      "#B6E880",
                      "#FF97FF",
                      "#FECB52"
                    ],
                    "font": {
                      "color": "#2a3f5f"
                    },
                    "geo": {
                      "bgcolor": "white",
                      "lakecolor": "white",
                      "landcolor": "#E5ECF6",
                      "showlakes": true,
                      "showland": true,
                      "subunitcolor": "white"
                    },
                    "hoverlabel": {
                      "align": "left"
                    },
                    "hovermode": "closest",
                    "mapbox": {
                      "style": "light"
                    },
                    "paper_bgcolor": "white",
                    "plot_bgcolor": "#E5ECF6",
                    "polar": {
                      "angularaxis": {
                        "gridcolor": "white",
                        "linecolor": "white",
                        "ticks": ""
                      },
                      "bgcolor": "#E5ECF6",
                      "radialaxis": {
                        "gridcolor": "white",
                        "linecolor": "white",
                        "ticks": ""
                      }
                    },
                    "scene": {
                      "xaxis": {
                        "backgroundcolor": "#E5ECF6",
                        "gridcolor": "white",
                        "gridwidth": 2,
                        "linecolor": "white",
                        "showbackground": true,
                        "ticks": "",
                        "zerolinecolor": "white"
                      },
                      "yaxis": {
                        "backgroundcolor": "#E5ECF6",
                        "gridcolor": "white",
                        "gridwidth": 2,
                        "linecolor": "white",
                        "showbackground": true,
                        "ticks": "",
                        "zerolinecolor": "white"
                      },
                      "zaxis": {
                        "backgroundcolor": "#E5ECF6",
                        "gridcolor": "white",
                        "gridwidth": 2,
                        "linecolor": "white",
                        "showbackground": true,
                        "ticks": "",
                        "zerolinecolor": "white"
                      }
                    },
                    "shapedefaults": {
                      "line": {
                        "color": "#2a3f5f"
                      }
                    },
                    "ternary": {
                      "aaxis": {
                        "gridcolor": "white",
                        "linecolor": "white",
                        "ticks": ""
                      },
                      "baxis": {
                        "gridcolor": "white",
                        "linecolor": "white",
                        "ticks": ""
                      },
                      "bgcolor": "#E5ECF6",
                      "caxis": {
                        "gridcolor": "white",
                        "linecolor": "white",
                        "ticks": ""
                      }
                    },
                    "title": {
                      "x": 0.05
                    },
                    "xaxis": {
                      "automargin": true,
                      "gridcolor": "white",
                      "linecolor": "white",
                      "ticks": "",
                      "title": {
                        "standoff": 15
                      },
                      "zerolinecolor": "white",
                      "zerolinewidth": 2
                    },
                    "yaxis": {
                      "automargin": true,
                      "gridcolor": "white",
                      "linecolor": "white",
                      "ticks": "",
                      "title": {
                        "standoff": 15
                      },
                      "zerolinecolor": "white",
                      "zerolinewidth": 2
                    }
                  }
                },
                "title": {
                  "text": "завтра 28ое сентября"
                }
              }
            }
          },
          "metadata": {},
          "output_type": "display_data"
        },
        {
          "data": {
            "text/html": [
              "<div>\n",
              "<style scoped>\n",
              "    .dataframe tbody tr th:only-of-type {\n",
              "        vertical-align: middle;\n",
              "    }\n",
              "\n",
              "    .dataframe tbody tr th {\n",
              "        vertical-align: top;\n",
              "    }\n",
              "\n",
              "    .dataframe thead th {\n",
              "        text-align: right;\n",
              "    }\n",
              "</style>\n",
              "<table border=\"1\" class=\"dataframe\">\n",
              "  <thead>\n",
              "    <tr style=\"text-align: right;\">\n",
              "      <th></th>\n",
              "      <th>Cluster</th>\n",
              "    </tr>\n",
              "    <tr>\n",
              "      <th>cluster</th>\n",
              "      <th>CBPF Name</th>\n",
              "    </tr>\n",
              "  </thead>\n",
              "  <tbody>\n",
              "    <tr>\n",
              "      <th rowspan=\"9\" valign=\"top\">0</th>\n",
              "      <th>Jordan</th>\n",
              "    </tr>\n",
              "    <tr>\n",
              "      <th>Lebanon</th>\n",
              "    </tr>\n",
              "    <tr>\n",
              "      <th>Myanmar</th>\n",
              "    </tr>\n",
              "    <tr>\n",
              "      <th>Nigeria</th>\n",
              "    </tr>\n",
              "    <tr>\n",
              "      <th>Pakistan</th>\n",
              "    </tr>\n",
              "    <tr>\n",
              "      <th>Somalia</th>\n",
              "    </tr>\n",
              "    <tr>\n",
              "      <th>Syria</th>\n",
              "    </tr>\n",
              "    <tr>\n",
              "      <th>Ukraine</th>\n",
              "    </tr>\n",
              "    <tr>\n",
              "      <th>oPt</th>\n",
              "    </tr>\n",
              "    <tr>\n",
              "      <th>1</th>\n",
              "      <th>Yemen</th>\n",
              "    </tr>\n",
              "    <tr>\n",
              "      <th rowspan=\"2\" valign=\"top\">2</th>\n",
              "      <th>Iraq</th>\n",
              "    </tr>\n",
              "    <tr>\n",
              "      <th>Syria Cross border</th>\n",
              "    </tr>\n",
              "    <tr>\n",
              "      <th rowspan=\"6\" valign=\"top\">3</th>\n",
              "      <th>Afghanistan</th>\n",
              "    </tr>\n",
              "    <tr>\n",
              "      <th>CAR</th>\n",
              "    </tr>\n",
              "    <tr>\n",
              "      <th>DRC</th>\n",
              "    </tr>\n",
              "    <tr>\n",
              "      <th>Ethiopia</th>\n",
              "    </tr>\n",
              "    <tr>\n",
              "      <th>South Sudan</th>\n",
              "    </tr>\n",
              "    <tr>\n",
              "      <th>Sudan</th>\n",
              "    </tr>\n",
              "  </tbody>\n",
              "</table>\n",
              "</div>"
            ],
            "text/plain": [
              "Empty DataFrame\n",
              "Columns: []\n",
              "Index: [(0, Jordan), (0, Lebanon), (0, Myanmar), (0, Nigeria), (0, Pakistan), (0, Somalia), (0, Syria), (0, Ukraine), (0, oPt), (1, Yemen), (2, Iraq), (2, Syria Cross border), (3, Afghanistan), (3, CAR), (3, DRC), (3, Ethiopia), (3, South Sudan), (3, Sudan)]"
            ]
          },
          "metadata": {},
          "output_type": "display_data"
        }
      ],
      "source": [
        "#@title завтра 31ое сентября\n",
        "df3 = pd.DataFrame()\n",
        "# for i in [0,1,3,4]:\n",
        "#     df3 = pd.concat([df3, df2[(df2.cluster == i)]])\n",
        "df3 = df2.copy()\n",
        "\n",
        "# pd.DataFrame(df3.groupby(['cluster',])['CBPF Name'].apply(list))\n",
        "dimensions = ['Logistics','Emergency Telecommunications', 'Early Recovery', 'Camp Coordination / Management',\n",
        " 'Multi-Sector', 'Coordination and Support Services', 'Health', 'Food Security', 'Water Sanitation Hygiene',\n",
        " 'Protection', 'Emergency Shelter and NFI','Education', 'Nutrition','cluster']\n",
        " \n",
        "px.parallel_coordinates(df3, dimensions=dimensions,title='завтра 28ое сентября', color=df3.cluster, labels ='CBPF Name').show()\n",
        "\n",
        "display(df3[['cluster','CBPF Name']].groupby(['cluster','CBPF Name']).count())"
      ]
    }
  ],
  "metadata": {
    "colab": {
      "provenance": []
    },
    "kernelspec": {
      "display_name": "Python 3.10.5 64-bit",
      "language": "python",
      "name": "python3"
    },
    "language_info": {
      "name": "python",
      "version": "3.10.5"
    },
    "vscode": {
      "interpreter": {
        "hash": "63963b3f4c440940f0b94a3100916033a226cb4f45979123153792d60aa56d6a"
      }
    }
  },
  "nbformat": 4,
  "nbformat_minor": 0
}
